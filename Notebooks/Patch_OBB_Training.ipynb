{
  "nbformat": 4,
  "nbformat_minor": 0,
  "metadata": {
    "colab": {
      "provenance": [],
      "gpuType": "T4"
    },
    "kernelspec": {
      "name": "python3",
      "display_name": "Python 3"
    },
    "language_info": {
      "name": "python"
    },
    "accelerator": "GPU"
  },
  "cells": [
    {
      "cell_type": "code",
      "execution_count": 1,
      "metadata": {
        "colab": {
          "base_uri": "https://localhost:8080/"
        },
        "id": "LKAQAfaw9f_F",
        "outputId": "78f65ce8-9ea9-48bd-a5a4-b3a972a28431"
      },
      "outputs": [
        {
          "output_type": "stream",
          "name": "stdout",
          "text": [
            "Mounted at /content/drive\n"
          ]
        }
      ],
      "source": [
        "from google.colab import drive\n",
        "drive.mount('/content/drive')"
      ]
    },
    {
      "cell_type": "code",
      "source": [
        "!gdown --id 1XVsxdtmGndfZCys_byTFfKLlHs4nineH"
      ],
      "metadata": {
        "colab": {
          "base_uri": "https://localhost:8080/"
        },
        "id": "7Z9vmzyw-qIp",
        "outputId": "e4fbef72-b7ce-455b-81ac-a602d4bc5797"
      },
      "execution_count": 2,
      "outputs": [
        {
          "output_type": "stream",
          "name": "stdout",
          "text": [
            "/usr/local/lib/python3.11/dist-packages/gdown/__main__.py:140: FutureWarning: Option `--id` was deprecated in version 4.3.1 and will be removed in 5.0. You don't need to pass it anymore to use a file ID.\n",
            "  warnings.warn(\n",
            "Downloading...\n",
            "From (original): https://drive.google.com/uc?id=1XVsxdtmGndfZCys_byTFfKLlHs4nineH\n",
            "From (redirected): https://drive.google.com/uc?id=1XVsxdtmGndfZCys_byTFfKLlHs4nineH&confirm=t&uuid=76780f0f-0a87-45b6-a40f-66317defb234\n",
            "To: /content/Patch_One.rar\n",
            "100% 1.11G/1.11G [00:18<00:00, 60.6MB/s]\n"
          ]
        }
      ]
    },
    {
      "cell_type": "code",
      "source": [
        "!apt-get install unrar\n",
        "!unrar x /content/Patch_One.rar /content/"
      ],
      "metadata": {
        "colab": {
          "base_uri": "https://localhost:8080/"
        },
        "id": "fx01_ngu-3tQ",
        "outputId": "25badd06-6476-4687-effa-af67ca0603af"
      },
      "execution_count": 3,
      "outputs": [
        {
          "output_type": "stream",
          "name": "stdout",
          "text": [
            "Reading package lists... Done\n",
            "Building dependency tree... Done\n",
            "Reading state information... Done\n",
            "unrar is already the newest version (1:6.1.5-1).\n",
            "0 upgraded, 0 newly installed, 0 to remove and 29 not upgraded.\n",
            "\n",
            "UNRAR 6.11 beta 1 freeware      Copyright (c) 1993-2022 Alexander Roshal\n",
            "\n",
            "\n",
            "Extracting from /content/Patch_One.rar\n",
            "\n",
            "Creating    /content/Patch_One                                        OK\n",
            "Creating    /content/Patch_One/images                                 OK\n",
            "Extracting  /content/Patch_One/images/70007.png                          \b\b\b\b  0%\b\b\b\b\b  OK \n",
            "Extracting  /content/Patch_One/images/70008.png                          \b\b\b\b  0%\b\b\b\b\b  OK \n",
            "Extracting  /content/Patch_One/images/70031.png                          \b\b\b\b  0%\b\b\b\b\b  OK \n",
            "Extracting  /content/Patch_One/images/70034.png                          \b\b\b\b  0%\b\b\b\b\b  OK \n",
            "Extracting  /content/Patch_One/images/70043.png                          \b\b\b\b  0%\b\b\b\b\b  OK \n",
            "Extracting  /content/Patch_One/images/70063.png                          \b\b\b\b  0%\b\b\b\b\b  OK \n",
            "Extracting  /content/Patch_One/images/70080.png                          \b\b\b\b  0%\b\b\b\b\b  OK \n",
            "Extracting  /content/Patch_One/images/70087.png                          \b\b\b\b  0%\b\b\b\b\b  OK \n",
            "Extracting  /content/Patch_One/images/70088.png                          \b\b\b\b  0%\b\b\b\b\b  OK \n",
            "Extracting  /content/Patch_One/images/70101.png                          \b\b\b\b  0%\b\b\b\b\b  OK \n",
            "Extracting  /content/Patch_One/images/70150.png                          \b\b\b\b  0%\b\b\b\b\b  OK \n",
            "Extracting  /content/Patch_One/images/70159.png                          \b\b\b\b  0%\b\b\b\b\b  OK \n",
            "Extracting  /content/Patch_One/images/70163.png                          \b\b\b\b  0%\b\b\b\b\b  OK \n",
            "Extracting  /content/Patch_One/images/70164.png                          \b\b\b\b  1%\b\b\b\b\b  OK \n",
            "Extracting  /content/Patch_One/images/70165.png                          \b\b\b\b  1%\b\b\b\b\b  OK \n",
            "Extracting  /content/Patch_One/images/70167.png                          \b\b\b\b  1%\b\b\b\b\b  OK \n",
            "Extracting  /content/Patch_One/images/70183.png                          \b\b\b\b  1%\b\b\b\b\b  OK \n",
            "Extracting  /content/Patch_One/images/70188.png                          \b\b\b\b  1%\b\b\b\b\b  OK \n",
            "Extracting  /content/Patch_One/images/70191.png                          \b\b\b\b  1%\b\b\b\b\b  OK \n",
            "Extracting  /content/Patch_One/images/70195.png                          \b\b\b\b  1%\b\b\b\b\b  OK \n",
            "Extracting  /content/Patch_One/images/70392.png                          \b\b\b\b  1%\b\b\b\b\b  OK \n",
            "Extracting  /content/Patch_One/images/70397.png                          \b\b\b\b  1%\b\b\b\b\b  OK \n",
            "Extracting  /content/Patch_One/images/70408.png                          \b\b\b\b  1%\b\b\b\b\b  OK \n",
            "Extracting  /content/Patch_One/images/70435.png                          \b\b\b\b  1%\b\b\b\b\b  OK \n",
            "Extracting  /content/Patch_One/images/70439.png                          \b\b\b\b  1%\b\b\b\b\b  OK \n",
            "Extracting  /content/Patch_One/images/70466.png                          \b\b\b\b  1%\b\b\b\b\b  OK \n",
            "Extracting  /content/Patch_One/images/70468.png                          \b\b\b\b  2%\b\b\b\b\b  OK \n",
            "Extracting  /content/Patch_One/images/70487.png                          \b\b\b\b  2%\b\b\b\b\b  OK \n",
            "Extracting  /content/Patch_One/images/70494.png                          \b\b\b\b  2%\b\b\b\b\b  OK \n",
            "Extracting  /content/Patch_One/images/70495.png                          \b\b\b\b  2%\b\b\b\b\b  OK \n",
            "Extracting  /content/Patch_One/images/70524.png                          \b\b\b\b  2%\b\b\b\b\b  OK \n",
            "Extracting  /content/Patch_One/images/70534.png                          \b\b\b\b  2%\b\b\b\b\b  OK \n",
            "Extracting  /content/Patch_One/images/70535.png                          \b\b\b\b  2%\b\b\b\b\b  OK \n",
            "Extracting  /content/Patch_One/images/70550.png                          \b\b\b\b  2%\b\b\b\b\b  OK \n",
            "Extracting  /content/Patch_One/images/70553.png                          \b\b\b\b  2%\b\b\b\b\b  OK \n",
            "Extracting  /content/Patch_One/images/70571.png                          \b\b\b\b  2%\b\b\b\b\b  OK \n",
            "Extracting  /content/Patch_One/images/70573.png                          \b\b\b\b  2%\b\b\b\b\b  OK \n",
            "Extracting  /content/Patch_One/images/70587.png                          \b\b\b\b  2%\b\b\b\b\b  OK \n",
            "Extracting  /content/Patch_One/images/70608.png                          \b\b\b\b  2%\b\b\b\b\b  OK \n",
            "Extracting  /content/Patch_One/images/70613.png                          \b\b\b\b  3%\b\b\b\b\b  OK \n",
            "Extracting  /content/Patch_One/images/70623.png                          \b\b\b\b  3%\b\b\b\b\b  OK \n",
            "Extracting  /content/Patch_One/images/70647.png                          \b\b\b\b  3%\b\b\b\b\b  OK \n",
            "Extracting  /content/Patch_One/images/70651.png                          \b\b\b\b  3%\b\b\b\b\b  OK \n",
            "Extracting  /content/Patch_One/images/70656.png                          \b\b\b\b  3%\b\b\b\b\b  OK \n",
            "Extracting  /content/Patch_One/images/70663.png                          \b\b\b\b  3%\b\b\b\b\b  OK \n",
            "Extracting  /content/Patch_One/images/70673.png                          \b\b\b\b  3%\b\b\b\b\b  OK \n",
            "Extracting  /content/Patch_One/images/70676.png                          \b\b\b\b  3%\b\b\b\b\b  OK \n",
            "Extracting  /content/Patch_One/images/70678.png                          \b\b\b\b  3%\b\b\b\b\b  OK \n",
            "Extracting  /content/Patch_One/images/70694.png                          \b\b\b\b  3%\b\b\b\b\b  OK \n",
            "Extracting  /content/Patch_One/images/70695.png                          \b\b\b\b  3%\b\b\b\b\b  OK \n",
            "Extracting  /content/Patch_One/images/70698.png                          \b\b\b\b  3%\b\b\b\b\b  OK \n",
            "Extracting  /content/Patch_One/images/70713.png                          \b\b\b\b  3%\b\b\b\b\b  OK \n",
            "Extracting  /content/Patch_One/images/70716.png                          \b\b\b\b  4%\b\b\b\b\b  OK \n",
            "Extracting  /content/Patch_One/images/70717.png                          \b\b\b\b  4%\b\b\b\b\b  OK \n",
            "Extracting  /content/Patch_One/images/70723.png                          \b\b\b\b  4%\b\b\b\b\b  OK \n",
            "Extracting  /content/Patch_One/images/70729.png                          \b\b\b\b  4%\b\b\b\b\b  OK \n",
            "Extracting  /content/Patch_One/images/70733.png                          \b\b\b\b  4%\b\b\b\b\b  OK \n",
            "Extracting  /content/Patch_One/images/70737.png                          \b\b\b\b  4%\b\b\b\b\b  OK \n",
            "Extracting  /content/Patch_One/images/70742.png                          \b\b\b\b  4%\b\b\b\b\b  OK \n",
            "Extracting  /content/Patch_One/images/70750.png                          \b\b\b\b  4%\b\b\b\b\b  OK \n",
            "Extracting  /content/Patch_One/images/70754.png                          \b\b\b\b  5%\b\b\b\b\b  OK \n",
            "Extracting  /content/Patch_One/images/70756.png                          \b\b\b\b  5%\b\b\b\b\b  OK \n",
            "Extracting  /content/Patch_One/images/70758.png                          \b\b\b\b  6%\b\b\b\b\b  OK \n",
            "Extracting  /content/Patch_One/images/70759.png                          \b\b\b\b  6%\b\b\b\b\b  OK \n",
            "Extracting  /content/Patch_One/images/70777.png                          \b\b\b\b  6%\b\b\b\b\b  OK \n",
            "Extracting  /content/Patch_One/images/70778.png                          \b\b\b\b  7%\b\b\b\b\b  OK \n",
            "Extracting  /content/Patch_One/images/70783.png                          \b\b\b\b  7%\b\b\b\b\b  OK \n",
            "Extracting  /content/Patch_One/images/70787.png                          \b\b\b\b  7%\b\b\b\b\b  OK \n",
            "Extracting  /content/Patch_One/images/70794.png                          \b\b\b\b  8%\b\b\b\b\b  OK \n",
            "Extracting  /content/Patch_One/images/70801.png                          \b\b\b\b  8%\b\b\b\b\b  OK \n",
            "Extracting  /content/Patch_One/images/70812.png                          \b\b\b\b  9%\b\b\b\b\b  OK \n",
            "Extracting  /content/Patch_One/images/70828.png                          \b\b\b\b  9%\b\b\b\b\b  OK \n",
            "Extracting  /content/Patch_One/images/70838.png                          \b\b\b\b  9%\b\b\b\b\b  OK \n",
            "Extracting  /content/Patch_One/images/70895.png                          \b\b\b\b 10%\b\b\b\b\b  OK \n",
            "Extracting  /content/Patch_One/images/70908.png                          \b\b\b\b 10%\b\b\b\b\b  OK \n",
            "Extracting  /content/Patch_One/images/70909.png                          \b\b\b\b 10%\b\b\b\b\b  OK \n",
            "Extracting  /content/Patch_One/images/70913.png                          \b\b\b\b 11%\b\b\b\b\b  OK \n",
            "Extracting  /content/Patch_One/images/70926.png                          \b\b\b\b 11%\b\b\b\b\b  OK \n",
            "Extracting  /content/Patch_One/images/70930.png                          \b\b\b\b 11%\b\b\b\b\b  OK \n",
            "Extracting  /content/Patch_One/images/70946.png                          \b\b\b\b 12%\b\b\b\b\b  OK \n",
            "Extracting  /content/Patch_One/images/70951.png                          \b\b\b\b 12%\b\b\b\b\b  OK \n",
            "Extracting  /content/Patch_One/images/70960.png                          \b\b\b\b 12%\b\b\b\b\b  OK \n",
            "Extracting  /content/Patch_One/images/70973.png                          \b\b\b\b 13%\b\b\b\b\b  OK \n",
            "Extracting  /content/Patch_One/images/70974.png                          \b\b\b\b 13%\b\b\b\b\b  OK \n",
            "Extracting  /content/Patch_One/images/70977.png                          \b\b\b\b 13%\b\b\b\b\b  OK \n",
            "Extracting  /content/Patch_One/images/70984.png                          \b\b\b\b 13%\b\b\b\b\b  OK \n",
            "Extracting  /content/Patch_One/images/70992.png                          \b\b\b\b 14%\b\b\b\b\b  OK \n",
            "Extracting  /content/Patch_One/images/70998.png                          \b\b\b\b 14%\b\b\b\b\b  OK \n",
            "Extracting  /content/Patch_One/images/71006.png                          \b\b\b\b 14%\b\b\b\b\b  OK \n",
            "Extracting  /content/Patch_One/images/71008.png                          \b\b\b\b 15%\b\b\b\b\b  OK \n",
            "Extracting  /content/Patch_One/images/71009.png                          \b\b\b\b 15%\b\b\b\b\b  OK \n",
            "Extracting  /content/Patch_One/images/71064.png                          \b\b\b\b 15%\b\b\b\b\b  OK \n",
            "Extracting  /content/Patch_One/images/71086.png                          \b\b\b\b 16%\b\b\b\b\b  OK \n",
            "Extracting  /content/Patch_One/images/71095.png                          \b\b\b\b 16%\b\b\b\b\b  OK \n",
            "Extracting  /content/Patch_One/images/71096.png                          \b\b\b\b 16%\b\b\b\b\b  OK \n",
            "Extracting  /content/Patch_One/images/71106.png                          \b\b\b\b 17%\b\b\b\b\b  OK \n",
            "Extracting  /content/Patch_One/images/71137.png                          \b\b\b\b 17%\b\b\b\b\b  OK \n",
            "Extracting  /content/Patch_One/images/71179.png                          \b\b\b\b 17%\b\b\b\b\b  OK \n",
            "Extracting  /content/Patch_One/images/71186.png                          \b\b\b\b 18%\b\b\b\b\b  OK \n",
            "Extracting  /content/Patch_One/images/71200.png                          \b\b\b\b 18%\b\b\b\b\b  OK \n",
            "Extracting  /content/Patch_One/images/71216.png                          \b\b\b\b 18%\b\b\b\b\b  OK \n",
            "Extracting  /content/Patch_One/images/71222.png                          \b\b\b\b 19%\b\b\b\b\b  OK \n",
            "Extracting  /content/Patch_One/images/71224.png                          \b\b\b\b 19%\b\b\b\b\b  OK \n",
            "Extracting  /content/Patch_One/images/71233.png                          \b\b\b\b 19%\b\b\b\b\b  OK \n",
            "Extracting  /content/Patch_One/images/71256.png                          \b\b\b\b 20%\b\b\b\b\b  OK \n",
            "Extracting  /content/Patch_One/images/71264.png                          \b\b\b\b 20%\b\b\b\b\b  OK \n",
            "Extracting  /content/Patch_One/images/71266.png                          \b\b\b\b 20%\b\b\b\b\b  OK \n",
            "Extracting  /content/Patch_One/images/71279.png                          \b\b\b\b 21%\b\b\b\b\b  OK \n",
            "Extracting  /content/Patch_One/images/71309.png                          \b\b\b\b 21%\b\b\b\b\b  OK \n",
            "Extracting  /content/Patch_One/images/71310.png                          \b\b\b\b 21%\b\b\b\b\b  OK \n",
            "Extracting  /content/Patch_One/images/71316.png                          \b\b\b\b 22%\b\b\b\b\b  OK \n",
            "Extracting  /content/Patch_One/images/71318.png                          \b\b\b\b 22%\b\b\b\b\b  OK \n",
            "Extracting  /content/Patch_One/images/71326.png                          \b\b\b\b 22%\b\b\b\b\b  OK \n",
            "Extracting  /content/Patch_One/images/71327.png                          \b\b\b\b 23%\b\b\b\b\b  OK \n",
            "Extracting  /content/Patch_One/images/71342.png                          \b\b\b\b 23%\b\b\b\b\b  OK \n",
            "Extracting  /content/Patch_One/images/71346.png                          \b\b\b\b 23%\b\b\b\b\b  OK \n",
            "Extracting  /content/Patch_One/images/71356.png                          \b\b\b\b 23%\b\b\b\b\b  OK \n",
            "Extracting  /content/Patch_One/images/71358.png                          \b\b\b\b 24%\b\b\b\b\b  OK \n",
            "Extracting  /content/Patch_One/images/71375.png                          \b\b\b\b 24%\b\b\b\b\b  OK \n",
            "Extracting  /content/Patch_One/images/71381.png                          \b\b\b\b 24%\b\b\b\b\b  OK \n",
            "Extracting  /content/Patch_One/images/71384.png                          \b\b\b\b 24%\b\b\b\b\b  OK \n",
            "Extracting  /content/Patch_One/images/71398.png                          \b\b\b\b 24%\b\b\b\b\b  OK \n",
            "Extracting  /content/Patch_One/images/71401.png                          \b\b\b\b 24%\b\b\b\b\b  OK \n",
            "Extracting  /content/Patch_One/images/71402.png                          \b\b\b\b 25%\b\b\b\b\b  OK \n",
            "Extracting  /content/Patch_One/images/71409.png                          \b\b\b\b 25%\b\b\b\b\b  OK \n",
            "Extracting  /content/Patch_One/images/71411.png                          \b\b\b\b 25%\b\b\b\b\b  OK \n",
            "Extracting  /content/Patch_One/images/71415.png                          \b\b\b\b 25%\b\b\b\b\b  OK \n",
            "Extracting  /content/Patch_One/images/71442.png                          \b\b\b\b 25%\b\b\b\b\b  OK \n",
            "Extracting  /content/Patch_One/images/71462.png                          \b\b\b\b 25%\b\b\b\b\b  OK \n",
            "Extracting  /content/Patch_One/images/71466.png                          \b\b\b\b 25%\b\b\b\b\b  OK \n",
            "Extracting  /content/Patch_One/images/71468.png                          \b\b\b\b 25%\b\b\b\b\b  OK \n",
            "Extracting  /content/Patch_One/images/71478.png                          \b\b\b\b 26%\b\b\b\b\b  OK \n",
            "Extracting  /content/Patch_One/images/71479.png                          \b\b\b\b 26%\b\b\b\b\b  OK \n",
            "Extracting  /content/Patch_One/images/71511.png                          \b\b\b\b 26%\b\b\b\b\b  OK \n",
            "Extracting  /content/Patch_One/images/71520.png                          \b\b\b\b 26%\b\b\b\b\b  OK \n",
            "Extracting  /content/Patch_One/images/71521.png                          \b\b\b\b 26%\b\b\b\b\b  OK \n",
            "Extracting  /content/Patch_One/images/71528.png                          \b\b\b\b 26%\b\b\b\b\b  OK \n",
            "Extracting  /content/Patch_One/images/71529.png                          \b\b\b\b 26%\b\b\b\b\b  OK \n",
            "Extracting  /content/Patch_One/images/71532.png                          \b\b\b\b 26%\b\b\b\b\b  OK \n",
            "Extracting  /content/Patch_One/images/71536.png                          \b\b\b\b 27%\b\b\b\b\b  OK \n",
            "Extracting  /content/Patch_One/images/71543.png                          \b\b\b\b 27%\b\b\b\b\b  OK \n",
            "Extracting  /content/Patch_One/images/71555.png                          \b\b\b\b 27%\b\b\b\b\b  OK \n",
            "Extracting  /content/Patch_One/images/71560.png                          \b\b\b\b 27%\b\b\b\b\b  OK \n",
            "Extracting  /content/Patch_One/images/71561.png                          \b\b\b\b 27%\b\b\b\b\b  OK \n",
            "Extracting  /content/Patch_One/images/71566.png                          \b\b\b\b 27%\b\b\b\b\b  OK \n",
            "Extracting  /content/Patch_One/images/71567.png                          \b\b\b\b 27%\b\b\b\b\b  OK \n",
            "Extracting  /content/Patch_One/images/71568.png                          \b\b\b\b 27%\b\b\b\b\b  OK \n",
            "Extracting  /content/Patch_One/images/71578.png                          \b\b\b\b 28%\b\b\b\b\b  OK \n",
            "Extracting  /content/Patch_One/images/71596.png                          \b\b\b\b 28%\b\b\b\b\b  OK \n",
            "Extracting  /content/Patch_One/images/71601.png                          \b\b\b\b 28%\b\b\b\b\b  OK \n",
            "Extracting  /content/Patch_One/images/71607.png                          \b\b\b\b 28%\b\b\b\b\b  OK \n",
            "Extracting  /content/Patch_One/images/71610.png                          \b\b\b\b 28%\b\b\b\b\b  OK \n",
            "Extracting  /content/Patch_One/images/71618.png                          \b\b\b\b 28%\b\b\b\b\b  OK \n",
            "Extracting  /content/Patch_One/images/71620.png                          \b\b\b\b 28%\b\b\b\b\b  OK \n",
            "Extracting  /content/Patch_One/images/71623.png                          \b\b\b\b 28%\b\b\b\b\b  OK \n",
            "Extracting  /content/Patch_One/images/71628.png                          \b\b\b\b 29%\b\b\b\b\b  OK \n",
            "Extracting  /content/Patch_One/images/71629.png                          \b\b\b\b 29%\b\b\b\b\b  OK \n",
            "Extracting  /content/Patch_One/images/71645.png                          \b\b\b\b 29%\b\b\b\b\b  OK \n",
            "Extracting  /content/Patch_One/images/71648.png                          \b\b\b\b 29%\b\b\b\b\b  OK \n",
            "Extracting  /content/Patch_One/images/71651.png                          \b\b\b\b 29%\b\b\b\b\b  OK \n",
            "Extracting  /content/Patch_One/images/71690.png                          \b\b\b\b 29%\b\b\b\b\b  OK \n",
            "Extracting  /content/Patch_One/images/71704.png                          \b\b\b\b 29%\b\b\b\b\b  OK \n",
            "Extracting  /content/Patch_One/images/71706.png                          \b\b\b\b 29%\b\b\b\b\b  OK \n",
            "Extracting  /content/Patch_One/images/71732.png                          \b\b\b\b 30%\b\b\b\b\b  OK \n",
            "Extracting  /content/Patch_One/images/71740.png                          \b\b\b\b 30%\b\b\b\b\b  OK \n",
            "Extracting  /content/Patch_One/images/71761.png                          \b\b\b\b 30%\b\b\b\b\b  OK \n",
            "Extracting  /content/Patch_One/images/71771.png                          \b\b\b\b 30%\b\b\b\b\b  OK \n",
            "Extracting  /content/Patch_One/images/71772.png                          \b\b\b\b 30%\b\b\b\b\b  OK \n",
            "Extracting  /content/Patch_One/images/71780.png                          \b\b\b\b 30%\b\b\b\b\b  OK \n",
            "Extracting  /content/Patch_One/images/71793.png                          \b\b\b\b 30%\b\b\b\b\b  OK \n",
            "Extracting  /content/Patch_One/images/71799.png                          \b\b\b\b 31%\b\b\b\b\b  OK \n",
            "Extracting  /content/Patch_One/images/71813.png                          \b\b\b\b 31%\b\b\b\b\b  OK \n",
            "Extracting  /content/Patch_One/images/71836.png                          \b\b\b\b 31%\b\b\b\b\b  OK \n",
            "Extracting  /content/Patch_One/images/71843.png                          \b\b\b\b 31%\b\b\b\b\b  OK \n",
            "Extracting  /content/Patch_One/images/71848.png                          \b\b\b\b 31%\b\b\b\b\b  OK \n",
            "Extracting  /content/Patch_One/images/71857.png                          \b\b\b\b 31%\b\b\b\b\b  OK \n",
            "Extracting  /content/Patch_One/images/71862.png                          \b\b\b\b 31%\b\b\b\b\b  OK \n",
            "Extracting  /content/Patch_One/images/71892.png                          \b\b\b\b 31%\b\b\b\b\b  OK \n",
            "Extracting  /content/Patch_One/images/71894.png                          \b\b\b\b 32%\b\b\b\b\b  OK \n",
            "Extracting  /content/Patch_One/images/71905.png                          \b\b\b\b 32%\b\b\b\b\b  OK \n",
            "Extracting  /content/Patch_One/images/71913.png                          \b\b\b\b 32%\b\b\b\b\b  OK \n",
            "Extracting  /content/Patch_One/images/71921.png                          \b\b\b\b 32%\b\b\b\b\b  OK \n",
            "Extracting  /content/Patch_One/images/71923.png                          \b\b\b\b 32%\b\b\b\b\b  OK \n",
            "Extracting  /content/Patch_One/images/71932.png                          \b\b\b\b 32%\b\b\b\b\b  OK \n",
            "Extracting  /content/Patch_One/images/71939.png                          \b\b\b\b 32%\b\b\b\b\b  OK \n",
            "Extracting  /content/Patch_One/images/71943.png                          \b\b\b\b 32%\b\b\b\b\b  OK \n",
            "Extracting  /content/Patch_One/images/71944.png                          \b\b\b\b 33%\b\b\b\b\b  OK \n",
            "Extracting  /content/Patch_One/images/71963.png                          \b\b\b\b 33%\b\b\b\b\b  OK \n",
            "Extracting  /content/Patch_One/images/71975.png                          \b\b\b\b 33%\b\b\b\b\b  OK \n",
            "Extracting  /content/Patch_One/images/71981.png                          \b\b\b\b 33%\b\b\b\b\b  OK \n",
            "Extracting  /content/Patch_One/images/71982.png                          \b\b\b\b 33%\b\b\b\b\b  OK \n",
            "Extracting  /content/Patch_One/images/71988.png                          \b\b\b\b 33%\b\b\b\b\b  OK \n",
            "Extracting  /content/Patch_One/images/71993.png                          \b\b\b\b 33%\b\b\b\b\b  OK \n",
            "Extracting  /content/Patch_One/images/71999.png                          \b\b\b\b 33%\b\b\b\b\b  OK \n",
            "Extracting  /content/Patch_One/images/72003.png                          \b\b\b\b 34%\b\b\b\b\b  OK \n",
            "Extracting  /content/Patch_One/images/72007.png                          \b\b\b\b 34%\b\b\b\b\b  OK \n",
            "Extracting  /content/Patch_One/images/72026.png                          \b\b\b\b 34%\b\b\b\b\b  OK \n",
            "Extracting  /content/Patch_One/images/72029.png                          \b\b\b\b 34%\b\b\b\b\b  OK \n",
            "Extracting  /content/Patch_One/images/72043.png                          \b\b\b\b 34%\b\b\b\b\b  OK \n",
            "Extracting  /content/Patch_One/images/72059.png                          \b\b\b\b 34%\b\b\b\b\b  OK \n",
            "Extracting  /content/Patch_One/images/72062.png                          \b\b\b\b 34%\b\b\b\b\b  OK \n",
            "Extracting  /content/Patch_One/images/72078.png                          \b\b\b\b 34%\b\b\b\b\b  OK \n",
            "Extracting  /content/Patch_One/images/72087.png                          \b\b\b\b 34%\b\b\b\b\b  OK \n",
            "Extracting  /content/Patch_One/images/72093.png                          \b\b\b\b 35%\b\b\b\b\b  OK \n",
            "Extracting  /content/Patch_One/images/72097.png                          \b\b\b\b 35%\b\b\b\b\b  OK \n",
            "Extracting  /content/Patch_One/images/72101.png                          \b\b\b\b 35%\b\b\b\b\b  OK \n",
            "Extracting  /content/Patch_One/images/72108.png                          \b\b\b\b 35%\b\b\b\b\b  OK \n",
            "Extracting  /content/Patch_One/images/72141.png                          \b\b\b\b 35%\b\b\b\b\b  OK \n",
            "Extracting  /content/Patch_One/images/72145.png                          \b\b\b\b 35%\b\b\b\b\b  OK \n",
            "Extracting  /content/Patch_One/images/72156.png                          \b\b\b\b 35%\b\b\b\b\b  OK \n",
            "Extracting  /content/Patch_One/images/72163.png                          \b\b\b\b 35%\b\b\b\b\b  OK \n",
            "Extracting  /content/Patch_One/images/72167.png                          \b\b\b\b 36%\b\b\b\b\b  OK \n",
            "Extracting  /content/Patch_One/images/72168.png                          \b\b\b\b 36%\b\b\b\b\b  OK \n",
            "Extracting  /content/Patch_One/images/72170.png                          \b\b\b\b 36%\b\b\b\b\b  OK \n",
            "Extracting  /content/Patch_One/images/72172.png                          \b\b\b\b 37%\b\b\b\b\b  OK \n",
            "Extracting  /content/Patch_One/images/72180.png                          \b\b\b\b 37%\b\b\b\b\b  OK \n",
            "Extracting  /content/Patch_One/images/72192.png                          \b\b\b\b 37%\b\b\b\b\b  OK \n",
            "Extracting  /content/Patch_One/images/72200.png                          \b\b\b\b 38%\b\b\b\b\b  OK \n",
            "Extracting  /content/Patch_One/images/72205.png                          \b\b\b\b 38%\b\b\b\b\b  OK \n",
            "Extracting  /content/Patch_One/images/72210.png                          \b\b\b\b 38%\b\b\b\b\b  OK \n",
            "Extracting  /content/Patch_One/images/72228.png                          \b\b\b\b 39%\b\b\b\b\b  OK \n",
            "Extracting  /content/Patch_One/images/72238.png                          \b\b\b\b 39%\b\b\b\b\b  OK \n",
            "Extracting  /content/Patch_One/images/72241.png                          \b\b\b\b 39%\b\b\b\b\b  OK \n",
            "Extracting  /content/Patch_One/images/72250.png                          \b\b\b\b 40%\b\b\b\b\b  OK \n",
            "Extracting  /content/Patch_One/images/72254.png                          \b\b\b\b 40%\b\b\b\b\b  OK \n",
            "Extracting  /content/Patch_One/images/72255.png                          \b\b\b\b 41%\b\b\b\b\b  OK \n",
            "Extracting  /content/Patch_One/images/72266.png                          \b\b\b\b 41%\b\b\b\b\b  OK \n",
            "Extracting  /content/Patch_One/images/72267.png                          \b\b\b\b 41%\b\b\b\b\b  OK \n",
            "Extracting  /content/Patch_One/images/72288.png                          \b\b\b\b 42%\b\b\b\b\b  OK \n",
            "Extracting  /content/Patch_One/images/72289.png                          \b\b\b\b 42%\b\b\b\b\b  OK \n",
            "Extracting  /content/Patch_One/images/72291.png                          \b\b\b\b 42%\b\b\b\b\b  OK \n",
            "Extracting  /content/Patch_One/images/72293.png                          \b\b\b\b 43%\b\b\b\b\b  OK \n",
            "Extracting  /content/Patch_One/images/72296.png                          \b\b\b\b 43%\b\b\b\b\b  OK \n",
            "Extracting  /content/Patch_One/images/72298.png                          \b\b\b\b 43%\b\b\b\b\b  OK \n",
            "Extracting  /content/Patch_One/images/72300.png                          \b\b\b\b 44%\b\b\b\b\b  OK \n",
            "Extracting  /content/Patch_One/images/72329.png                          \b\b\b\b 44%\b\b\b\b\b  OK \n",
            "Extracting  /content/Patch_One/images/72337.png                          \b\b\b\b 44%\b\b\b\b\b  OK \n",
            "Extracting  /content/Patch_One/images/72341.png                          \b\b\b\b 45%\b\b\b\b\b  OK \n",
            "Extracting  /content/Patch_One/images/72345.png                          \b\b\b\b 45%\b\b\b\b\b  OK \n",
            "Extracting  /content/Patch_One/images/72348.png                          \b\b\b\b 45%\b\b\b\b\b  OK \n",
            "Extracting  /content/Patch_One/images/72375.png                          \b\b\b\b 46%\b\b\b\b\b  OK \n",
            "Extracting  /content/Patch_One/images/72385.png                          \b\b\b\b 46%\b\b\b\b\b  OK \n",
            "Extracting  /content/Patch_One/images/72395.png                          \b\b\b\b 47%\b\b\b\b\b  OK \n",
            "Extracting  /content/Patch_One/images/72404.png                          \b\b\b\b 47%\b\b\b\b\b  OK \n",
            "Extracting  /content/Patch_One/images/72414.png                          \b\b\b\b 47%\b\b\b\b\b  OK \n",
            "Extracting  /content/Patch_One/images/72423.png                          \b\b\b\b 48%\b\b\b\b\b  OK \n",
            "Extracting  /content/Patch_One/images/72454.png                          \b\b\b\b 48%\b\b\b\b\b  OK \n",
            "Extracting  /content/Patch_One/images/72464.png                          \b\b\b\b 48%\b\b\b\b\b  OK \n",
            "Extracting  /content/Patch_One/images/72475.png                          \b\b\b\b 49%\b\b\b\b\b  OK \n",
            "Extracting  /content/Patch_One/images/72479.png                          \b\b\b\b 49%\b\b\b\b\b  OK \n",
            "Extracting  /content/Patch_One/images/72515.png                          \b\b\b\b 49%\b\b\b\b\b  OK \n",
            "Extracting  /content/Patch_One/images/72523.png                          \b\b\b\b 49%\b\b\b\b\b  OK \n",
            "Extracting  /content/Patch_One/images/72524.png                          \b\b\b\b 50%\b\b\b\b\b  OK \n",
            "Extracting  /content/Patch_One/images/72525.png                          \b\b\b\b 50%\b\b\b\b\b  OK \n",
            "Extracting  /content/Patch_One/images/72533.png                          \b\b\b\b 50%\b\b\b\b\b  OK \n",
            "Extracting  /content/Patch_One/images/72535.png                          \b\b\b\b 51%\b\b\b\b\b  OK \n",
            "Extracting  /content/Patch_One/images/72544.png                          \b\b\b\b 51%\b\b\b\b\b  OK \n",
            "Extracting  /content/Patch_One/images/72545.png                          \b\b\b\b 51%\b\b\b\b\b  OK \n",
            "Extracting  /content/Patch_One/images/72668.png                          \b\b\b\b 52%\b\b\b\b\b  OK \n",
            "Extracting  /content/Patch_One/images/72679.png                          \b\b\b\b 52%\b\b\b\b\b  OK \n",
            "Extracting  /content/Patch_One/images/72702.png                          \b\b\b\b 52%\b\b\b\b\b  OK \n",
            "Extracting  /content/Patch_One/images/72708.png                          \b\b\b\b 53%\b\b\b\b\b  OK \n",
            "Extracting  /content/Patch_One/images/72711.png                          \b\b\b\b 53%\b\b\b\b\b  OK \n",
            "Extracting  /content/Patch_One/images/72713.png                          \b\b\b\b 53%\b\b\b\b\b  OK \n",
            "Extracting  /content/Patch_One/images/72720.png                          \b\b\b\b 53%\b\b\b\b\b  OK \n",
            "Extracting  /content/Patch_One/images/72723.png                          \b\b\b\b 54%\b\b\b\b\b  OK \n",
            "Extracting  /content/Patch_One/images/72737.png                          \b\b\b\b 54%\b\b\b\b\b  OK \n",
            "Extracting  /content/Patch_One/images/72738.png                          \b\b\b\b 54%\b\b\b\b\b  OK \n",
            "Extracting  /content/Patch_One/images/72764.png                          \b\b\b\b 54%\b\b\b\b\b  OK \n",
            "Extracting  /content/Patch_One/images/72768.png                          \b\b\b\b 55%\b\b\b\b\b  OK \n",
            "Extracting  /content/Patch_One/images/72771.png                          \b\b\b\b 55%\b\b\b\b\b  OK \n",
            "Extracting  /content/Patch_One/images/72782.png                          \b\b\b\b 55%\b\b\b\b\b  OK \n",
            "Extracting  /content/Patch_One/images/72787.png                          \b\b\b\b 55%\b\b\b\b\b  OK \n",
            "Extracting  /content/Patch_One/images/72790.png                          \b\b\b\b 55%\b\b\b\b\b  OK \n",
            "Extracting  /content/Patch_One/images/72797.png                          \b\b\b\b 55%\b\b\b\b\b  OK \n",
            "Extracting  /content/Patch_One/images/72814.png                          \b\b\b\b 55%\b\b\b\b\b  OK \n",
            "Extracting  /content/Patch_One/images/72838.png                          \b\b\b\b 55%\b\b\b\b\b  OK \n",
            "Extracting  /content/Patch_One/images/72844.png                          \b\b\b\b 56%\b\b\b\b\b  OK \n",
            "Extracting  /content/Patch_One/images/72849.png                          \b\b\b\b 56%\b\b\b\b\b  OK \n",
            "Extracting  /content/Patch_One/images/72851.png                          \b\b\b\b 56%\b\b\b\b\b  OK \n",
            "Extracting  /content/Patch_One/images/72856.png                          \b\b\b\b 56%\b\b\b\b\b  OK \n",
            "Extracting  /content/Patch_One/images/72865.png                          \b\b\b\b 56%\b\b\b\b\b  OK \n",
            "Extracting  /content/Patch_One/images/72871.png                          \b\b\b\b 56%\b\b\b\b\b  OK \n",
            "Extracting  /content/Patch_One/images/72900.png                          \b\b\b\b 56%\b\b\b\b\b  OK \n",
            "Extracting  /content/Patch_One/images/72914.png                          \b\b\b\b 56%\b\b\b\b\b  OK \n",
            "Extracting  /content/Patch_One/images/72920.png                          \b\b\b\b 57%\b\b\b\b\b  OK \n",
            "Extracting  /content/Patch_One/images/72923.png                          \b\b\b\b 57%\b\b\b\b\b  OK \n",
            "Extracting  /content/Patch_One/images/72930.png                          \b\b\b\b 57%\b\b\b\b\b  OK \n",
            "Extracting  /content/Patch_One/images/72957.png                          \b\b\b\b 57%\b\b\b\b\b  OK \n",
            "Extracting  /content/Patch_One/images/72974.png                          \b\b\b\b 57%\b\b\b\b\b  OK \n",
            "Extracting  /content/Patch_One/images/72984.png                          \b\b\b\b 57%\b\b\b\b\b  OK \n",
            "Extracting  /content/Patch_One/images/72988.png                          \b\b\b\b 57%\b\b\b\b\b  OK \n",
            "Extracting  /content/Patch_One/images/72994.png                          \b\b\b\b 57%\b\b\b\b\b  OK \n",
            "Extracting  /content/Patch_One/images/72995.png                          \b\b\b\b 57%\b\b\b\b\b  OK \n",
            "Extracting  /content/Patch_One/images/73016.png                          \b\b\b\b 58%\b\b\b\b\b  OK \n",
            "Extracting  /content/Patch_One/images/73019.png                          \b\b\b\b 58%\b\b\b\b\b  OK \n",
            "Extracting  /content/Patch_One/images/73022.png                          \b\b\b\b 58%\b\b\b\b\b  OK \n",
            "Extracting  /content/Patch_One/images/73024.png                          \b\b\b\b 58%\b\b\b\b\b  OK \n",
            "Extracting  /content/Patch_One/images/73046.png                          \b\b\b\b 58%\b\b\b\b\b  OK \n",
            "Extracting  /content/Patch_One/images/73052.png                          \b\b\b\b 58%\b\b\b\b\b  OK \n",
            "Extracting  /content/Patch_One/images/73059.png                          \b\b\b\b 58%\b\b\b\b\b  OK \n",
            "Extracting  /content/Patch_One/images/73097.png                          \b\b\b\b 58%\b\b\b\b\b  OK \n",
            "Extracting  /content/Patch_One/images/73104.png                          \b\b\b\b 59%\b\b\b\b\b  OK \n",
            "Extracting  /content/Patch_One/images/73107.png                          \b\b\b\b 59%\b\b\b\b\b  OK \n",
            "Extracting  /content/Patch_One/images/73114.png                          \b\b\b\b 59%\b\b\b\b\b  OK \n",
            "Extracting  /content/Patch_One/images/73118.png                          \b\b\b\b 59%\b\b\b\b\b  OK \n",
            "Extracting  /content/Patch_One/images/73130.png                          \b\b\b\b 59%\b\b\b\b\b  OK \n",
            "Extracting  /content/Patch_One/images/73144.png                          \b\b\b\b 59%\b\b\b\b\b  OK \n",
            "Extracting  /content/Patch_One/images/73145.png                          \b\b\b\b 59%\b\b\b\b\b  OK \n",
            "Extracting  /content/Patch_One/images/73148.png                          \b\b\b\b 59%\b\b\b\b\b  OK \n",
            "Extracting  /content/Patch_One/images/73153.png                          \b\b\b\b 60%\b\b\b\b\b  OK \n",
            "Extracting  /content/Patch_One/images/73155.png                          \b\b\b\b 60%\b\b\b\b\b  OK \n",
            "Extracting  /content/Patch_One/images/73196.png                          \b\b\b\b 60%\b\b\b\b\b  OK \n",
            "Extracting  /content/Patch_One/images/73201.png                          \b\b\b\b 60%\b\b\b\b\b  OK \n",
            "Extracting  /content/Patch_One/images/73204.png                          \b\b\b\b 60%\b\b\b\b\b  OK \n",
            "Extracting  /content/Patch_One/images/73208.png                          \b\b\b\b 60%\b\b\b\b\b  OK \n",
            "Extracting  /content/Patch_One/images/73209.png                          \b\b\b\b 60%\b\b\b\b\b  OK \n",
            "Extracting  /content/Patch_One/images/73211.png                          \b\b\b\b 60%\b\b\b\b\b  OK \n",
            "Extracting  /content/Patch_One/images/73212.png                          \b\b\b\b 60%\b\b\b\b\b  OK \n",
            "Extracting  /content/Patch_One/images/73217.png                          \b\b\b\b 61%\b\b\b\b\b  OK \n",
            "Extracting  /content/Patch_One/images/73236.png                          \b\b\b\b 61%\b\b\b\b\b  OK \n",
            "Extracting  /content/Patch_One/images/73247.png                          \b\b\b\b 61%\b\b\b\b\b  OK \n",
            "Extracting  /content/Patch_One/images/73253.png                          \b\b\b\b 61%\b\b\b\b\b  OK \n",
            "Extracting  /content/Patch_One/images/73442.png                          \b\b\b\b 61%\b\b\b\b\b  OK \n",
            "Extracting  /content/Patch_One/images/73481.png                          \b\b\b\b 61%\b\b\b\b\b  OK \n",
            "Extracting  /content/Patch_One/images/73489.png                          \b\b\b\b 61%\b\b\b\b\b  OK \n",
            "Extracting  /content/Patch_One/images/73511.png                          \b\b\b\b 61%\b\b\b\b\b  OK \n",
            "Extracting  /content/Patch_One/images/73549.png                          \b\b\b\b 62%\b\b\b\b\b  OK \n",
            "Extracting  /content/Patch_One/images/73575.png                          \b\b\b\b 62%\b\b\b\b\b  OK \n",
            "Extracting  /content/Patch_One/images/73579.png                          \b\b\b\b 62%\b\b\b\b\b  OK \n",
            "Extracting  /content/Patch_One/images/73582.png                          \b\b\b\b 62%\b\b\b\b\b  OK \n",
            "Extracting  /content/Patch_One/images/73617.png                          \b\b\b\b 62%\b\b\b\b\b  OK \n",
            "Extracting  /content/Patch_One/images/73623.png                          \b\b\b\b 62%\b\b\b\b\b  OK \n",
            "Extracting  /content/Patch_One/images/73633.png                          \b\b\b\b 62%\b\b\b\b\b  OK \n",
            "Extracting  /content/Patch_One/images/73641.png                          \b\b\b\b 62%\b\b\b\b\b  OK \n",
            "Extracting  /content/Patch_One/images/73642.png                          \b\b\b\b 63%\b\b\b\b\b  OK \n",
            "Extracting  /content/Patch_One/images/73650.png                          \b\b\b\b 63%\b\b\b\b\b  OK \n",
            "Extracting  /content/Patch_One/images/73661.png                          \b\b\b\b 63%\b\b\b\b\b  OK \n",
            "Extracting  /content/Patch_One/images/73662.png                          \b\b\b\b 63%\b\b\b\b\b  OK \n",
            "Extracting  /content/Patch_One/images/73686.png                          \b\b\b\b 63%\b\b\b\b\b  OK \n",
            "Extracting  /content/Patch_One/images/73687.png                          \b\b\b\b 63%\b\b\b\b\b  OK \n",
            "Extracting  /content/Patch_One/images/73688.png                          \b\b\b\b 63%\b\b\b\b\b  OK \n",
            "Extracting  /content/Patch_One/images/73689.png                          \b\b\b\b 63%\b\b\b\b\b  OK \n",
            "Extracting  /content/Patch_One/images/73690.png                          \b\b\b\b 63%\b\b\b\b\b  OK \n",
            "Extracting  /content/Patch_One/images/73691.png                          \b\b\b\b 64%\b\b\b\b\b  OK \n",
            "Extracting  /content/Patch_One/images/73692.png                          \b\b\b\b 64%\b\b\b\b\b  OK \n",
            "Extracting  /content/Patch_One/images/73694.png                          \b\b\b\b 64%\b\b\b\b\b  OK \n",
            "Extracting  /content/Patch_One/images/73695.png                          \b\b\b\b 64%\b\b\b\b\b  OK \n",
            "Extracting  /content/Patch_One/images/73696.png                          \b\b\b\b 64%\b\b\b\b\b  OK \n",
            "Extracting  /content/Patch_One/images/73697.png                          \b\b\b\b 64%\b\b\b\b\b  OK \n",
            "Extracting  /content/Patch_One/images/73698.png                          \b\b\b\b 64%\b\b\b\b\b  OK \n",
            "Extracting  /content/Patch_One/images/73699.png                          \b\b\b\b 64%\b\b\b\b\b  OK \n",
            "Extracting  /content/Patch_One/images/73700.png                          \b\b\b\b 64%\b\b\b\b\b  OK \n",
            "Extracting  /content/Patch_One/images/73701.png                          \b\b\b\b 65%\b\b\b\b\b  OK \n",
            "Extracting  /content/Patch_One/images/73702.png                          \b\b\b\b 65%\b\b\b\b\b  OK \n",
            "Extracting  /content/Patch_One/images/73704.png                          \b\b\b\b 65%\b\b\b\b\b  OK \n",
            "Extracting  /content/Patch_One/images/73705.png                          \b\b\b\b 65%\b\b\b\b\b  OK \n",
            "Extracting  /content/Patch_One/images/73706.png                          \b\b\b\b 65%\b\b\b\b\b  OK \n",
            "Extracting  /content/Patch_One/images/73707.png                          \b\b\b\b 65%\b\b\b\b\b  OK \n",
            "Extracting  /content/Patch_One/images/73708.png                          \b\b\b\b 65%\b\b\b\b\b  OK \n",
            "Extracting  /content/Patch_One/images/73709.png                          \b\b\b\b 65%\b\b\b\b\b  OK \n",
            "Extracting  /content/Patch_One/images/73710.png                          \b\b\b\b 65%\b\b\b\b\b  OK \n",
            "Extracting  /content/Patch_One/images/73711.png                          \b\b\b\b 66%\b\b\b\b\b  OK \n",
            "Extracting  /content/Patch_One/images/73712.png                          \b\b\b\b 66%\b\b\b\b\b  OK \n",
            "Extracting  /content/Patch_One/images/73714.png                          \b\b\b\b 66%\b\b\b\b\b  OK \n",
            "Extracting  /content/Patch_One/images/73715.png                          \b\b\b\b 66%\b\b\b\b\b  OK \n",
            "Extracting  /content/Patch_One/images/73716.png                          \b\b\b\b 66%\b\b\b\b\b  OK \n",
            "Extracting  /content/Patch_One/images/73718.png                          \b\b\b\b 66%\b\b\b\b\b  OK \n",
            "Extracting  /content/Patch_One/images/73719.png                          \b\b\b\b 66%\b\b\b\b\b  OK \n",
            "Extracting  /content/Patch_One/images/73720.png                          \b\b\b\b 66%\b\b\b\b\b  OK \n",
            "Extracting  /content/Patch_One/images/73721.png                          \b\b\b\b 66%\b\b\b\b\b  OK \n",
            "Extracting  /content/Patch_One/images/73722.png                          \b\b\b\b 67%\b\b\b\b\b  OK \n",
            "Extracting  /content/Patch_One/images/73723.png                          \b\b\b\b 67%\b\b\b\b\b  OK \n",
            "Extracting  /content/Patch_One/images/73724.png                          \b\b\b\b 67%\b\b\b\b\b  OK \n",
            "Extracting  /content/Patch_One/images/73725.png                          \b\b\b\b 67%\b\b\b\b\b  OK \n",
            "Extracting  /content/Patch_One/images/73726.png                          \b\b\b\b 67%\b\b\b\b\b  OK \n",
            "Extracting  /content/Patch_One/images/73727.png                          \b\b\b\b 67%\b\b\b\b\b  OK \n",
            "Extracting  /content/Patch_One/images/73728.png                          \b\b\b\b 67%\b\b\b\b\b  OK \n",
            "Extracting  /content/Patch_One/images/73729.png                          \b\b\b\b 67%\b\b\b\b\b  OK \n",
            "Extracting  /content/Patch_One/images/73731.png                          \b\b\b\b 67%\b\b\b\b\b  OK \n",
            "Extracting  /content/Patch_One/images/73732.png                          \b\b\b\b 68%\b\b\b\b\b  OK \n",
            "Extracting  /content/Patch_One/images/73733.png                          \b\b\b\b 68%\b\b\b\b\b  OK \n",
            "Extracting  /content/Patch_One/images/73734.png                          \b\b\b\b 68%\b\b\b\b\b  OK \n",
            "Extracting  /content/Patch_One/images/73735.png                          \b\b\b\b 68%\b\b\b\b\b  OK \n",
            "Extracting  /content/Patch_One/images/73736.png                          \b\b\b\b 68%\b\b\b\b\b  OK \n",
            "Extracting  /content/Patch_One/images/73738.png                          \b\b\b\b 68%\b\b\b\b\b  OK \n",
            "Extracting  /content/Patch_One/images/73739.png                          \b\b\b\b 68%\b\b\b\b\b  OK \n",
            "Extracting  /content/Patch_One/images/73741.png                          \b\b\b\b 68%\b\b\b\b\b  OK \n",
            "Extracting  /content/Patch_One/images/73742.png                          \b\b\b\b 68%\b\b\b\b\b  OK \n",
            "Extracting  /content/Patch_One/images/73743.png                          \b\b\b\b 69%\b\b\b\b\b  OK \n",
            "Extracting  /content/Patch_One/images/73744.png                          \b\b\b\b 69%\b\b\b\b\b  OK \n",
            "Extracting  /content/Patch_One/images/73745.png                          \b\b\b\b 69%\b\b\b\b\b  OK \n",
            "Extracting  /content/Patch_One/images/73746.png                          \b\b\b\b 69%\b\b\b\b\b  OK \n",
            "Extracting  /content/Patch_One/images/73747.png                          \b\b\b\b 69%\b\b\b\b\b  OK \n",
            "Extracting  /content/Patch_One/images/73748.png                          \b\b\b\b 69%\b\b\b\b\b  OK \n",
            "Extracting  /content/Patch_One/images/73749.png                          \b\b\b\b 69%\b\b\b\b\b  OK \n",
            "Extracting  /content/Patch_One/images/73750.png                          \b\b\b\b 69%\b\b\b\b\b  OK \n",
            "Extracting  /content/Patch_One/images/73751.png                          \b\b\b\b 69%\b\b\b\b\b  OK \n",
            "Extracting  /content/Patch_One/images/73752.png                          \b\b\b\b 70%\b\b\b\b\b  OK \n",
            "Extracting  /content/Patch_One/images/73753.png                          \b\b\b\b 70%\b\b\b\b\b  OK \n",
            "Extracting  /content/Patch_One/images/73754.png                          \b\b\b\b 70%\b\b\b\b\b  OK \n",
            "Extracting  /content/Patch_One/images/73755.png                          \b\b\b\b 70%\b\b\b\b\b  OK \n",
            "Extracting  /content/Patch_One/images/73756.png                          \b\b\b\b 70%\b\b\b\b\b  OK \n",
            "Extracting  /content/Patch_One/images/73757.png                          \b\b\b\b 70%\b\b\b\b\b  OK \n",
            "Extracting  /content/Patch_One/images/73758.png                          \b\b\b\b 70%\b\b\b\b\b  OK \n",
            "Extracting  /content/Patch_One/images/73759.png                          \b\b\b\b 70%\b\b\b\b\b  OK \n",
            "Extracting  /content/Patch_One/images/73760.png                          \b\b\b\b 70%\b\b\b\b\b  OK \n",
            "Extracting  /content/Patch_One/images/73761.png                          \b\b\b\b 71%\b\b\b\b\b  OK \n",
            "Extracting  /content/Patch_One/images/73762.png                          \b\b\b\b 71%\b\b\b\b\b  OK \n",
            "Extracting  /content/Patch_One/images/73763.png                          \b\b\b\b 71%\b\b\b\b\b  OK \n",
            "Extracting  /content/Patch_One/images/73764.png                          \b\b\b\b 71%\b\b\b\b\b  OK \n",
            "Extracting  /content/Patch_One/images/73765.png                          \b\b\b\b 71%\b\b\b\b\b  OK \n",
            "Extracting  /content/Patch_One/images/73767.png                          \b\b\b\b 71%\b\b\b\b\b  OK \n",
            "Extracting  /content/Patch_One/images/73768.png                          \b\b\b\b 71%\b\b\b\b\b  OK \n",
            "Extracting  /content/Patch_One/images/73769.png                          \b\b\b\b 71%\b\b\b\b\b  OK \n",
            "Extracting  /content/Patch_One/images/73771.png                          \b\b\b\b 71%\b\b\b\b\b  OK \n",
            "Extracting  /content/Patch_One/images/73772.png                          \b\b\b\b 72%\b\b\b\b\b  OK \n",
            "Extracting  /content/Patch_One/images/73773.png                          \b\b\b\b 72%\b\b\b\b\b  OK \n",
            "Extracting  /content/Patch_One/images/73774.png                          \b\b\b\b 72%\b\b\b\b\b  OK \n",
            "Extracting  /content/Patch_One/images/73775.png                          \b\b\b\b 72%\b\b\b\b\b  OK \n",
            "Extracting  /content/Patch_One/images/73776.png                          \b\b\b\b 72%\b\b\b\b\b  OK \n",
            "Extracting  /content/Patch_One/images/73777.png                          \b\b\b\b 72%\b\b\b\b\b  OK \n",
            "Extracting  /content/Patch_One/images/73778.png                          \b\b\b\b 72%\b\b\b\b\b  OK \n",
            "Extracting  /content/Patch_One/images/73779.png                          \b\b\b\b 72%\b\b\b\b\b  OK \n",
            "Extracting  /content/Patch_One/images/73780.png                          \b\b\b\b 72%\b\b\b\b\b  OK \n",
            "Extracting  /content/Patch_One/images/73781.png                          \b\b\b\b 73%\b\b\b\b\b  OK \n",
            "Extracting  /content/Patch_One/images/73782.png                          \b\b\b\b 73%\b\b\b\b\b  OK \n",
            "Extracting  /content/Patch_One/images/73783.png                          \b\b\b\b 73%\b\b\b\b\b  OK \n",
            "Extracting  /content/Patch_One/images/73784.png                          \b\b\b\b 73%\b\b\b\b\b  OK \n",
            "Extracting  /content/Patch_One/images/73785.png                          \b\b\b\b 73%\b\b\b\b\b  OK \n",
            "Extracting  /content/Patch_One/images/73786.png                          \b\b\b\b 73%\b\b\b\b\b  OK \n",
            "Extracting  /content/Patch_One/images/73788.png                          \b\b\b\b 73%\b\b\b\b\b  OK \n",
            "Extracting  /content/Patch_One/images/73789.png                          \b\b\b\b 73%\b\b\b\b\b  OK \n",
            "Extracting  /content/Patch_One/images/73790.png                          \b\b\b\b 73%\b\b\b\b\b  OK \n",
            "Extracting  /content/Patch_One/images/73791.png                          \b\b\b\b 74%\b\b\b\b\b  OK \n",
            "Extracting  /content/Patch_One/images/73792.png                          \b\b\b\b 74%\b\b\b\b\b  OK \n",
            "Extracting  /content/Patch_One/images/73793.png                          \b\b\b\b 74%\b\b\b\b\b  OK \n",
            "Extracting  /content/Patch_One/images/73794.png                          \b\b\b\b 74%\b\b\b\b\b  OK \n",
            "Extracting  /content/Patch_One/images/73796.png                          \b\b\b\b 74%\b\b\b\b\b  OK \n",
            "Extracting  /content/Patch_One/images/73797.png                          \b\b\b\b 74%\b\b\b\b\b  OK \n",
            "Extracting  /content/Patch_One/images/73798.png                          \b\b\b\b 74%\b\b\b\b\b  OK \n",
            "Extracting  /content/Patch_One/images/73799.png                          \b\b\b\b 74%\b\b\b\b\b  OK \n",
            "Extracting  /content/Patch_One/images/73800.png                          \b\b\b\b 74%\b\b\b\b\b  OK \n",
            "Extracting  /content/Patch_One/images/73801.png                          \b\b\b\b 75%\b\b\b\b\b  OK \n",
            "Extracting  /content/Patch_One/images/73802.png                          \b\b\b\b 75%\b\b\b\b\b  OK \n",
            "Extracting  /content/Patch_One/images/73803.png                          \b\b\b\b 75%\b\b\b\b\b  OK \n",
            "Extracting  /content/Patch_One/images/73804.png                          \b\b\b\b 75%\b\b\b\b\b  OK \n",
            "Extracting  /content/Patch_One/images/73806.png                          \b\b\b\b 75%\b\b\b\b\b  OK \n",
            "Extracting  /content/Patch_One/images/73807.png                          \b\b\b\b 75%\b\b\b\b\b  OK \n",
            "Extracting  /content/Patch_One/images/73808.png                          \b\b\b\b 75%\b\b\b\b\b  OK \n",
            "Extracting  /content/Patch_One/images/73809.png                          \b\b\b\b 75%\b\b\b\b\b  OK \n",
            "Extracting  /content/Patch_One/images/73810.png                          \b\b\b\b 75%\b\b\b\b\b  OK \n",
            "Extracting  /content/Patch_One/images/73811.png                          \b\b\b\b 76%\b\b\b\b\b  OK \n",
            "Extracting  /content/Patch_One/images/73812.png                          \b\b\b\b 76%\b\b\b\b\b  OK \n",
            "Extracting  /content/Patch_One/images/73813.png                          \b\b\b\b 76%\b\b\b\b\b  OK \n",
            "Extracting  /content/Patch_One/images/73814.png                          \b\b\b\b 76%\b\b\b\b\b  OK \n",
            "Extracting  /content/Patch_One/images/73815.png                          \b\b\b\b 76%\b\b\b\b\b  OK \n",
            "Extracting  /content/Patch_One/images/73816.png                          \b\b\b\b 76%\b\b\b\b\b  OK \n",
            "Extracting  /content/Patch_One/images/73817.png                          \b\b\b\b 76%\b\b\b\b\b  OK \n",
            "Extracting  /content/Patch_One/images/73818.png                          \b\b\b\b 76%\b\b\b\b\b  OK \n",
            "Extracting  /content/Patch_One/images/73821.png                          \b\b\b\b 76%\b\b\b\b\b  OK \n",
            "Extracting  /content/Patch_One/images/73822.png                          \b\b\b\b 77%\b\b\b\b\b  OK \n",
            "Extracting  /content/Patch_One/images/73823.png                          \b\b\b\b 77%\b\b\b\b\b  OK \n",
            "Extracting  /content/Patch_One/images/73824.png                          \b\b\b\b 77%\b\b\b\b\b  OK \n",
            "Extracting  /content/Patch_One/images/73825.png                          \b\b\b\b 77%\b\b\b\b\b  OK \n",
            "Extracting  /content/Patch_One/images/73826.png                          \b\b\b\b 77%\b\b\b\b\b  OK \n",
            "Extracting  /content/Patch_One/images/73827.png                          \b\b\b\b 77%\b\b\b\b\b  OK \n",
            "Extracting  /content/Patch_One/images/73828.png                          \b\b\b\b 77%\b\b\b\b\b  OK \n",
            "Extracting  /content/Patch_One/images/73829.png                          \b\b\b\b 77%\b\b\b\b\b  OK \n",
            "Extracting  /content/Patch_One/images/73830.png                          \b\b\b\b 77%\b\b\b\b\b  OK \n",
            "Extracting  /content/Patch_One/images/73831.png                          \b\b\b\b 78%\b\b\b\b\b  OK \n",
            "Extracting  /content/Patch_One/images/73832.png                          \b\b\b\b 78%\b\b\b\b\b  OK \n",
            "Extracting  /content/Patch_One/images/73833.png                          \b\b\b\b 78%\b\b\b\b\b  OK \n",
            "Extracting  /content/Patch_One/images/73834.png                          \b\b\b\b 78%\b\b\b\b\b  OK \n",
            "Extracting  /content/Patch_One/images/73835.png                          \b\b\b\b 78%\b\b\b\b\b  OK \n",
            "Extracting  /content/Patch_One/images/73836.png                          \b\b\b\b 78%\b\b\b\b\b  OK \n",
            "Extracting  /content/Patch_One/images/73837.png                          \b\b\b\b 78%\b\b\b\b\b  OK \n",
            "Extracting  /content/Patch_One/images/73838.png                          \b\b\b\b 78%\b\b\b\b\b  OK \n",
            "Extracting  /content/Patch_One/images/73839.png                          \b\b\b\b 78%\b\b\b\b\b  OK \n",
            "Extracting  /content/Patch_One/images/73840.png                          \b\b\b\b 79%\b\b\b\b\b  OK \n",
            "Extracting  /content/Patch_One/images/73842.png                          \b\b\b\b 79%\b\b\b\b\b  OK \n",
            "Extracting  /content/Patch_One/images/73843.png                          \b\b\b\b 79%\b\b\b\b\b  OK \n",
            "Extracting  /content/Patch_One/images/73844.png                          \b\b\b\b 79%\b\b\b\b\b  OK \n",
            "Extracting  /content/Patch_One/images/73845.png                          \b\b\b\b 79%\b\b\b\b\b  OK \n",
            "Extracting  /content/Patch_One/images/73846.png                          \b\b\b\b 79%\b\b\b\b\b  OK \n",
            "Extracting  /content/Patch_One/images/73847.png                          \b\b\b\b 79%\b\b\b\b\b  OK \n",
            "Extracting  /content/Patch_One/images/73848.png                          \b\b\b\b 79%\b\b\b\b\b  OK \n",
            "Extracting  /content/Patch_One/images/73849.png                          \b\b\b\b 79%\b\b\b\b\b  OK \n",
            "Extracting  /content/Patch_One/images/73850.png                          \b\b\b\b 80%\b\b\b\b\b  OK \n",
            "Extracting  /content/Patch_One/images/73851.png                          \b\b\b\b 80%\b\b\b\b\b  OK \n",
            "Extracting  /content/Patch_One/images/73852.png                          \b\b\b\b 80%\b\b\b\b\b  OK \n",
            "Extracting  /content/Patch_One/images/73853.png                          \b\b\b\b 80%\b\b\b\b\b  OK \n",
            "Extracting  /content/Patch_One/images/73854.png                          \b\b\b\b 80%\b\b\b\b\b  OK \n",
            "Extracting  /content/Patch_One/images/73855.png                          \b\b\b\b 80%\b\b\b\b\b  OK \n",
            "Extracting  /content/Patch_One/images/73856.png                          \b\b\b\b 80%\b\b\b\b\b  OK \n",
            "Extracting  /content/Patch_One/images/73857.png                          \b\b\b\b 80%\b\b\b\b\b  OK \n",
            "Extracting  /content/Patch_One/images/73858.png                          \b\b\b\b 80%\b\b\b\b\b  OK \n",
            "Extracting  /content/Patch_One/images/73859.png                          \b\b\b\b 81%\b\b\b\b\b  OK \n",
            "Extracting  /content/Patch_One/images/73860.png                          \b\b\b\b 81%\b\b\b\b\b  OK \n",
            "Extracting  /content/Patch_One/images/73861.png                          \b\b\b\b 81%\b\b\b\b\b  OK \n",
            "Extracting  /content/Patch_One/images/73862.png                          \b\b\b\b 81%\b\b\b\b\b  OK \n",
            "Extracting  /content/Patch_One/images/73863.png                          \b\b\b\b 81%\b\b\b\b\b  OK \n",
            "Extracting  /content/Patch_One/images/73864.png                          \b\b\b\b 81%\b\b\b\b\b  OK \n",
            "Extracting  /content/Patch_One/images/73865.png                          \b\b\b\b 81%\b\b\b\b\b  OK \n",
            "Extracting  /content/Patch_One/images/73867.png                          \b\b\b\b 81%\b\b\b\b\b  OK \n",
            "Extracting  /content/Patch_One/images/73868.png                          \b\b\b\b 81%\b\b\b\b\b  OK \n",
            "Extracting  /content/Patch_One/images/73869.png                          \b\b\b\b 82%\b\b\b\b\b  OK \n",
            "Extracting  /content/Patch_One/images/73871.png                          \b\b\b\b 82%\b\b\b\b\b  OK \n",
            "Extracting  /content/Patch_One/images/73872.png                          \b\b\b\b 82%\b\b\b\b\b  OK \n",
            "Extracting  /content/Patch_One/images/73873.png                          \b\b\b\b 82%\b\b\b\b\b  OK \n",
            "Extracting  /content/Patch_One/images/73874.png                          \b\b\b\b 82%\b\b\b\b\b  OK \n",
            "Extracting  /content/Patch_One/images/73875.png                          \b\b\b\b 82%\b\b\b\b\b  OK \n",
            "Extracting  /content/Patch_One/images/73876.png                          \b\b\b\b 82%\b\b\b\b\b  OK \n",
            "Extracting  /content/Patch_One/images/73877.png                          \b\b\b\b 82%\b\b\b\b\b  OK \n",
            "Extracting  /content/Patch_One/images/73878.png                          \b\b\b\b 82%\b\b\b\b\b  OK \n",
            "Extracting  /content/Patch_One/images/73879.png                          \b\b\b\b 83%\b\b\b\b\b  OK \n",
            "Extracting  /content/Patch_One/images/73880.png                          \b\b\b\b 83%\b\b\b\b\b  OK \n",
            "Extracting  /content/Patch_One/images/73881.png                          \b\b\b\b 83%\b\b\b\b\b  OK \n",
            "Extracting  /content/Patch_One/images/73882.png                          \b\b\b\b 83%\b\b\b\b\b  OK \n",
            "Extracting  /content/Patch_One/images/73883.png                          \b\b\b\b 83%\b\b\b\b\b  OK \n",
            "Extracting  /content/Patch_One/images/73885.png                          \b\b\b\b 83%\b\b\b\b\b  OK \n",
            "Extracting  /content/Patch_One/images/73886.png                          \b\b\b\b 83%\b\b\b\b\b  OK \n",
            "Extracting  /content/Patch_One/images/73887.png                          \b\b\b\b 83%\b\b\b\b\b  OK \n",
            "Extracting  /content/Patch_One/images/73888.png                          \b\b\b\b 83%\b\b\b\b\b  OK \n",
            "Extracting  /content/Patch_One/images/73889.png                          \b\b\b\b 84%\b\b\b\b\b  OK \n",
            "Extracting  /content/Patch_One/images/73890.png                          \b\b\b\b 84%\b\b\b\b\b  OK \n",
            "Extracting  /content/Patch_One/images/73891.png                          \b\b\b\b 84%\b\b\b\b\b  OK \n",
            "Extracting  /content/Patch_One/images/73892.png                          \b\b\b\b 84%\b\b\b\b\b  OK \n",
            "Extracting  /content/Patch_One/images/73893.png                          \b\b\b\b 84%\b\b\b\b\b  OK \n",
            "Extracting  /content/Patch_One/images/73894.png                          \b\b\b\b 84%\b\b\b\b\b  OK \n",
            "Extracting  /content/Patch_One/images/73895.png                          \b\b\b\b 84%\b\b\b\b\b  OK \n",
            "Extracting  /content/Patch_One/images/73896.png                          \b\b\b\b 84%\b\b\b\b\b  OK \n",
            "Extracting  /content/Patch_One/images/73897.png                          \b\b\b\b 84%\b\b\b\b\b  OK \n",
            "Extracting  /content/Patch_One/images/73898.png                          \b\b\b\b 85%\b\b\b\b\b  OK \n",
            "Extracting  /content/Patch_One/images/73899.png                          \b\b\b\b 85%\b\b\b\b\b  OK \n",
            "Extracting  /content/Patch_One/images/73900.png                          \b\b\b\b 85%\b\b\b\b\b  OK \n",
            "Extracting  /content/Patch_One/images/73901.png                          \b\b\b\b 85%\b\b\b\b\b  OK \n",
            "Extracting  /content/Patch_One/images/73902.png                          \b\b\b\b 85%\b\b\b\b\b  OK \n",
            "Extracting  /content/Patch_One/images/73903.png                          \b\b\b\b 85%\b\b\b\b\b  OK \n",
            "Extracting  /content/Patch_One/images/73904.png                          \b\b\b\b 85%\b\b\b\b\b  OK \n",
            "Extracting  /content/Patch_One/images/73905.png                          \b\b\b\b 85%\b\b\b\b\b  OK \n",
            "Extracting  /content/Patch_One/images/73907.png                          \b\b\b\b 85%\b\b\b\b\b  OK \n",
            "Extracting  /content/Patch_One/images/73909.png                          \b\b\b\b 86%\b\b\b\b\b  OK \n",
            "Extracting  /content/Patch_One/images/73910.png                          \b\b\b\b 86%\b\b\b\b\b  OK \n",
            "Extracting  /content/Patch_One/images/73911.png                          \b\b\b\b 86%\b\b\b\b\b  OK \n",
            "Extracting  /content/Patch_One/images/73912.png                          \b\b\b\b 86%\b\b\b\b\b  OK \n",
            "Extracting  /content/Patch_One/images/73913.png                          \b\b\b\b 86%\b\b\b\b\b  OK \n",
            "Extracting  /content/Patch_One/images/73914.png                          \b\b\b\b 86%\b\b\b\b\b  OK \n",
            "Extracting  /content/Patch_One/images/73915.png                          \b\b\b\b 86%\b\b\b\b\b  OK \n",
            "Extracting  /content/Patch_One/images/73916.png                          \b\b\b\b 86%\b\b\b\b\b  OK \n",
            "Extracting  /content/Patch_One/images/73917.png                          \b\b\b\b 86%\b\b\b\b\b  OK \n",
            "Extracting  /content/Patch_One/images/73919.png                          \b\b\b\b 87%\b\b\b\b\b  OK \n",
            "Extracting  /content/Patch_One/images/73920.png                          \b\b\b\b 87%\b\b\b\b\b  OK \n",
            "Extracting  /content/Patch_One/images/73921.png                          \b\b\b\b 87%\b\b\b\b\b  OK \n",
            "Extracting  /content/Patch_One/images/73922.png                          \b\b\b\b 87%\b\b\b\b\b  OK \n",
            "Extracting  /content/Patch_One/images/73923.png                          \b\b\b\b 87%\b\b\b\b\b  OK \n",
            "Extracting  /content/Patch_One/images/73924.png                          \b\b\b\b 87%\b\b\b\b\b  OK \n",
            "Extracting  /content/Patch_One/images/73925.png                          \b\b\b\b 87%\b\b\b\b\b  OK \n",
            "Extracting  /content/Patch_One/images/73926.png                          \b\b\b\b 87%\b\b\b\b\b  OK \n",
            "Extracting  /content/Patch_One/images/73927.png                          \b\b\b\b 87%\b\b\b\b\b  OK \n",
            "Extracting  /content/Patch_One/images/73928.png                          \b\b\b\b 88%\b\b\b\b\b  OK \n",
            "Extracting  /content/Patch_One/images/73929.png                          \b\b\b\b 88%\b\b\b\b\b  OK \n",
            "Extracting  /content/Patch_One/images/73930.png                          \b\b\b\b 88%\b\b\b\b\b  OK \n",
            "Extracting  /content/Patch_One/images/73932.png                          \b\b\b\b 88%\b\b\b\b\b  OK \n",
            "Extracting  /content/Patch_One/images/73933.png                          \b\b\b\b 88%\b\b\b\b\b  OK \n",
            "Extracting  /content/Patch_One/images/73934.png                          \b\b\b\b 88%\b\b\b\b\b  OK \n",
            "Extracting  /content/Patch_One/images/73935.png                          \b\b\b\b 88%\b\b\b\b\b  OK \n",
            "Extracting  /content/Patch_One/images/73936.png                          \b\b\b\b 88%\b\b\b\b\b  OK \n",
            "Extracting  /content/Patch_One/images/73937.png                          \b\b\b\b 89%\b\b\b\b\b  OK \n",
            "Extracting  /content/Patch_One/images/73939.png                          \b\b\b\b 89%\b\b\b\b\b  OK \n",
            "Extracting  /content/Patch_One/images/73940.png                          \b\b\b\b 89%\b\b\b\b\b  OK \n",
            "Extracting  /content/Patch_One/images/73941.png                          \b\b\b\b 89%\b\b\b\b\b  OK \n",
            "Extracting  /content/Patch_One/images/73942.png                          \b\b\b\b 89%\b\b\b\b\b  OK \n",
            "Extracting  /content/Patch_One/images/73943.png                          \b\b\b\b 89%\b\b\b\b\b  OK \n",
            "Extracting  /content/Patch_One/images/73944.png                          \b\b\b\b 89%\b\b\b\b\b  OK \n",
            "Extracting  /content/Patch_One/images/73945.png                          \b\b\b\b 89%\b\b\b\b\b  OK \n",
            "Extracting  /content/Patch_One/images/73946.png                          \b\b\b\b 89%\b\b\b\b\b  OK \n",
            "Extracting  /content/Patch_One/images/73947.png                          \b\b\b\b 90%\b\b\b\b\b  OK \n",
            "Extracting  /content/Patch_One/images/73948.png                          \b\b\b\b 90%\b\b\b\b\b  OK \n",
            "Extracting  /content/Patch_One/images/73950.png                          \b\b\b\b 90%\b\b\b\b\b  OK \n",
            "Extracting  /content/Patch_One/images/73951.png                          \b\b\b\b 90%\b\b\b\b\b  OK \n",
            "Extracting  /content/Patch_One/images/73952.png                          \b\b\b\b 90%\b\b\b\b\b  OK \n",
            "Extracting  /content/Patch_One/images/73953.png                          \b\b\b\b 90%\b\b\b\b\b  OK \n",
            "Extracting  /content/Patch_One/images/73954.png                          \b\b\b\b 90%\b\b\b\b\b  OK \n",
            "Extracting  /content/Patch_One/images/73955.png                          \b\b\b\b 90%\b\b\b\b\b  OK \n",
            "Extracting  /content/Patch_One/images/73956.png                          \b\b\b\b 90%\b\b\b\b\b  OK \n",
            "Extracting  /content/Patch_One/images/73957.png                          \b\b\b\b 91%\b\b\b\b\b  OK \n",
            "Extracting  /content/Patch_One/images/73958.png                          \b\b\b\b 91%\b\b\b\b\b  OK \n",
            "Extracting  /content/Patch_One/images/73960.png                          \b\b\b\b 91%\b\b\b\b\b  OK \n",
            "Extracting  /content/Patch_One/images/73961.png                          \b\b\b\b 91%\b\b\b\b\b  OK \n",
            "Extracting  /content/Patch_One/images/73962.png                          \b\b\b\b 91%\b\b\b\b\b  OK \n",
            "Extracting  /content/Patch_One/images/73963.png                          \b\b\b\b 91%\b\b\b\b\b  OK \n",
            "Extracting  /content/Patch_One/images/73964.png                          \b\b\b\b 91%\b\b\b\b\b  OK \n",
            "Extracting  /content/Patch_One/images/73965.png                          \b\b\b\b 91%\b\b\b\b\b  OK \n",
            "Extracting  /content/Patch_One/images/73966.png                          \b\b\b\b 91%\b\b\b\b\b  OK \n",
            "Extracting  /content/Patch_One/images/73967.png                          \b\b\b\b 92%\b\b\b\b\b  OK \n",
            "Extracting  /content/Patch_One/images/73968.png                          \b\b\b\b 92%\b\b\b\b\b  OK \n",
            "Extracting  /content/Patch_One/images/73969.png                          \b\b\b\b 92%\b\b\b\b\b  OK \n",
            "Extracting  /content/Patch_One/images/73970.png                          \b\b\b\b 92%\b\b\b\b\b  OK \n",
            "Extracting  /content/Patch_One/images/73971.png                          \b\b\b\b 92%\b\b\b\b\b  OK \n",
            "Extracting  /content/Patch_One/images/73972.png                          \b\b\b\b 92%\b\b\b\b\b  OK \n",
            "Extracting  /content/Patch_One/images/73973.png                          \b\b\b\b 92%\b\b\b\b\b  OK \n",
            "Extracting  /content/Patch_One/images/73974.png                          \b\b\b\b 92%\b\b\b\b\b  OK \n",
            "Extracting  /content/Patch_One/images/73975.png                          \b\b\b\b 92%\b\b\b\b\b  OK \n",
            "Extracting  /content/Patch_One/images/73976.png                          \b\b\b\b 93%\b\b\b\b\b  OK \n",
            "Extracting  /content/Patch_One/images/73977.png                          \b\b\b\b 93%\b\b\b\b\b  OK \n",
            "Extracting  /content/Patch_One/images/73978.png                          \b\b\b\b 93%\b\b\b\b\b  OK \n",
            "Extracting  /content/Patch_One/images/73979.png                          \b\b\b\b 93%\b\b\b\b\b  OK \n",
            "Extracting  /content/Patch_One/images/73980.png                          \b\b\b\b 93%\b\b\b\b\b  OK \n",
            "Extracting  /content/Patch_One/images/73981.png                          \b\b\b\b 93%\b\b\b\b\b  OK \n",
            "Extracting  /content/Patch_One/images/73982.png                          \b\b\b\b 93%\b\b\b\b\b  OK \n",
            "Extracting  /content/Patch_One/images/73983.png                          \b\b\b\b 93%\b\b\b\b\b  OK \n",
            "Extracting  /content/Patch_One/images/73984.png                          \b\b\b\b 94%\b\b\b\b\b  OK \n",
            "Extracting  /content/Patch_One/images/73985.png                          \b\b\b\b 94%\b\b\b\b\b  OK \n",
            "Extracting  /content/Patch_One/images/73986.png                          \b\b\b\b 94%\b\b\b\b\b  OK \n",
            "Extracting  /content/Patch_One/images/73987.png                          \b\b\b\b 94%\b\b\b\b\b  OK \n",
            "Extracting  /content/Patch_One/images/73988.png                          \b\b\b\b 94%\b\b\b\b\b  OK \n",
            "Extracting  /content/Patch_One/images/73989.png                          \b\b\b\b 94%\b\b\b\b\b  OK \n",
            "Extracting  /content/Patch_One/images/73991.png                          \b\b\b\b 94%\b\b\b\b\b  OK \n",
            "Extracting  /content/Patch_One/images/73992.png                          \b\b\b\b 94%\b\b\b\b\b  OK \n",
            "Extracting  /content/Patch_One/images/73993.png                          \b\b\b\b 94%\b\b\b\b\b  OK \n",
            "Extracting  /content/Patch_One/images/73994.png                          \b\b\b\b 95%\b\b\b\b\b  OK \n",
            "Extracting  /content/Patch_One/images/73995.png                          \b\b\b\b 95%\b\b\b\b\b  OK \n",
            "Extracting  /content/Patch_One/images/73996.png                          \b\b\b\b 95%\b\b\b\b\b  OK \n",
            "Extracting  /content/Patch_One/images/73997.png                          \b\b\b\b 95%\b\b\b\b\b  OK \n",
            "Extracting  /content/Patch_One/images/73998.png                          \b\b\b\b 95%\b\b\b\b\b  OK \n",
            "Extracting  /content/Patch_One/images/73999.png                          \b\b\b\b 95%\b\b\b\b\b  OK \n",
            "Extracting  /content/Patch_One/images/74000.png                          \b\b\b\b 95%\b\b\b\b\b  OK \n",
            "Extracting  /content/Patch_One/images/74001.png                          \b\b\b\b 95%\b\b\b\b\b  OK \n",
            "Extracting  /content/Patch_One/images/74002.png                          \b\b\b\b 95%\b\b\b\b\b  OK \n",
            "Extracting  /content/Patch_One/images/74004.png                          \b\b\b\b 96%\b\b\b\b\b  OK \n",
            "Extracting  /content/Patch_One/images/74005.png                          \b\b\b\b 96%\b\b\b\b\b  OK \n",
            "Extracting  /content/Patch_One/images/74006.png                          \b\b\b\b 96%\b\b\b\b\b  OK \n",
            "Extracting  /content/Patch_One/images/74007.png                          \b\b\b\b 96%\b\b\b\b\b  OK \n",
            "Extracting  /content/Patch_One/images/74008.png                          \b\b\b\b 96%\b\b\b\b\b  OK \n",
            "Extracting  /content/Patch_One/images/74009.png                          \b\b\b\b 96%\b\b\b\b\b  OK \n",
            "Extracting  /content/Patch_One/images/74010.png                          \b\b\b\b 96%\b\b\b\b\b  OK \n",
            "Extracting  /content/Patch_One/images/74011.png                          \b\b\b\b 96%\b\b\b\b\b  OK \n",
            "Extracting  /content/Patch_One/images/74012.png                          \b\b\b\b 96%\b\b\b\b\b  OK \n",
            "Extracting  /content/Patch_One/images/74013.png                          \b\b\b\b 97%\b\b\b\b\b  OK \n",
            "Extracting  /content/Patch_One/images/74014.png                          \b\b\b\b 97%\b\b\b\b\b  OK \n",
            "Extracting  /content/Patch_One/images/74015.png                          \b\b\b\b 97%\b\b\b\b\b  OK \n",
            "Extracting  /content/Patch_One/images/74016.png                          \b\b\b\b 97%\b\b\b\b\b  OK \n",
            "Extracting  /content/Patch_One/images/74017.png                          \b\b\b\b 97%\b\b\b\b\b  OK \n",
            "Extracting  /content/Patch_One/images/74019.png                          \b\b\b\b 97%\b\b\b\b\b  OK \n",
            "Extracting  /content/Patch_One/images/74020.png                          \b\b\b\b 97%\b\b\b\b\b  OK \n",
            "Extracting  /content/Patch_One/images/74021.png                          \b\b\b\b 97%\b\b\b\b\b  OK \n",
            "Extracting  /content/Patch_One/images/74022.png                          \b\b\b\b 98%\b\b\b\b\b  OK \n",
            "Extracting  /content/Patch_One/images/74023.png                          \b\b\b\b 98%\b\b\b\b\b  OK \n",
            "Extracting  /content/Patch_One/images/74024.png                          \b\b\b\b 98%\b\b\b\b\b  OK \n",
            "Extracting  /content/Patch_One/images/74025.png                          \b\b\b\b 98%\b\b\b\b\b  OK \n",
            "Extracting  /content/Patch_One/images/74026.png                          \b\b\b\b 98%\b\b\b\b\b  OK \n",
            "Extracting  /content/Patch_One/images/74027.png                          \b\b\b\b 98%\b\b\b\b\b  OK \n",
            "Extracting  /content/Patch_One/images/74028.png                          \b\b\b\b 98%\b\b\b\b\b  OK \n",
            "Extracting  /content/Patch_One/images/74029.png                          \b\b\b\b 98%\b\b\b\b\b  OK \n",
            "Extracting  /content/Patch_One/images/74030.png                          \b\b\b\b 98%\b\b\b\b\b  OK \n",
            "Extracting  /content/Patch_One/images/74031.png                          \b\b\b\b 99%\b\b\b\b\b  OK \n",
            "Extracting  /content/Patch_One/images/74032.png                          \b\b\b\b 99%\b\b\b\b\b  OK \n",
            "Extracting  /content/Patch_One/images/74033.png                          \b\b\b\b 99%\b\b\b\b\b  OK \n",
            "Extracting  /content/Patch_One/images/74034.png                          \b\b\b\b 99%\b\b\b\b\b  OK \n",
            "Extracting  /content/Patch_One/images/74035.png                          \b\b\b\b 99%\b\b\b\b\b  OK \n",
            "Extracting  /content/Patch_One/images/74036.png                          \b\b\b\b 99%\b\b\b\b\b  OK \n",
            "Extracting  /content/Patch_One/images/74037.png                          \b\b\b\b 99%\b\b\b\b\b  OK \n",
            "Extracting  /content/Patch_One/images/74038.png                          \b\b\b\b 99%\b\b\b\b\b  OK \n",
            "Extracting  /content/Patch_One/images/74039.png                          \b\b\b\b 99%\b\b\b\b\b  OK \n",
            "Creating    /content/Patch_One/labels                                 OK\n",
            "Extracting  /content/Patch_One/labels/70007.txt                          \b\b\b\b 99%\b\b\b\b\b  OK \n",
            "Extracting  /content/Patch_One/labels/70008.txt                          \b\b\b\b 99%\b\b\b\b\b  OK \n",
            "Extracting  /content/Patch_One/labels/70031.txt                          \b\b\b\b 99%\b\b\b\b\b  OK \n",
            "Extracting  /content/Patch_One/labels/70034.txt                          \b\b\b\b 99%\b\b\b\b\b  OK \n",
            "Extracting  /content/Patch_One/labels/70043.txt                          \b\b\b\b 99%\b\b\b\b\b  OK \n",
            "Extracting  /content/Patch_One/labels/70063.txt                          \b\b\b\b 99%\b\b\b\b\b  OK \n",
            "Extracting  /content/Patch_One/labels/70080.txt                          \b\b\b\b 99%\b\b\b\b\b  OK \n",
            "Extracting  /content/Patch_One/labels/70087.txt                          \b\b\b\b 99%\b\b\b\b\b  OK \n",
            "Extracting  /content/Patch_One/labels/70088.txt                          \b\b\b\b 99%\b\b\b\b\b  OK \n",
            "Extracting  /content/Patch_One/labels/70101.txt                          \b\b\b\b 99%\b\b\b\b\b  OK \n",
            "Extracting  /content/Patch_One/labels/70150.txt                          \b\b\b\b 99%\b\b\b\b\b  OK \n",
            "Extracting  /content/Patch_One/labels/70159.txt                          \b\b\b\b 99%\b\b\b\b\b  OK \n",
            "Extracting  /content/Patch_One/labels/70163.txt                          \b\b\b\b 99%\b\b\b\b\b  OK \n",
            "Extracting  /content/Patch_One/labels/70164.txt                          \b\b\b\b 99%\b\b\b\b\b  OK \n",
            "Extracting  /content/Patch_One/labels/70165.txt                          \b\b\b\b 99%\b\b\b\b\b  OK \n",
            "Extracting  /content/Patch_One/labels/70167.txt                          \b\b\b\b 99%\b\b\b\b\b  OK \n",
            "Extracting  /content/Patch_One/labels/70183.txt                          \b\b\b\b 99%\b\b\b\b\b  OK \n",
            "Extracting  /content/Patch_One/labels/70188.txt                          \b\b\b\b 99%\b\b\b\b\b  OK \n",
            "Extracting  /content/Patch_One/labels/70191.txt                          \b\b\b\b 99%\b\b\b\b\b  OK \n",
            "Extracting  /content/Patch_One/labels/70195.txt                          \b\b\b\b 99%\b\b\b\b\b  OK \n",
            "Extracting  /content/Patch_One/labels/70392.txt                          \b\b\b\b 99%\b\b\b\b\b  OK \n",
            "Extracting  /content/Patch_One/labels/70397.txt                          \b\b\b\b 99%\b\b\b\b\b  OK \n",
            "Extracting  /content/Patch_One/labels/70408.txt                          \b\b\b\b 99%\b\b\b\b\b  OK \n",
            "Extracting  /content/Patch_One/labels/70435.txt                          \b\b\b\b 99%\b\b\b\b\b  OK \n",
            "Extracting  /content/Patch_One/labels/70439.txt                          \b\b\b\b 99%\b\b\b\b\b  OK \n",
            "Extracting  /content/Patch_One/labels/70466.txt                          \b\b\b\b 99%\b\b\b\b\b  OK \n",
            "Extracting  /content/Patch_One/labels/70468.txt                          \b\b\b\b 99%\b\b\b\b\b  OK \n",
            "Extracting  /content/Patch_One/labels/70487.txt                          \b\b\b\b 99%\b\b\b\b\b  OK \n",
            "Extracting  /content/Patch_One/labels/70494.txt                          \b\b\b\b 99%\b\b\b\b\b  OK \n",
            "Extracting  /content/Patch_One/labels/70495.txt                          \b\b\b\b 99%\b\b\b\b\b  OK \n",
            "Extracting  /content/Patch_One/labels/70524.txt                          \b\b\b\b 99%\b\b\b\b\b  OK \n",
            "Extracting  /content/Patch_One/labels/70534.txt                          \b\b\b\b 99%\b\b\b\b\b  OK \n",
            "Extracting  /content/Patch_One/labels/70535.txt                          \b\b\b\b 99%\b\b\b\b\b  OK \n",
            "Extracting  /content/Patch_One/labels/70550.txt                          \b\b\b\b 99%\b\b\b\b\b  OK \n",
            "Extracting  /content/Patch_One/labels/70553.txt                          \b\b\b\b 99%\b\b\b\b\b  OK \n",
            "Extracting  /content/Patch_One/labels/70571.txt                          \b\b\b\b 99%\b\b\b\b\b  OK \n",
            "Extracting  /content/Patch_One/labels/70573.txt                          \b\b\b\b 99%\b\b\b\b\b  OK \n",
            "Extracting  /content/Patch_One/labels/70587.txt                          \b\b\b\b 99%\b\b\b\b\b  OK \n",
            "Extracting  /content/Patch_One/labels/70608.txt                          \b\b\b\b 99%\b\b\b\b\b  OK \n",
            "Extracting  /content/Patch_One/labels/70613.txt                          \b\b\b\b 99%\b\b\b\b\b  OK \n",
            "Extracting  /content/Patch_One/labels/70623.txt                          \b\b\b\b 99%\b\b\b\b\b  OK \n",
            "Extracting  /content/Patch_One/labels/70647.txt                          \b\b\b\b 99%\b\b\b\b\b  OK \n",
            "Extracting  /content/Patch_One/labels/70651.txt                          \b\b\b\b 99%\b\b\b\b\b  OK \n",
            "Extracting  /content/Patch_One/labels/70656.txt                          \b\b\b\b 99%\b\b\b\b\b  OK \n",
            "Extracting  /content/Patch_One/labels/70663.txt                          \b\b\b\b 99%\b\b\b\b\b  OK \n",
            "Extracting  /content/Patch_One/labels/70673.txt                          \b\b\b\b 99%\b\b\b\b\b  OK \n",
            "Extracting  /content/Patch_One/labels/70676.txt                          \b\b\b\b 99%\b\b\b\b\b  OK \n",
            "Extracting  /content/Patch_One/labels/70678.txt                          \b\b\b\b 99%\b\b\b\b\b  OK \n",
            "Extracting  /content/Patch_One/labels/70694.txt                          \b\b\b\b 99%\b\b\b\b\b  OK \n",
            "Extracting  /content/Patch_One/labels/70695.txt                          \b\b\b\b 99%\b\b\b\b\b  OK \n",
            "Extracting  /content/Patch_One/labels/70698.txt                          \b\b\b\b 99%\b\b\b\b\b  OK \n",
            "Extracting  /content/Patch_One/labels/70713.txt                          \b\b\b\b 99%\b\b\b\b\b  OK \n",
            "Extracting  /content/Patch_One/labels/70716.txt                          \b\b\b\b 99%\b\b\b\b\b  OK \n",
            "Extracting  /content/Patch_One/labels/70717.txt                          \b\b\b\b 99%\b\b\b\b\b  OK \n",
            "Extracting  /content/Patch_One/labels/70723.txt                          \b\b\b\b 99%\b\b\b\b\b  OK \n",
            "Extracting  /content/Patch_One/labels/70729.txt                          \b\b\b\b 99%\b\b\b\b\b  OK \n",
            "Extracting  /content/Patch_One/labels/70733.txt                          \b\b\b\b 99%\b\b\b\b\b  OK \n",
            "Extracting  /content/Patch_One/labels/70737.txt                          \b\b\b\b 99%\b\b\b\b\b  OK \n",
            "Extracting  /content/Patch_One/labels/70742.txt                          \b\b\b\b 99%\b\b\b\b\b  OK \n",
            "Extracting  /content/Patch_One/labels/70750.txt                          \b\b\b\b 99%\b\b\b\b\b  OK \n",
            "Extracting  /content/Patch_One/labels/70754.txt                          \b\b\b\b 99%\b\b\b\b\b  OK \n",
            "Extracting  /content/Patch_One/labels/70756.txt                          \b\b\b\b 99%\b\b\b\b\b  OK \n",
            "Extracting  /content/Patch_One/labels/70758.txt                          \b\b\b\b 99%\b\b\b\b\b  OK \n",
            "Extracting  /content/Patch_One/labels/70759.txt                          \b\b\b\b 99%\b\b\b\b\b  OK \n",
            "Extracting  /content/Patch_One/labels/70777.txt                          \b\b\b\b 99%\b\b\b\b\b  OK \n",
            "Extracting  /content/Patch_One/labels/70778.txt                          \b\b\b\b 99%\b\b\b\b\b  OK \n",
            "Extracting  /content/Patch_One/labels/70783.txt                          \b\b\b\b 99%\b\b\b\b\b  OK \n",
            "Extracting  /content/Patch_One/labels/70787.txt                          \b\b\b\b 99%\b\b\b\b\b  OK \n",
            "Extracting  /content/Patch_One/labels/70794.txt                          \b\b\b\b 99%\b\b\b\b\b  OK \n",
            "Extracting  /content/Patch_One/labels/70801.txt                          \b\b\b\b 99%\b\b\b\b\b  OK \n",
            "Extracting  /content/Patch_One/labels/70812.txt                          \b\b\b\b 99%\b\b\b\b\b  OK \n",
            "Extracting  /content/Patch_One/labels/70828.txt                          \b\b\b\b 99%\b\b\b\b\b  OK \n",
            "Extracting  /content/Patch_One/labels/70838.txt                          \b\b\b\b 99%\b\b\b\b\b  OK \n",
            "Extracting  /content/Patch_One/labels/70895.txt                          \b\b\b\b 99%\b\b\b\b\b  OK \n",
            "Extracting  /content/Patch_One/labels/70908.txt                          \b\b\b\b 99%\b\b\b\b\b  OK \n",
            "Extracting  /content/Patch_One/labels/70909.txt                          \b\b\b\b 99%\b\b\b\b\b  OK \n",
            "Extracting  /content/Patch_One/labels/70913.txt                          \b\b\b\b 99%\b\b\b\b\b  OK \n",
            "Extracting  /content/Patch_One/labels/70926.txt                          \b\b\b\b 99%\b\b\b\b\b  OK \n",
            "Extracting  /content/Patch_One/labels/70930.txt                          \b\b\b\b 99%\b\b\b\b\b  OK \n",
            "Extracting  /content/Patch_One/labels/70946.txt                          \b\b\b\b 99%\b\b\b\b\b  OK \n",
            "Extracting  /content/Patch_One/labels/70951.txt                          \b\b\b\b 99%\b\b\b\b\b  OK \n",
            "Extracting  /content/Patch_One/labels/70960.txt                          \b\b\b\b 99%\b\b\b\b\b  OK \n",
            "Extracting  /content/Patch_One/labels/70973.txt                          \b\b\b\b 99%\b\b\b\b\b  OK \n",
            "Extracting  /content/Patch_One/labels/70974.txt                          \b\b\b\b 99%\b\b\b\b\b  OK \n",
            "Extracting  /content/Patch_One/labels/70977.txt                          \b\b\b\b 99%\b\b\b\b\b  OK \n",
            "Extracting  /content/Patch_One/labels/70984.txt                          \b\b\b\b 99%\b\b\b\b\b  OK \n",
            "Extracting  /content/Patch_One/labels/70992.txt                          \b\b\b\b 99%\b\b\b\b\b  OK \n",
            "Extracting  /content/Patch_One/labels/70998.txt                          \b\b\b\b 99%\b\b\b\b\b  OK \n",
            "Extracting  /content/Patch_One/labels/71006.txt                          \b\b\b\b 99%\b\b\b\b\b  OK \n",
            "Extracting  /content/Patch_One/labels/71008.txt                          \b\b\b\b 99%\b\b\b\b\b  OK \n",
            "Extracting  /content/Patch_One/labels/71009.txt                          \b\b\b\b 99%\b\b\b\b\b  OK \n",
            "Extracting  /content/Patch_One/labels/71064.txt                          \b\b\b\b 99%\b\b\b\b\b  OK \n",
            "Extracting  /content/Patch_One/labels/71086.txt                          \b\b\b\b 99%\b\b\b\b\b  OK \n",
            "Extracting  /content/Patch_One/labels/71095.txt                          \b\b\b\b 99%\b\b\b\b\b  OK \n",
            "Extracting  /content/Patch_One/labels/71096.txt                          \b\b\b\b 99%\b\b\b\b\b  OK \n",
            "Extracting  /content/Patch_One/labels/71106.txt                          \b\b\b\b 99%\b\b\b\b\b  OK \n",
            "Extracting  /content/Patch_One/labels/71137.txt                          \b\b\b\b 99%\b\b\b\b\b  OK \n",
            "Extracting  /content/Patch_One/labels/71179.txt                          \b\b\b\b 99%\b\b\b\b\b  OK \n",
            "Extracting  /content/Patch_One/labels/71186.txt                          \b\b\b\b 99%\b\b\b\b\b  OK \n",
            "Extracting  /content/Patch_One/labels/71200.txt                          \b\b\b\b 99%\b\b\b\b\b  OK \n",
            "Extracting  /content/Patch_One/labels/71216.txt                          \b\b\b\b 99%\b\b\b\b\b  OK \n",
            "Extracting  /content/Patch_One/labels/71222.txt                          \b\b\b\b 99%\b\b\b\b\b  OK \n",
            "Extracting  /content/Patch_One/labels/71224.txt                          \b\b\b\b 99%\b\b\b\b\b  OK \n",
            "Extracting  /content/Patch_One/labels/71233.txt                          \b\b\b\b 99%\b\b\b\b\b  OK \n",
            "Extracting  /content/Patch_One/labels/71256.txt                          \b\b\b\b 99%\b\b\b\b\b  OK \n",
            "Extracting  /content/Patch_One/labels/71264.txt                          \b\b\b\b 99%\b\b\b\b\b  OK \n",
            "Extracting  /content/Patch_One/labels/71266.txt                          \b\b\b\b 99%\b\b\b\b\b  OK \n",
            "Extracting  /content/Patch_One/labels/71279.txt                          \b\b\b\b 99%\b\b\b\b\b  OK \n",
            "Extracting  /content/Patch_One/labels/71309.txt                          \b\b\b\b 99%\b\b\b\b\b  OK \n",
            "Extracting  /content/Patch_One/labels/71310.txt                          \b\b\b\b 99%\b\b\b\b\b  OK \n",
            "Extracting  /content/Patch_One/labels/71316.txt                          \b\b\b\b 99%\b\b\b\b\b  OK \n",
            "Extracting  /content/Patch_One/labels/71318.txt                          \b\b\b\b 99%\b\b\b\b\b  OK \n",
            "Extracting  /content/Patch_One/labels/71326.txt                          \b\b\b\b 99%\b\b\b\b\b  OK \n",
            "Extracting  /content/Patch_One/labels/71327.txt                          \b\b\b\b 99%\b\b\b\b\b  OK \n",
            "Extracting  /content/Patch_One/labels/71342.txt                          \b\b\b\b 99%\b\b\b\b\b  OK \n",
            "Extracting  /content/Patch_One/labels/71346.txt                          \b\b\b\b 99%\b\b\b\b\b  OK \n",
            "Extracting  /content/Patch_One/labels/71356.txt                          \b\b\b\b 99%\b\b\b\b\b  OK \n",
            "Extracting  /content/Patch_One/labels/71358.txt                          \b\b\b\b 99%\b\b\b\b\b  OK \n",
            "Extracting  /content/Patch_One/labels/71375.txt                          \b\b\b\b 99%\b\b\b\b\b  OK \n",
            "Extracting  /content/Patch_One/labels/71381.txt                          \b\b\b\b 99%\b\b\b\b\b  OK \n",
            "Extracting  /content/Patch_One/labels/71384.txt                          \b\b\b\b 99%\b\b\b\b\b  OK \n",
            "Extracting  /content/Patch_One/labels/71398.txt                          \b\b\b\b 99%\b\b\b\b\b  OK \n",
            "Extracting  /content/Patch_One/labels/71401.txt                          \b\b\b\b 99%\b\b\b\b\b  OK \n",
            "Extracting  /content/Patch_One/labels/71402.txt                          \b\b\b\b 99%\b\b\b\b\b  OK \n",
            "Extracting  /content/Patch_One/labels/71409.txt                          \b\b\b\b 99%\b\b\b\b\b  OK \n",
            "Extracting  /content/Patch_One/labels/71411.txt                          \b\b\b\b 99%\b\b\b\b\b  OK \n",
            "Extracting  /content/Patch_One/labels/71415.txt                          \b\b\b\b 99%\b\b\b\b\b  OK \n",
            "Extracting  /content/Patch_One/labels/71442.txt                          \b\b\b\b 99%\b\b\b\b\b  OK \n",
            "Extracting  /content/Patch_One/labels/71462.txt                          \b\b\b\b 99%\b\b\b\b\b  OK \n",
            "Extracting  /content/Patch_One/labels/71466.txt                          \b\b\b\b 99%\b\b\b\b\b  OK \n",
            "Extracting  /content/Patch_One/labels/71468.txt                          \b\b\b\b 99%\b\b\b\b\b  OK \n",
            "Extracting  /content/Patch_One/labels/71478.txt                          \b\b\b\b 99%\b\b\b\b\b  OK \n",
            "Extracting  /content/Patch_One/labels/71479.txt                          \b\b\b\b 99%\b\b\b\b\b  OK \n",
            "Extracting  /content/Patch_One/labels/71511.txt                          \b\b\b\b 99%\b\b\b\b\b  OK \n",
            "Extracting  /content/Patch_One/labels/71520.txt                          \b\b\b\b 99%\b\b\b\b\b  OK \n",
            "Extracting  /content/Patch_One/labels/71521.txt                          \b\b\b\b 99%\b\b\b\b\b  OK \n",
            "Extracting  /content/Patch_One/labels/71528.txt                          \b\b\b\b 99%\b\b\b\b\b  OK \n",
            "Extracting  /content/Patch_One/labels/71529.txt                          \b\b\b\b 99%\b\b\b\b\b  OK \n",
            "Extracting  /content/Patch_One/labels/71532.txt                          \b\b\b\b 99%\b\b\b\b\b  OK \n",
            "Extracting  /content/Patch_One/labels/71536.txt                          \b\b\b\b 99%\b\b\b\b\b  OK \n",
            "Extracting  /content/Patch_One/labels/71543.txt                          \b\b\b\b 99%\b\b\b\b\b  OK \n",
            "Extracting  /content/Patch_One/labels/71555.txt                          \b\b\b\b 99%\b\b\b\b\b  OK \n",
            "Extracting  /content/Patch_One/labels/71560.txt                          \b\b\b\b 99%\b\b\b\b\b  OK \n",
            "Extracting  /content/Patch_One/labels/71561.txt                          \b\b\b\b 99%\b\b\b\b\b  OK \n",
            "Extracting  /content/Patch_One/labels/71566.txt                          \b\b\b\b 99%\b\b\b\b\b  OK \n",
            "Extracting  /content/Patch_One/labels/71567.txt                          \b\b\b\b 99%\b\b\b\b\b  OK \n",
            "Extracting  /content/Patch_One/labels/71568.txt                          \b\b\b\b 99%\b\b\b\b\b  OK \n",
            "Extracting  /content/Patch_One/labels/71578.txt                          \b\b\b\b 99%\b\b\b\b\b  OK \n",
            "Extracting  /content/Patch_One/labels/71596.txt                          \b\b\b\b 99%\b\b\b\b\b  OK \n",
            "Extracting  /content/Patch_One/labels/71601.txt                          \b\b\b\b 99%\b\b\b\b\b  OK \n",
            "Extracting  /content/Patch_One/labels/71607.txt                          \b\b\b\b 99%\b\b\b\b\b  OK \n",
            "Extracting  /content/Patch_One/labels/71610.txt                          \b\b\b\b 99%\b\b\b\b\b  OK \n",
            "Extracting  /content/Patch_One/labels/71618.txt                          \b\b\b\b 99%\b\b\b\b\b  OK \n",
            "Extracting  /content/Patch_One/labels/71620.txt                          \b\b\b\b 99%\b\b\b\b\b  OK \n",
            "Extracting  /content/Patch_One/labels/71623.txt                          \b\b\b\b 99%\b\b\b\b\b  OK \n",
            "Extracting  /content/Patch_One/labels/71628.txt                          \b\b\b\b 99%\b\b\b\b\b  OK \n",
            "Extracting  /content/Patch_One/labels/71629.txt                          \b\b\b\b 99%\b\b\b\b\b  OK \n",
            "Extracting  /content/Patch_One/labels/71645.txt                          \b\b\b\b 99%\b\b\b\b\b  OK \n",
            "Extracting  /content/Patch_One/labels/71648.txt                          \b\b\b\b 99%\b\b\b\b\b  OK \n",
            "Extracting  /content/Patch_One/labels/71651.txt                          \b\b\b\b 99%\b\b\b\b\b  OK \n",
            "Extracting  /content/Patch_One/labels/71690.txt                          \b\b\b\b 99%\b\b\b\b\b  OK \n",
            "Extracting  /content/Patch_One/labels/71704.txt                          \b\b\b\b 99%\b\b\b\b\b  OK \n",
            "Extracting  /content/Patch_One/labels/71706.txt                          \b\b\b\b 99%\b\b\b\b\b  OK \n",
            "Extracting  /content/Patch_One/labels/71732.txt                          \b\b\b\b 99%\b\b\b\b\b  OK \n",
            "Extracting  /content/Patch_One/labels/71740.txt                          \b\b\b\b 99%\b\b\b\b\b  OK \n",
            "Extracting  /content/Patch_One/labels/71761.txt                          \b\b\b\b 99%\b\b\b\b\b  OK \n",
            "Extracting  /content/Patch_One/labels/71771.txt                          \b\b\b\b 99%\b\b\b\b\b  OK \n",
            "Extracting  /content/Patch_One/labels/71772.txt                          \b\b\b\b 99%\b\b\b\b\b  OK \n",
            "Extracting  /content/Patch_One/labels/71780.txt                          \b\b\b\b 99%\b\b\b\b\b  OK \n",
            "Extracting  /content/Patch_One/labels/71793.txt                          \b\b\b\b 99%\b\b\b\b\b  OK \n",
            "Extracting  /content/Patch_One/labels/71799.txt                          \b\b\b\b 99%\b\b\b\b\b  OK \n",
            "Extracting  /content/Patch_One/labels/71813.txt                          \b\b\b\b 99%\b\b\b\b\b  OK \n",
            "Extracting  /content/Patch_One/labels/71836.txt                          \b\b\b\b 99%\b\b\b\b\b  OK \n",
            "Extracting  /content/Patch_One/labels/71843.txt                          \b\b\b\b 99%\b\b\b\b\b  OK \n",
            "Extracting  /content/Patch_One/labels/71848.txt                          \b\b\b\b 99%\b\b\b\b\b  OK \n",
            "Extracting  /content/Patch_One/labels/71857.txt                          \b\b\b\b 99%\b\b\b\b\b  OK \n",
            "Extracting  /content/Patch_One/labels/71862.txt                          \b\b\b\b 99%\b\b\b\b\b  OK \n",
            "Extracting  /content/Patch_One/labels/71892.txt                          \b\b\b\b 99%\b\b\b\b\b  OK \n",
            "Extracting  /content/Patch_One/labels/71894.txt                          \b\b\b\b 99%\b\b\b\b\b  OK \n",
            "Extracting  /content/Patch_One/labels/71905.txt                          \b\b\b\b 99%\b\b\b\b\b  OK \n",
            "Extracting  /content/Patch_One/labels/71913.txt                          \b\b\b\b 99%\b\b\b\b\b  OK \n",
            "Extracting  /content/Patch_One/labels/71921.txt                          \b\b\b\b 99%\b\b\b\b\b  OK \n",
            "Extracting  /content/Patch_One/labels/71923.txt                          \b\b\b\b 99%\b\b\b\b\b  OK \n",
            "Extracting  /content/Patch_One/labels/71932.txt                          \b\b\b\b 99%\b\b\b\b\b  OK \n",
            "Extracting  /content/Patch_One/labels/71939.txt                          \b\b\b\b 99%\b\b\b\b\b  OK \n",
            "Extracting  /content/Patch_One/labels/71943.txt                          \b\b\b\b 99%\b\b\b\b\b  OK \n",
            "Extracting  /content/Patch_One/labels/71944.txt                          \b\b\b\b 99%\b\b\b\b\b  OK \n",
            "Extracting  /content/Patch_One/labels/71963.txt                          \b\b\b\b 99%\b\b\b\b\b  OK \n",
            "Extracting  /content/Patch_One/labels/71975.txt                          \b\b\b\b 99%\b\b\b\b\b  OK \n",
            "Extracting  /content/Patch_One/labels/71981.txt                          \b\b\b\b 99%\b\b\b\b\b  OK \n",
            "Extracting  /content/Patch_One/labels/71982.txt                          \b\b\b\b 99%\b\b\b\b\b  OK \n",
            "Extracting  /content/Patch_One/labels/71988.txt                          \b\b\b\b 99%\b\b\b\b\b  OK \n",
            "Extracting  /content/Patch_One/labels/71993.txt                          \b\b\b\b 99%\b\b\b\b\b  OK \n",
            "Extracting  /content/Patch_One/labels/71999.txt                          \b\b\b\b 99%\b\b\b\b\b  OK \n",
            "Extracting  /content/Patch_One/labels/72003.txt                          \b\b\b\b 99%\b\b\b\b\b  OK \n",
            "Extracting  /content/Patch_One/labels/72007.txt                          \b\b\b\b 99%\b\b\b\b\b  OK \n",
            "Extracting  /content/Patch_One/labels/72026.txt                          \b\b\b\b 99%\b\b\b\b\b  OK \n",
            "Extracting  /content/Patch_One/labels/72029.txt                          \b\b\b\b 99%\b\b\b\b\b  OK \n",
            "Extracting  /content/Patch_One/labels/72043.txt                          \b\b\b\b 99%\b\b\b\b\b  OK \n",
            "Extracting  /content/Patch_One/labels/72059.txt                          \b\b\b\b 99%\b\b\b\b\b  OK \n",
            "Extracting  /content/Patch_One/labels/72062.txt                          \b\b\b\b 99%\b\b\b\b\b  OK \n",
            "Extracting  /content/Patch_One/labels/72078.txt                          \b\b\b\b 99%\b\b\b\b\b  OK \n",
            "Extracting  /content/Patch_One/labels/72087.txt                          \b\b\b\b 99%\b\b\b\b\b  OK \n",
            "Extracting  /content/Patch_One/labels/72093.txt                          \b\b\b\b 99%\b\b\b\b\b  OK \n",
            "Extracting  /content/Patch_One/labels/72097.txt                          \b\b\b\b 99%\b\b\b\b\b  OK \n",
            "Extracting  /content/Patch_One/labels/72101.txt                          \b\b\b\b 99%\b\b\b\b\b  OK \n",
            "Extracting  /content/Patch_One/labels/72108.txt                          \b\b\b\b 99%\b\b\b\b\b  OK \n",
            "Extracting  /content/Patch_One/labels/72141.txt                          \b\b\b\b 99%\b\b\b\b\b  OK \n",
            "Extracting  /content/Patch_One/labels/72145.txt                          \b\b\b\b 99%\b\b\b\b\b  OK \n",
            "Extracting  /content/Patch_One/labels/72156.txt                          \b\b\b\b 99%\b\b\b\b\b  OK \n",
            "Extracting  /content/Patch_One/labels/72163.txt                          \b\b\b\b 99%\b\b\b\b\b  OK \n",
            "Extracting  /content/Patch_One/labels/72167.txt                          \b\b\b\b 99%\b\b\b\b\b  OK \n",
            "Extracting  /content/Patch_One/labels/72168.txt                          \b\b\b\b 99%\b\b\b\b\b  OK \n",
            "Extracting  /content/Patch_One/labels/72170.txt                          \b\b\b\b 99%\b\b\b\b\b  OK \n",
            "Extracting  /content/Patch_One/labels/72172.txt                          \b\b\b\b 99%\b\b\b\b\b  OK \n",
            "Extracting  /content/Patch_One/labels/72180.txt                          \b\b\b\b 99%\b\b\b\b\b  OK \n",
            "Extracting  /content/Patch_One/labels/72192.txt                          \b\b\b\b 99%\b\b\b\b\b  OK \n",
            "Extracting  /content/Patch_One/labels/72200.txt                          \b\b\b\b 99%\b\b\b\b\b  OK \n",
            "Extracting  /content/Patch_One/labels/72205.txt                          \b\b\b\b 99%\b\b\b\b\b  OK \n",
            "Extracting  /content/Patch_One/labels/72210.txt                          \b\b\b\b 99%\b\b\b\b\b  OK \n",
            "Extracting  /content/Patch_One/labels/72228.txt                          \b\b\b\b 99%\b\b\b\b\b  OK \n",
            "Extracting  /content/Patch_One/labels/72238.txt                          \b\b\b\b 99%\b\b\b\b\b  OK \n",
            "Extracting  /content/Patch_One/labels/72241.txt                          \b\b\b\b 99%\b\b\b\b\b  OK \n",
            "Extracting  /content/Patch_One/labels/72250.txt                          \b\b\b\b 99%\b\b\b\b\b  OK \n",
            "Extracting  /content/Patch_One/labels/72254.txt                          \b\b\b\b 99%\b\b\b\b\b  OK \n",
            "Extracting  /content/Patch_One/labels/72255.txt                          \b\b\b\b 99%\b\b\b\b\b  OK \n",
            "Extracting  /content/Patch_One/labels/72266.txt                          \b\b\b\b 99%\b\b\b\b\b  OK \n",
            "Extracting  /content/Patch_One/labels/72267.txt                          \b\b\b\b 99%\b\b\b\b\b  OK \n",
            "Extracting  /content/Patch_One/labels/72288.txt                          \b\b\b\b 99%\b\b\b\b\b  OK \n",
            "Extracting  /content/Patch_One/labels/72289.txt                          \b\b\b\b 99%\b\b\b\b\b  OK \n",
            "Extracting  /content/Patch_One/labels/72291.txt                          \b\b\b\b 99%\b\b\b\b\b  OK \n",
            "Extracting  /content/Patch_One/labels/72293.txt                          \b\b\b\b 99%\b\b\b\b\b  OK \n",
            "Extracting  /content/Patch_One/labels/72296.txt                          \b\b\b\b 99%\b\b\b\b\b  OK \n",
            "Extracting  /content/Patch_One/labels/72298.txt                          \b\b\b\b 99%\b\b\b\b\b  OK \n",
            "Extracting  /content/Patch_One/labels/72300.txt                          \b\b\b\b 99%\b\b\b\b\b  OK \n",
            "Extracting  /content/Patch_One/labels/72329.txt                          \b\b\b\b 99%\b\b\b\b\b  OK \n",
            "Extracting  /content/Patch_One/labels/72337.txt                          \b\b\b\b 99%\b\b\b\b\b  OK \n",
            "Extracting  /content/Patch_One/labels/72341.txt                          \b\b\b\b 99%\b\b\b\b\b  OK \n",
            "Extracting  /content/Patch_One/labels/72345.txt                          \b\b\b\b 99%\b\b\b\b\b  OK \n",
            "Extracting  /content/Patch_One/labels/72348.txt                          \b\b\b\b 99%\b\b\b\b\b  OK \n",
            "Extracting  /content/Patch_One/labels/72375.txt                          \b\b\b\b 99%\b\b\b\b\b  OK \n",
            "Extracting  /content/Patch_One/labels/72385.txt                          \b\b\b\b 99%\b\b\b\b\b  OK \n",
            "Extracting  /content/Patch_One/labels/72395.txt                          \b\b\b\b 99%\b\b\b\b\b  OK \n",
            "Extracting  /content/Patch_One/labels/72404.txt                          \b\b\b\b 99%\b\b\b\b\b  OK \n",
            "Extracting  /content/Patch_One/labels/72414.txt                          \b\b\b\b 99%\b\b\b\b\b  OK \n",
            "Extracting  /content/Patch_One/labels/72423.txt                          \b\b\b\b 99%\b\b\b\b\b  OK \n",
            "Extracting  /content/Patch_One/labels/72454.txt                          \b\b\b\b 99%\b\b\b\b\b  OK \n",
            "Extracting  /content/Patch_One/labels/72464.txt                          \b\b\b\b 99%\b\b\b\b\b  OK \n",
            "Extracting  /content/Patch_One/labels/72475.txt                          \b\b\b\b 99%\b\b\b\b\b  OK \n",
            "Extracting  /content/Patch_One/labels/72479.txt                          \b\b\b\b 99%\b\b\b\b\b  OK \n",
            "Extracting  /content/Patch_One/labels/72515.txt                          \b\b\b\b 99%\b\b\b\b\b  OK \n",
            "Extracting  /content/Patch_One/labels/72523.txt                          \b\b\b\b 99%\b\b\b\b\b  OK \n",
            "Extracting  /content/Patch_One/labels/72524.txt                          \b\b\b\b 99%\b\b\b\b\b  OK \n",
            "Extracting  /content/Patch_One/labels/72525.txt                          \b\b\b\b 99%\b\b\b\b\b  OK \n",
            "Extracting  /content/Patch_One/labels/72533.txt                          \b\b\b\b 99%\b\b\b\b\b  OK \n",
            "Extracting  /content/Patch_One/labels/72535.txt                          \b\b\b\b 99%\b\b\b\b\b  OK \n",
            "Extracting  /content/Patch_One/labels/72544.txt                          \b\b\b\b 99%\b\b\b\b\b  OK \n",
            "Extracting  /content/Patch_One/labels/72545.txt                          \b\b\b\b 99%\b\b\b\b\b  OK \n",
            "Extracting  /content/Patch_One/labels/72668.txt                          \b\b\b\b 99%\b\b\b\b\b  OK \n",
            "Extracting  /content/Patch_One/labels/72679.txt                          \b\b\b\b 99%\b\b\b\b\b  OK \n",
            "Extracting  /content/Patch_One/labels/72702.txt                          \b\b\b\b 99%\b\b\b\b\b  OK \n",
            "Extracting  /content/Patch_One/labels/72708.txt                          \b\b\b\b 99%\b\b\b\b\b  OK \n",
            "Extracting  /content/Patch_One/labels/72711.txt                          \b\b\b\b 99%\b\b\b\b\b  OK \n",
            "Extracting  /content/Patch_One/labels/72713.txt                          \b\b\b\b 99%\b\b\b\b\b  OK \n",
            "Extracting  /content/Patch_One/labels/72720.txt                          \b\b\b\b 99%\b\b\b\b\b  OK \n",
            "Extracting  /content/Patch_One/labels/72723.txt                          \b\b\b\b 99%\b\b\b\b\b  OK \n",
            "Extracting  /content/Patch_One/labels/72737.txt                          \b\b\b\b 99%\b\b\b\b\b  OK \n",
            "Extracting  /content/Patch_One/labels/72738.txt                          \b\b\b\b 99%\b\b\b\b\b  OK \n",
            "Extracting  /content/Patch_One/labels/72764.txt                          \b\b\b\b 99%\b\b\b\b\b  OK \n",
            "Extracting  /content/Patch_One/labels/72768.txt                          \b\b\b\b 99%\b\b\b\b\b  OK \n",
            "Extracting  /content/Patch_One/labels/72771.txt                          \b\b\b\b 99%\b\b\b\b\b  OK \n",
            "Extracting  /content/Patch_One/labels/72782.txt                          \b\b\b\b 99%\b\b\b\b\b  OK \n",
            "Extracting  /content/Patch_One/labels/72787.txt                          \b\b\b\b 99%\b\b\b\b\b  OK \n",
            "Extracting  /content/Patch_One/labels/72790.txt                          \b\b\b\b 99%\b\b\b\b\b  OK \n",
            "Extracting  /content/Patch_One/labels/72797.txt                          \b\b\b\b 99%\b\b\b\b\b  OK \n",
            "Extracting  /content/Patch_One/labels/72814.txt                          \b\b\b\b 99%\b\b\b\b\b  OK \n",
            "Extracting  /content/Patch_One/labels/72838.txt                          \b\b\b\b 99%\b\b\b\b\b  OK \n",
            "Extracting  /content/Patch_One/labels/72844.txt                          \b\b\b\b 99%\b\b\b\b\b  OK \n",
            "Extracting  /content/Patch_One/labels/72849.txt                          \b\b\b\b 99%\b\b\b\b\b  OK \n",
            "Extracting  /content/Patch_One/labels/72851.txt                          \b\b\b\b 99%\b\b\b\b\b  OK \n",
            "Extracting  /content/Patch_One/labels/72856.txt                          \b\b\b\b 99%\b\b\b\b\b  OK \n",
            "Extracting  /content/Patch_One/labels/72865.txt                          \b\b\b\b 99%\b\b\b\b\b  OK \n",
            "Extracting  /content/Patch_One/labels/72871.txt                          \b\b\b\b 99%\b\b\b\b\b  OK \n",
            "Extracting  /content/Patch_One/labels/72900.txt                          \b\b\b\b 99%\b\b\b\b\b  OK \n",
            "Extracting  /content/Patch_One/labels/72914.txt                          \b\b\b\b 99%\b\b\b\b\b  OK \n",
            "Extracting  /content/Patch_One/labels/72920.txt                          \b\b\b\b 99%\b\b\b\b\b  OK \n",
            "Extracting  /content/Patch_One/labels/72923.txt                          \b\b\b\b 99%\b\b\b\b\b  OK \n",
            "Extracting  /content/Patch_One/labels/72930.txt                          \b\b\b\b 99%\b\b\b\b\b  OK \n",
            "Extracting  /content/Patch_One/labels/72957.txt                          \b\b\b\b 99%\b\b\b\b\b  OK \n",
            "Extracting  /content/Patch_One/labels/72974.txt                          \b\b\b\b 99%\b\b\b\b\b  OK \n",
            "Extracting  /content/Patch_One/labels/72984.txt                          \b\b\b\b 99%\b\b\b\b\b  OK \n",
            "Extracting  /content/Patch_One/labels/72988.txt                          \b\b\b\b 99%\b\b\b\b\b  OK \n",
            "Extracting  /content/Patch_One/labels/72994.txt                          \b\b\b\b 99%\b\b\b\b\b  OK \n",
            "Extracting  /content/Patch_One/labels/72995.txt                          \b\b\b\b 99%\b\b\b\b\b  OK \n",
            "Extracting  /content/Patch_One/labels/73016.txt                          \b\b\b\b 99%\b\b\b\b\b  OK \n",
            "Extracting  /content/Patch_One/labels/73019.txt                          \b\b\b\b 99%\b\b\b\b\b  OK \n",
            "Extracting  /content/Patch_One/labels/73022.txt                          \b\b\b\b 99%\b\b\b\b\b  OK \n",
            "Extracting  /content/Patch_One/labels/73024.txt                          \b\b\b\b 99%\b\b\b\b\b  OK \n",
            "Extracting  /content/Patch_One/labels/73046.txt                          \b\b\b\b 99%\b\b\b\b\b  OK \n",
            "Extracting  /content/Patch_One/labels/73052.txt                          \b\b\b\b 99%\b\b\b\b\b  OK \n",
            "Extracting  /content/Patch_One/labels/73059.txt                          \b\b\b\b 99%\b\b\b\b\b  OK \n",
            "Extracting  /content/Patch_One/labels/73097.txt                          \b\b\b\b 99%\b\b\b\b\b  OK \n",
            "Extracting  /content/Patch_One/labels/73104.txt                          \b\b\b\b 99%\b\b\b\b\b  OK \n",
            "Extracting  /content/Patch_One/labels/73107.txt                          \b\b\b\b 99%\b\b\b\b\b  OK \n",
            "Extracting  /content/Patch_One/labels/73114.txt                          \b\b\b\b 99%\b\b\b\b\b  OK \n",
            "Extracting  /content/Patch_One/labels/73118.txt                          \b\b\b\b 99%\b\b\b\b\b  OK \n",
            "Extracting  /content/Patch_One/labels/73130.txt                          \b\b\b\b 99%\b\b\b\b\b  OK \n",
            "Extracting  /content/Patch_One/labels/73144.txt                          \b\b\b\b 99%\b\b\b\b\b  OK \n",
            "Extracting  /content/Patch_One/labels/73145.txt                          \b\b\b\b 99%\b\b\b\b\b  OK \n",
            "Extracting  /content/Patch_One/labels/73148.txt                          \b\b\b\b 99%\b\b\b\b\b  OK \n",
            "Extracting  /content/Patch_One/labels/73153.txt                          \b\b\b\b 99%\b\b\b\b\b  OK \n",
            "Extracting  /content/Patch_One/labels/73155.txt                          \b\b\b\b 99%\b\b\b\b\b  OK \n",
            "Extracting  /content/Patch_One/labels/73196.txt                          \b\b\b\b 99%\b\b\b\b\b  OK \n",
            "Extracting  /content/Patch_One/labels/73201.txt                          \b\b\b\b 99%\b\b\b\b\b  OK \n",
            "Extracting  /content/Patch_One/labels/73204.txt                          \b\b\b\b 99%\b\b\b\b\b  OK \n",
            "Extracting  /content/Patch_One/labels/73208.txt                          \b\b\b\b 99%\b\b\b\b\b  OK \n",
            "Extracting  /content/Patch_One/labels/73209.txt                          \b\b\b\b 99%\b\b\b\b\b  OK \n",
            "Extracting  /content/Patch_One/labels/73211.txt                          \b\b\b\b 99%\b\b\b\b\b  OK \n",
            "Extracting  /content/Patch_One/labels/73212.txt                          \b\b\b\b 99%\b\b\b\b\b  OK \n",
            "Extracting  /content/Patch_One/labels/73217.txt                          \b\b\b\b 99%\b\b\b\b\b  OK \n",
            "Extracting  /content/Patch_One/labels/73236.txt                          \b\b\b\b 99%\b\b\b\b\b  OK \n",
            "Extracting  /content/Patch_One/labels/73247.txt                          \b\b\b\b 99%\b\b\b\b\b  OK \n",
            "Extracting  /content/Patch_One/labels/73253.txt                          \b\b\b\b 99%\b\b\b\b\b  OK \n",
            "Extracting  /content/Patch_One/labels/73442.txt                          \b\b\b\b 99%\b\b\b\b\b  OK \n",
            "Extracting  /content/Patch_One/labels/73481.txt                          \b\b\b\b 99%\b\b\b\b\b  OK \n",
            "Extracting  /content/Patch_One/labels/73489.txt                          \b\b\b\b 99%\b\b\b\b\b  OK \n",
            "Extracting  /content/Patch_One/labels/73511.txt                          \b\b\b\b 99%\b\b\b\b\b  OK \n",
            "Extracting  /content/Patch_One/labels/73549.txt                          \b\b\b\b 99%\b\b\b\b\b  OK \n",
            "Extracting  /content/Patch_One/labels/73575.txt                          \b\b\b\b 99%\b\b\b\b\b  OK \n",
            "Extracting  /content/Patch_One/labels/73579.txt                          \b\b\b\b 99%\b\b\b\b\b  OK \n",
            "Extracting  /content/Patch_One/labels/73582.txt                          \b\b\b\b 99%\b\b\b\b\b  OK \n",
            "Extracting  /content/Patch_One/labels/73617.txt                          \b\b\b\b 99%\b\b\b\b\b  OK \n",
            "Extracting  /content/Patch_One/labels/73623.txt                          \b\b\b\b 99%\b\b\b\b\b  OK \n",
            "Extracting  /content/Patch_One/labels/73633.txt                          \b\b\b\b 99%\b\b\b\b\b  OK \n",
            "Extracting  /content/Patch_One/labels/73641.txt                          \b\b\b\b 99%\b\b\b\b\b  OK \n",
            "Extracting  /content/Patch_One/labels/73642.txt                          \b\b\b\b 99%\b\b\b\b\b  OK \n",
            "Extracting  /content/Patch_One/labels/73650.txt                          \b\b\b\b 99%\b\b\b\b\b  OK \n",
            "Extracting  /content/Patch_One/labels/73661.txt                          \b\b\b\b 99%\b\b\b\b\b  OK \n",
            "Extracting  /content/Patch_One/labels/73662.txt                          \b\b\b\b 99%\b\b\b\b\b  OK \n",
            "Extracting  /content/Patch_One/labels/73686.txt                          \b\b\b\b 99%\b\b\b\b\b  OK \n",
            "Extracting  /content/Patch_One/labels/73687.txt                          \b\b\b\b 99%\b\b\b\b\b  OK \n",
            "Extracting  /content/Patch_One/labels/73688.txt                          \b\b\b\b 99%\b\b\b\b\b  OK \n",
            "Extracting  /content/Patch_One/labels/73689.txt                          \b\b\b\b 99%\b\b\b\b\b  OK \n",
            "Extracting  /content/Patch_One/labels/73690.txt                          \b\b\b\b 99%\b\b\b\b\b  OK \n",
            "Extracting  /content/Patch_One/labels/73691.txt                          \b\b\b\b 99%\b\b\b\b\b  OK \n",
            "Extracting  /content/Patch_One/labels/73692.txt                          \b\b\b\b 99%\b\b\b\b\b  OK \n",
            "Extracting  /content/Patch_One/labels/73694.txt                          \b\b\b\b 99%\b\b\b\b\b  OK \n",
            "Extracting  /content/Patch_One/labels/73695.txt                          \b\b\b\b 99%\b\b\b\b\b  OK \n",
            "Extracting  /content/Patch_One/labels/73696.txt                          \b\b\b\b 99%\b\b\b\b\b  OK \n",
            "Extracting  /content/Patch_One/labels/73697.txt                          \b\b\b\b 99%\b\b\b\b\b  OK \n",
            "Extracting  /content/Patch_One/labels/73698.txt                          \b\b\b\b 99%\b\b\b\b\b  OK \n",
            "Extracting  /content/Patch_One/labels/73699.txt                          \b\b\b\b 99%\b\b\b\b\b  OK \n",
            "Extracting  /content/Patch_One/labels/73700.txt                          \b\b\b\b 99%\b\b\b\b\b  OK \n",
            "Extracting  /content/Patch_One/labels/73701.txt                          \b\b\b\b 99%\b\b\b\b\b  OK \n",
            "Extracting  /content/Patch_One/labels/73702.txt                          \b\b\b\b 99%\b\b\b\b\b  OK \n",
            "Extracting  /content/Patch_One/labels/73704.txt                          \b\b\b\b 99%\b\b\b\b\b  OK \n",
            "Extracting  /content/Patch_One/labels/73705.txt                          \b\b\b\b 99%\b\b\b\b\b  OK \n",
            "Extracting  /content/Patch_One/labels/73706.txt                          \b\b\b\b 99%\b\b\b\b\b  OK \n",
            "Extracting  /content/Patch_One/labels/73707.txt                          \b\b\b\b 99%\b\b\b\b\b  OK \n",
            "Extracting  /content/Patch_One/labels/73708.txt                          \b\b\b\b 99%\b\b\b\b\b  OK \n",
            "Extracting  /content/Patch_One/labels/73709.txt                          \b\b\b\b 99%\b\b\b\b\b  OK \n",
            "Extracting  /content/Patch_One/labels/73710.txt                          \b\b\b\b 99%\b\b\b\b\b  OK \n",
            "Extracting  /content/Patch_One/labels/73711.txt                          \b\b\b\b 99%\b\b\b\b\b  OK \n",
            "Extracting  /content/Patch_One/labels/73712.txt                          \b\b\b\b 99%\b\b\b\b\b  OK \n",
            "Extracting  /content/Patch_One/labels/73714.txt                          \b\b\b\b 99%\b\b\b\b\b  OK \n",
            "Extracting  /content/Patch_One/labels/73715.txt                          \b\b\b\b 99%\b\b\b\b\b  OK \n",
            "Extracting  /content/Patch_One/labels/73716.txt                          \b\b\b\b 99%\b\b\b\b\b  OK \n",
            "Extracting  /content/Patch_One/labels/73718.txt                          \b\b\b\b 99%\b\b\b\b\b  OK \n",
            "Extracting  /content/Patch_One/labels/73719.txt                          \b\b\b\b 99%\b\b\b\b\b  OK \n",
            "Extracting  /content/Patch_One/labels/73720.txt                          \b\b\b\b 99%\b\b\b\b\b  OK \n",
            "Extracting  /content/Patch_One/labels/73721.txt                          \b\b\b\b 99%\b\b\b\b\b  OK \n",
            "Extracting  /content/Patch_One/labels/73722.txt                          \b\b\b\b 99%\b\b\b\b\b  OK \n",
            "Extracting  /content/Patch_One/labels/73723.txt                          \b\b\b\b 99%\b\b\b\b\b  OK \n",
            "Extracting  /content/Patch_One/labels/73724.txt                          \b\b\b\b 99%\b\b\b\b\b  OK \n",
            "Extracting  /content/Patch_One/labels/73725.txt                          \b\b\b\b 99%\b\b\b\b\b  OK \n",
            "Extracting  /content/Patch_One/labels/73726.txt                          \b\b\b\b 99%\b\b\b\b\b  OK \n",
            "Extracting  /content/Patch_One/labels/73727.txt                          \b\b\b\b 99%\b\b\b\b\b  OK \n",
            "Extracting  /content/Patch_One/labels/73728.txt                          \b\b\b\b 99%\b\b\b\b\b  OK \n",
            "Extracting  /content/Patch_One/labels/73729.txt                          \b\b\b\b 99%\b\b\b\b\b  OK \n",
            "Extracting  /content/Patch_One/labels/73731.txt                          \b\b\b\b 99%\b\b\b\b\b  OK \n",
            "Extracting  /content/Patch_One/labels/73732.txt                          \b\b\b\b 99%\b\b\b\b\b  OK \n",
            "Extracting  /content/Patch_One/labels/73733.txt                          \b\b\b\b 99%\b\b\b\b\b  OK \n",
            "Extracting  /content/Patch_One/labels/73734.txt                          \b\b\b\b 99%\b\b\b\b\b  OK \n",
            "Extracting  /content/Patch_One/labels/73735.txt                          \b\b\b\b 99%\b\b\b\b\b  OK \n",
            "Extracting  /content/Patch_One/labels/73736.txt                          \b\b\b\b 99%\b\b\b\b\b  OK \n",
            "Extracting  /content/Patch_One/labels/73738.txt                          \b\b\b\b 99%\b\b\b\b\b  OK \n",
            "Extracting  /content/Patch_One/labels/73739.txt                          \b\b\b\b 99%\b\b\b\b\b  OK \n",
            "Extracting  /content/Patch_One/labels/73741.txt                          \b\b\b\b 99%\b\b\b\b\b  OK \n",
            "Extracting  /content/Patch_One/labels/73742.txt                          \b\b\b\b 99%\b\b\b\b\b  OK \n",
            "Extracting  /content/Patch_One/labels/73743.txt                          \b\b\b\b 99%\b\b\b\b\b  OK \n",
            "Extracting  /content/Patch_One/labels/73744.txt                          \b\b\b\b 99%\b\b\b\b\b  OK \n",
            "Extracting  /content/Patch_One/labels/73745.txt                          \b\b\b\b 99%\b\b\b\b\b  OK \n",
            "Extracting  /content/Patch_One/labels/73746.txt                          \b\b\b\b 99%\b\b\b\b\b  OK \n",
            "Extracting  /content/Patch_One/labels/73747.txt                          \b\b\b\b 99%\b\b\b\b\b  OK \n",
            "Extracting  /content/Patch_One/labels/73748.txt                          \b\b\b\b 99%\b\b\b\b\b  OK \n",
            "Extracting  /content/Patch_One/labels/73749.txt                          \b\b\b\b 99%\b\b\b\b\b  OK \n",
            "Extracting  /content/Patch_One/labels/73750.txt                          \b\b\b\b 99%\b\b\b\b\b  OK \n",
            "Extracting  /content/Patch_One/labels/73751.txt                          \b\b\b\b 99%\b\b\b\b\b  OK \n",
            "Extracting  /content/Patch_One/labels/73752.txt                          \b\b\b\b 99%\b\b\b\b\b  OK \n",
            "Extracting  /content/Patch_One/labels/73753.txt                          \b\b\b\b 99%\b\b\b\b\b  OK \n",
            "Extracting  /content/Patch_One/labels/73754.txt                          \b\b\b\b 99%\b\b\b\b\b  OK \n",
            "Extracting  /content/Patch_One/labels/73755.txt                          \b\b\b\b 99%\b\b\b\b\b  OK \n",
            "Extracting  /content/Patch_One/labels/73756.txt                          \b\b\b\b 99%\b\b\b\b\b  OK \n",
            "Extracting  /content/Patch_One/labels/73757.txt                          \b\b\b\b 99%\b\b\b\b\b  OK \n",
            "Extracting  /content/Patch_One/labels/73758.txt                          \b\b\b\b 99%\b\b\b\b\b  OK \n",
            "Extracting  /content/Patch_One/labels/73759.txt                          \b\b\b\b 99%\b\b\b\b\b  OK \n",
            "Extracting  /content/Patch_One/labels/73760.txt                          \b\b\b\b 99%\b\b\b\b\b  OK \n",
            "Extracting  /content/Patch_One/labels/73761.txt                          \b\b\b\b 99%\b\b\b\b\b  OK \n",
            "Extracting  /content/Patch_One/labels/73762.txt                          \b\b\b\b 99%\b\b\b\b\b  OK \n",
            "Extracting  /content/Patch_One/labels/73763.txt                          \b\b\b\b 99%\b\b\b\b\b  OK \n",
            "Extracting  /content/Patch_One/labels/73764.txt                          \b\b\b\b 99%\b\b\b\b\b  OK \n",
            "Extracting  /content/Patch_One/labels/73765.txt                          \b\b\b\b 99%\b\b\b\b\b  OK \n",
            "Extracting  /content/Patch_One/labels/73767.txt                          \b\b\b\b 99%\b\b\b\b\b  OK \n",
            "Extracting  /content/Patch_One/labels/73768.txt                          \b\b\b\b 99%\b\b\b\b\b  OK \n",
            "Extracting  /content/Patch_One/labels/73769.txt                          \b\b\b\b 99%\b\b\b\b\b  OK \n",
            "Extracting  /content/Patch_One/labels/73771.txt                          \b\b\b\b 99%\b\b\b\b\b  OK \n",
            "Extracting  /content/Patch_One/labels/73772.txt                          \b\b\b\b 99%\b\b\b\b\b  OK \n",
            "Extracting  /content/Patch_One/labels/73773.txt                          \b\b\b\b 99%\b\b\b\b\b  OK \n",
            "Extracting  /content/Patch_One/labels/73774.txt                          \b\b\b\b 99%\b\b\b\b\b  OK \n",
            "Extracting  /content/Patch_One/labels/73775.txt                          \b\b\b\b 99%\b\b\b\b\b  OK \n",
            "Extracting  /content/Patch_One/labels/73776.txt                          \b\b\b\b 99%\b\b\b\b\b  OK \n",
            "Extracting  /content/Patch_One/labels/73777.txt                          \b\b\b\b 99%\b\b\b\b\b  OK \n",
            "Extracting  /content/Patch_One/labels/73778.txt                          \b\b\b\b 99%\b\b\b\b\b  OK \n",
            "Extracting  /content/Patch_One/labels/73779.txt                          \b\b\b\b 99%\b\b\b\b\b  OK \n",
            "Extracting  /content/Patch_One/labels/73780.txt                          \b\b\b\b 99%\b\b\b\b\b  OK \n",
            "Extracting  /content/Patch_One/labels/73781.txt                          \b\b\b\b 99%\b\b\b\b\b  OK \n",
            "Extracting  /content/Patch_One/labels/73782.txt                          \b\b\b\b 99%\b\b\b\b\b  OK \n",
            "Extracting  /content/Patch_One/labels/73783.txt                          \b\b\b\b 99%\b\b\b\b\b  OK \n",
            "Extracting  /content/Patch_One/labels/73784.txt                          \b\b\b\b 99%\b\b\b\b\b  OK \n",
            "Extracting  /content/Patch_One/labels/73785.txt                          \b\b\b\b 99%\b\b\b\b\b  OK \n",
            "Extracting  /content/Patch_One/labels/73786.txt                          \b\b\b\b 99%\b\b\b\b\b  OK \n",
            "Extracting  /content/Patch_One/labels/73788.txt                          \b\b\b\b 99%\b\b\b\b\b  OK \n",
            "Extracting  /content/Patch_One/labels/73789.txt                          \b\b\b\b 99%\b\b\b\b\b  OK \n",
            "Extracting  /content/Patch_One/labels/73790.txt                          \b\b\b\b 99%\b\b\b\b\b  OK \n",
            "Extracting  /content/Patch_One/labels/73791.txt                          \b\b\b\b 99%\b\b\b\b\b  OK \n",
            "Extracting  /content/Patch_One/labels/73792.txt                          \b\b\b\b 99%\b\b\b\b\b  OK \n",
            "Extracting  /content/Patch_One/labels/73793.txt                          \b\b\b\b 99%\b\b\b\b\b  OK \n",
            "Extracting  /content/Patch_One/labels/73794.txt                          \b\b\b\b 99%\b\b\b\b\b  OK \n",
            "Extracting  /content/Patch_One/labels/73796.txt                          \b\b\b\b 99%\b\b\b\b\b  OK \n",
            "Extracting  /content/Patch_One/labels/73797.txt                          \b\b\b\b 99%\b\b\b\b\b  OK \n",
            "Extracting  /content/Patch_One/labels/73798.txt                          \b\b\b\b 99%\b\b\b\b\b  OK \n",
            "Extracting  /content/Patch_One/labels/73799.txt                          \b\b\b\b 99%\b\b\b\b\b  OK \n",
            "Extracting  /content/Patch_One/labels/73800.txt                          \b\b\b\b 99%\b\b\b\b\b  OK \n",
            "Extracting  /content/Patch_One/labels/73801.txt                          \b\b\b\b 99%\b\b\b\b\b  OK \n",
            "Extracting  /content/Patch_One/labels/73802.txt                          \b\b\b\b 99%\b\b\b\b\b  OK \n",
            "Extracting  /content/Patch_One/labels/73803.txt                          \b\b\b\b 99%\b\b\b\b\b  OK \n",
            "Extracting  /content/Patch_One/labels/73804.txt                          \b\b\b\b 99%\b\b\b\b\b  OK \n",
            "Extracting  /content/Patch_One/labels/73806.txt                          \b\b\b\b 99%\b\b\b\b\b  OK \n",
            "Extracting  /content/Patch_One/labels/73807.txt                          \b\b\b\b 99%\b\b\b\b\b  OK \n",
            "Extracting  /content/Patch_One/labels/73808.txt                          \b\b\b\b 99%\b\b\b\b\b  OK \n",
            "Extracting  /content/Patch_One/labels/73809.txt                          \b\b\b\b 99%\b\b\b\b\b  OK \n",
            "Extracting  /content/Patch_One/labels/73810.txt                          \b\b\b\b 99%\b\b\b\b\b  OK \n",
            "Extracting  /content/Patch_One/labels/73811.txt                          \b\b\b\b 99%\b\b\b\b\b  OK \n",
            "Extracting  /content/Patch_One/labels/73812.txt                          \b\b\b\b 99%\b\b\b\b\b  OK \n",
            "Extracting  /content/Patch_One/labels/73813.txt                          \b\b\b\b 99%\b\b\b\b\b  OK \n",
            "Extracting  /content/Patch_One/labels/73814.txt                          \b\b\b\b 99%\b\b\b\b\b  OK \n",
            "Extracting  /content/Patch_One/labels/73815.txt                          \b\b\b\b 99%\b\b\b\b\b  OK \n",
            "Extracting  /content/Patch_One/labels/73816.txt                          \b\b\b\b 99%\b\b\b\b\b  OK \n",
            "Extracting  /content/Patch_One/labels/73817.txt                          \b\b\b\b 99%\b\b\b\b\b  OK \n",
            "Extracting  /content/Patch_One/labels/73818.txt                          \b\b\b\b 99%\b\b\b\b\b  OK \n",
            "Extracting  /content/Patch_One/labels/73821.txt                          \b\b\b\b 99%\b\b\b\b\b  OK \n",
            "Extracting  /content/Patch_One/labels/73822.txt                          \b\b\b\b 99%\b\b\b\b\b  OK \n",
            "Extracting  /content/Patch_One/labels/73823.txt                          \b\b\b\b 99%\b\b\b\b\b  OK \n",
            "Extracting  /content/Patch_One/labels/73824.txt                          \b\b\b\b 99%\b\b\b\b\b  OK \n",
            "Extracting  /content/Patch_One/labels/73825.txt                          \b\b\b\b 99%\b\b\b\b\b  OK \n",
            "Extracting  /content/Patch_One/labels/73826.txt                          \b\b\b\b 99%\b\b\b\b\b  OK \n",
            "Extracting  /content/Patch_One/labels/73827.txt                          \b\b\b\b 99%\b\b\b\b\b  OK \n",
            "Extracting  /content/Patch_One/labels/73828.txt                          \b\b\b\b 99%\b\b\b\b\b  OK \n",
            "Extracting  /content/Patch_One/labels/73829.txt                          \b\b\b\b 99%\b\b\b\b\b  OK \n",
            "Extracting  /content/Patch_One/labels/73830.txt                          \b\b\b\b 99%\b\b\b\b\b  OK \n",
            "Extracting  /content/Patch_One/labels/73831.txt                          \b\b\b\b 99%\b\b\b\b\b  OK \n",
            "Extracting  /content/Patch_One/labels/73832.txt                          \b\b\b\b 99%\b\b\b\b\b  OK \n",
            "Extracting  /content/Patch_One/labels/73833.txt                          \b\b\b\b 99%\b\b\b\b\b  OK \n",
            "Extracting  /content/Patch_One/labels/73834.txt                          \b\b\b\b 99%\b\b\b\b\b  OK \n",
            "Extracting  /content/Patch_One/labels/73835.txt                          \b\b\b\b 99%\b\b\b\b\b  OK \n",
            "Extracting  /content/Patch_One/labels/73836.txt                          \b\b\b\b 99%\b\b\b\b\b  OK \n",
            "Extracting  /content/Patch_One/labels/73837.txt                          \b\b\b\b 99%\b\b\b\b\b  OK \n",
            "Extracting  /content/Patch_One/labels/73838.txt                          \b\b\b\b 99%\b\b\b\b\b  OK \n",
            "Extracting  /content/Patch_One/labels/73839.txt                          \b\b\b\b 99%\b\b\b\b\b  OK \n",
            "Extracting  /content/Patch_One/labels/73840.txt                          \b\b\b\b 99%\b\b\b\b\b  OK \n",
            "Extracting  /content/Patch_One/labels/73842.txt                          \b\b\b\b 99%\b\b\b\b\b  OK \n",
            "Extracting  /content/Patch_One/labels/73843.txt                          \b\b\b\b 99%\b\b\b\b\b  OK \n",
            "Extracting  /content/Patch_One/labels/73844.txt                          \b\b\b\b 99%\b\b\b\b\b  OK \n",
            "Extracting  /content/Patch_One/labels/73845.txt                          \b\b\b\b 99%\b\b\b\b\b  OK \n",
            "Extracting  /content/Patch_One/labels/73846.txt                          \b\b\b\b 99%\b\b\b\b\b  OK \n",
            "Extracting  /content/Patch_One/labels/73847.txt                          \b\b\b\b 99%\b\b\b\b\b  OK \n",
            "Extracting  /content/Patch_One/labels/73848.txt                          \b\b\b\b 99%\b\b\b\b\b  OK \n",
            "Extracting  /content/Patch_One/labels/73849.txt                          \b\b\b\b 99%\b\b\b\b\b  OK \n",
            "Extracting  /content/Patch_One/labels/73850.txt                          \b\b\b\b 99%\b\b\b\b\b  OK \n",
            "Extracting  /content/Patch_One/labels/73851.txt                          \b\b\b\b 99%\b\b\b\b\b  OK \n",
            "Extracting  /content/Patch_One/labels/73852.txt                          \b\b\b\b 99%\b\b\b\b\b  OK \n",
            "Extracting  /content/Patch_One/labels/73853.txt                          \b\b\b\b 99%\b\b\b\b\b  OK \n",
            "Extracting  /content/Patch_One/labels/73854.txt                          \b\b\b\b 99%\b\b\b\b\b  OK \n",
            "Extracting  /content/Patch_One/labels/73855.txt                          \b\b\b\b 99%\b\b\b\b\b  OK \n",
            "Extracting  /content/Patch_One/labels/73856.txt                          \b\b\b\b 99%\b\b\b\b\b  OK \n",
            "Extracting  /content/Patch_One/labels/73857.txt                          \b\b\b\b 99%\b\b\b\b\b  OK \n",
            "Extracting  /content/Patch_One/labels/73858.txt                          \b\b\b\b 99%\b\b\b\b\b  OK \n",
            "Extracting  /content/Patch_One/labels/73859.txt                          \b\b\b\b 99%\b\b\b\b\b  OK \n",
            "Extracting  /content/Patch_One/labels/73860.txt                          \b\b\b\b 99%\b\b\b\b\b  OK \n",
            "Extracting  /content/Patch_One/labels/73861.txt                          \b\b\b\b 99%\b\b\b\b\b  OK \n",
            "Extracting  /content/Patch_One/labels/73862.txt                          \b\b\b\b 99%\b\b\b\b\b  OK \n",
            "Extracting  /content/Patch_One/labels/73863.txt                          \b\b\b\b 99%\b\b\b\b\b  OK \n",
            "Extracting  /content/Patch_One/labels/73864.txt                          \b\b\b\b 99%\b\b\b\b\b  OK \n",
            "Extracting  /content/Patch_One/labels/73865.txt                          \b\b\b\b 99%\b\b\b\b\b  OK \n",
            "Extracting  /content/Patch_One/labels/73867.txt                          \b\b\b\b 99%\b\b\b\b\b  OK \n",
            "Extracting  /content/Patch_One/labels/73868.txt                          \b\b\b\b 99%\b\b\b\b\b  OK \n",
            "Extracting  /content/Patch_One/labels/73869.txt                          \b\b\b\b 99%\b\b\b\b\b  OK \n",
            "Extracting  /content/Patch_One/labels/73871.txt                          \b\b\b\b 99%\b\b\b\b\b  OK \n",
            "Extracting  /content/Patch_One/labels/73872.txt                          \b\b\b\b 99%\b\b\b\b\b  OK \n",
            "Extracting  /content/Patch_One/labels/73873.txt                          \b\b\b\b 99%\b\b\b\b\b  OK \n",
            "Extracting  /content/Patch_One/labels/73874.txt                          \b\b\b\b 99%\b\b\b\b\b  OK \n",
            "Extracting  /content/Patch_One/labels/73875.txt                          \b\b\b\b 99%\b\b\b\b\b  OK \n",
            "Extracting  /content/Patch_One/labels/73876.txt                          \b\b\b\b 99%\b\b\b\b\b  OK \n",
            "Extracting  /content/Patch_One/labels/73877.txt                          \b\b\b\b 99%\b\b\b\b\b  OK \n",
            "Extracting  /content/Patch_One/labels/73878.txt                          \b\b\b\b 99%\b\b\b\b\b  OK \n",
            "Extracting  /content/Patch_One/labels/73879.txt                          \b\b\b\b 99%\b\b\b\b\b  OK \n",
            "Extracting  /content/Patch_One/labels/73880.txt                          \b\b\b\b 99%\b\b\b\b\b  OK \n",
            "Extracting  /content/Patch_One/labels/73881.txt                          \b\b\b\b 99%\b\b\b\b\b  OK \n",
            "Extracting  /content/Patch_One/labels/73882.txt                          \b\b\b\b 99%\b\b\b\b\b  OK \n",
            "Extracting  /content/Patch_One/labels/73883.txt                          \b\b\b\b 99%\b\b\b\b\b  OK \n",
            "Extracting  /content/Patch_One/labels/73885.txt                          \b\b\b\b 99%\b\b\b\b\b  OK \n",
            "Extracting  /content/Patch_One/labels/73886.txt                          \b\b\b\b 99%\b\b\b\b\b  OK \n",
            "Extracting  /content/Patch_One/labels/73887.txt                          \b\b\b\b 99%\b\b\b\b\b  OK \n",
            "Extracting  /content/Patch_One/labels/73888.txt                          \b\b\b\b 99%\b\b\b\b\b  OK \n",
            "Extracting  /content/Patch_One/labels/73889.txt                          \b\b\b\b 99%\b\b\b\b\b  OK \n",
            "Extracting  /content/Patch_One/labels/73890.txt                          \b\b\b\b 99%\b\b\b\b\b  OK \n",
            "Extracting  /content/Patch_One/labels/73891.txt                          \b\b\b\b 99%\b\b\b\b\b  OK \n",
            "Extracting  /content/Patch_One/labels/73892.txt                          \b\b\b\b 99%\b\b\b\b\b  OK \n",
            "Extracting  /content/Patch_One/labels/73893.txt                          \b\b\b\b 99%\b\b\b\b\b  OK \n",
            "Extracting  /content/Patch_One/labels/73894.txt                          \b\b\b\b 99%\b\b\b\b\b  OK \n",
            "Extracting  /content/Patch_One/labels/73895.txt                          \b\b\b\b 99%\b\b\b\b\b  OK \n",
            "Extracting  /content/Patch_One/labels/73896.txt                          \b\b\b\b 99%\b\b\b\b\b  OK \n",
            "Extracting  /content/Patch_One/labels/73897.txt                          \b\b\b\b 99%\b\b\b\b\b  OK \n",
            "Extracting  /content/Patch_One/labels/73898.txt                          \b\b\b\b 99%\b\b\b\b\b  OK \n",
            "Extracting  /content/Patch_One/labels/73899.txt                          \b\b\b\b 99%\b\b\b\b\b  OK \n",
            "Extracting  /content/Patch_One/labels/73900.txt                          \b\b\b\b 99%\b\b\b\b\b  OK \n",
            "Extracting  /content/Patch_One/labels/73901.txt                          \b\b\b\b 99%\b\b\b\b\b  OK \n",
            "Extracting  /content/Patch_One/labels/73902.txt                          \b\b\b\b 99%\b\b\b\b\b  OK \n",
            "Extracting  /content/Patch_One/labels/73903.txt                          \b\b\b\b 99%\b\b\b\b\b  OK \n",
            "Extracting  /content/Patch_One/labels/73904.txt                          \b\b\b\b 99%\b\b\b\b\b  OK \n",
            "Extracting  /content/Patch_One/labels/73905.txt                          \b\b\b\b 99%\b\b\b\b\b  OK \n",
            "Extracting  /content/Patch_One/labels/73907.txt                          \b\b\b\b 99%\b\b\b\b\b  OK \n",
            "Extracting  /content/Patch_One/labels/73909.txt                          \b\b\b\b 99%\b\b\b\b\b  OK \n",
            "Extracting  /content/Patch_One/labels/73910.txt                          \b\b\b\b 99%\b\b\b\b\b  OK \n",
            "Extracting  /content/Patch_One/labels/73911.txt                          \b\b\b\b 99%\b\b\b\b\b  OK \n",
            "Extracting  /content/Patch_One/labels/73912.txt                          \b\b\b\b 99%\b\b\b\b\b  OK \n",
            "Extracting  /content/Patch_One/labels/73913.txt                          \b\b\b\b 99%\b\b\b\b\b  OK \n",
            "Extracting  /content/Patch_One/labels/73914.txt                          \b\b\b\b 99%\b\b\b\b\b  OK \n",
            "Extracting  /content/Patch_One/labels/73915.txt                          \b\b\b\b 99%\b\b\b\b\b  OK \n",
            "Extracting  /content/Patch_One/labels/73916.txt                          \b\b\b\b 99%\b\b\b\b\b  OK \n",
            "Extracting  /content/Patch_One/labels/73917.txt                          \b\b\b\b 99%\b\b\b\b\b  OK \n",
            "Extracting  /content/Patch_One/labels/73919.txt                          \b\b\b\b 99%\b\b\b\b\b  OK \n",
            "Extracting  /content/Patch_One/labels/73920.txt                          \b\b\b\b 99%\b\b\b\b\b  OK \n",
            "Extracting  /content/Patch_One/labels/73921.txt                          \b\b\b\b 99%\b\b\b\b\b  OK \n",
            "Extracting  /content/Patch_One/labels/73922.txt                          \b\b\b\b 99%\b\b\b\b\b  OK \n",
            "Extracting  /content/Patch_One/labels/73923.txt                          \b\b\b\b 99%\b\b\b\b\b  OK \n",
            "Extracting  /content/Patch_One/labels/73924.txt                          \b\b\b\b 99%\b\b\b\b\b  OK \n",
            "Extracting  /content/Patch_One/labels/73925.txt                          \b\b\b\b 99%\b\b\b\b\b  OK \n",
            "Extracting  /content/Patch_One/labels/73926.txt                          \b\b\b\b 99%\b\b\b\b\b  OK \n",
            "Extracting  /content/Patch_One/labels/73927.txt                          \b\b\b\b 99%\b\b\b\b\b  OK \n",
            "Extracting  /content/Patch_One/labels/73928.txt                          \b\b\b\b 99%\b\b\b\b\b  OK \n",
            "Extracting  /content/Patch_One/labels/73929.txt                          \b\b\b\b 99%\b\b\b\b\b  OK \n",
            "Extracting  /content/Patch_One/labels/73930.txt                          \b\b\b\b 99%\b\b\b\b\b  OK \n",
            "Extracting  /content/Patch_One/labels/73932.txt                          \b\b\b\b 99%\b\b\b\b\b  OK \n",
            "Extracting  /content/Patch_One/labels/73933.txt                          \b\b\b\b 99%\b\b\b\b\b  OK \n",
            "Extracting  /content/Patch_One/labels/73934.txt                          \b\b\b\b 99%\b\b\b\b\b  OK \n",
            "Extracting  /content/Patch_One/labels/73935.txt                          \b\b\b\b 99%\b\b\b\b\b  OK \n",
            "Extracting  /content/Patch_One/labels/73936.txt                          \b\b\b\b 99%\b\b\b\b\b  OK \n",
            "Extracting  /content/Patch_One/labels/73937.txt                          \b\b\b\b 99%\b\b\b\b\b  OK \n",
            "Extracting  /content/Patch_One/labels/73939.txt                          \b\b\b\b 99%\b\b\b\b\b  OK \n",
            "Extracting  /content/Patch_One/labels/73940.txt                          \b\b\b\b 99%\b\b\b\b\b  OK \n",
            "Extracting  /content/Patch_One/labels/73941.txt                          \b\b\b\b 99%\b\b\b\b\b  OK \n",
            "Extracting  /content/Patch_One/labels/73942.txt                          \b\b\b\b 99%\b\b\b\b\b  OK \n",
            "Extracting  /content/Patch_One/labels/73943.txt                          \b\b\b\b 99%\b\b\b\b\b  OK \n",
            "Extracting  /content/Patch_One/labels/73944.txt                          \b\b\b\b 99%\b\b\b\b\b  OK \n",
            "Extracting  /content/Patch_One/labels/73945.txt                          \b\b\b\b 99%\b\b\b\b\b  OK \n",
            "Extracting  /content/Patch_One/labels/73946.txt                          \b\b\b\b 99%\b\b\b\b\b  OK \n",
            "Extracting  /content/Patch_One/labels/73947.txt                          \b\b\b\b 99%\b\b\b\b\b  OK \n",
            "Extracting  /content/Patch_One/labels/73948.txt                          \b\b\b\b 99%\b\b\b\b\b  OK \n",
            "Extracting  /content/Patch_One/labels/73950.txt                          \b\b\b\b 99%\b\b\b\b\b  OK \n",
            "Extracting  /content/Patch_One/labels/73951.txt                          \b\b\b\b 99%\b\b\b\b\b  OK \n",
            "Extracting  /content/Patch_One/labels/73952.txt                          \b\b\b\b 99%\b\b\b\b\b  OK \n",
            "Extracting  /content/Patch_One/labels/73953.txt                          \b\b\b\b 99%\b\b\b\b\b  OK \n",
            "Extracting  /content/Patch_One/labels/73954.txt                          \b\b\b\b 99%\b\b\b\b\b  OK \n",
            "Extracting  /content/Patch_One/labels/73955.txt                          \b\b\b\b 99%\b\b\b\b\b  OK \n",
            "Extracting  /content/Patch_One/labels/73956.txt                          \b\b\b\b 99%\b\b\b\b\b  OK \n",
            "Extracting  /content/Patch_One/labels/73957.txt                          \b\b\b\b 99%\b\b\b\b\b  OK \n",
            "Extracting  /content/Patch_One/labels/73958.txt                          \b\b\b\b 99%\b\b\b\b\b  OK \n",
            "Extracting  /content/Patch_One/labels/73960.txt                          \b\b\b\b 99%\b\b\b\b\b  OK \n",
            "Extracting  /content/Patch_One/labels/73961.txt                          \b\b\b\b 99%\b\b\b\b\b  OK \n",
            "Extracting  /content/Patch_One/labels/73962.txt                          \b\b\b\b 99%\b\b\b\b\b  OK \n",
            "Extracting  /content/Patch_One/labels/73963.txt                          \b\b\b\b 99%\b\b\b\b\b  OK \n",
            "Extracting  /content/Patch_One/labels/73964.txt                          \b\b\b\b 99%\b\b\b\b\b  OK \n",
            "Extracting  /content/Patch_One/labels/73965.txt                          \b\b\b\b 99%\b\b\b\b\b  OK \n",
            "Extracting  /content/Patch_One/labels/73966.txt                          \b\b\b\b 99%\b\b\b\b\b  OK \n",
            "Extracting  /content/Patch_One/labels/73967.txt                          \b\b\b\b 99%\b\b\b\b\b  OK \n",
            "Extracting  /content/Patch_One/labels/73968.txt                          \b\b\b\b 99%\b\b\b\b\b  OK \n",
            "Extracting  /content/Patch_One/labels/73969.txt                          \b\b\b\b 99%\b\b\b\b\b  OK \n",
            "Extracting  /content/Patch_One/labels/73970.txt                          \b\b\b\b 99%\b\b\b\b\b  OK \n",
            "Extracting  /content/Patch_One/labels/73971.txt                          \b\b\b\b 99%\b\b\b\b\b  OK \n",
            "Extracting  /content/Patch_One/labels/73972.txt                          \b\b\b\b 99%\b\b\b\b\b  OK \n",
            "Extracting  /content/Patch_One/labels/73973.txt                          \b\b\b\b 99%\b\b\b\b\b  OK \n",
            "Extracting  /content/Patch_One/labels/73974.txt                          \b\b\b\b 99%\b\b\b\b\b  OK \n",
            "Extracting  /content/Patch_One/labels/73975.txt                          \b\b\b\b 99%\b\b\b\b\b  OK \n",
            "Extracting  /content/Patch_One/labels/73976.txt                          \b\b\b\b 99%\b\b\b\b\b  OK \n",
            "Extracting  /content/Patch_One/labels/73977.txt                          \b\b\b\b 99%\b\b\b\b\b  OK \n",
            "Extracting  /content/Patch_One/labels/73978.txt                          \b\b\b\b 99%\b\b\b\b\b  OK \n",
            "Extracting  /content/Patch_One/labels/73979.txt                          \b\b\b\b 99%\b\b\b\b\b  OK \n",
            "Extracting  /content/Patch_One/labels/73980.txt                          \b\b\b\b 99%\b\b\b\b\b  OK \n",
            "Extracting  /content/Patch_One/labels/73981.txt                          \b\b\b\b 99%\b\b\b\b\b  OK \n",
            "Extracting  /content/Patch_One/labels/73982.txt                          \b\b\b\b 99%\b\b\b\b\b  OK \n",
            "Extracting  /content/Patch_One/labels/73983.txt                          \b\b\b\b 99%\b\b\b\b\b  OK \n",
            "Extracting  /content/Patch_One/labels/73984.txt                          \b\b\b\b 99%\b\b\b\b\b  OK \n",
            "Extracting  /content/Patch_One/labels/73985.txt                          \b\b\b\b 99%\b\b\b\b\b  OK \n",
            "Extracting  /content/Patch_One/labels/73986.txt                          \b\b\b\b 99%\b\b\b\b\b  OK \n",
            "Extracting  /content/Patch_One/labels/73987.txt                          \b\b\b\b 99%\b\b\b\b\b  OK \n",
            "Extracting  /content/Patch_One/labels/73988.txt                          \b\b\b\b 99%\b\b\b\b\b  OK \n",
            "Extracting  /content/Patch_One/labels/73989.txt                          \b\b\b\b 99%\b\b\b\b\b  OK \n",
            "Extracting  /content/Patch_One/labels/73991.txt                          \b\b\b\b 99%\b\b\b\b\b  OK \n",
            "Extracting  /content/Patch_One/labels/73992.txt                          \b\b\b\b 99%\b\b\b\b\b  OK \n",
            "Extracting  /content/Patch_One/labels/73993.txt                          \b\b\b\b 99%\b\b\b\b\b  OK \n",
            "Extracting  /content/Patch_One/labels/73994.txt                          \b\b\b\b 99%\b\b\b\b\b  OK \n",
            "Extracting  /content/Patch_One/labels/73995.txt                          \b\b\b\b 99%\b\b\b\b\b  OK \n",
            "Extracting  /content/Patch_One/labels/73996.txt                          \b\b\b\b 99%\b\b\b\b\b  OK \n",
            "Extracting  /content/Patch_One/labels/73997.txt                          \b\b\b\b 99%\b\b\b\b\b  OK \n",
            "Extracting  /content/Patch_One/labels/73998.txt                          \b\b\b\b 99%\b\b\b\b\b  OK \n",
            "Extracting  /content/Patch_One/labels/73999.txt                          \b\b\b\b 99%\b\b\b\b\b  OK \n",
            "Extracting  /content/Patch_One/labels/74000.txt                          \b\b\b\b 99%\b\b\b\b\b  OK \n",
            "Extracting  /content/Patch_One/labels/74001.txt                          \b\b\b\b 99%\b\b\b\b\b  OK \n",
            "Extracting  /content/Patch_One/labels/74002.txt                          \b\b\b\b 99%\b\b\b\b\b  OK \n",
            "Extracting  /content/Patch_One/labels/74004.txt                          \b\b\b\b 99%\b\b\b\b\b  OK \n",
            "Extracting  /content/Patch_One/labels/74005.txt                          \b\b\b\b 99%\b\b\b\b\b  OK \n",
            "Extracting  /content/Patch_One/labels/74006.txt                          \b\b\b\b 99%\b\b\b\b\b  OK \n",
            "Extracting  /content/Patch_One/labels/74007.txt                          \b\b\b\b 99%\b\b\b\b\b  OK \n",
            "Extracting  /content/Patch_One/labels/74008.txt                          \b\b\b\b 99%\b\b\b\b\b  OK \n",
            "Extracting  /content/Patch_One/labels/74009.txt                          \b\b\b\b 99%\b\b\b\b\b  OK \n",
            "Extracting  /content/Patch_One/labels/74010.txt                          \b\b\b\b 99%\b\b\b\b\b  OK \n",
            "Extracting  /content/Patch_One/labels/74011.txt                          \b\b\b\b 99%\b\b\b\b\b  OK \n",
            "Extracting  /content/Patch_One/labels/74012.txt                          \b\b\b\b 99%\b\b\b\b\b  OK \n",
            "Extracting  /content/Patch_One/labels/74013.txt                          \b\b\b\b 99%\b\b\b\b\b  OK \n",
            "Extracting  /content/Patch_One/labels/74014.txt                          \b\b\b\b 99%\b\b\b\b\b  OK \n",
            "Extracting  /content/Patch_One/labels/74015.txt                          \b\b\b\b 99%\b\b\b\b\b  OK \n",
            "Extracting  /content/Patch_One/labels/74016.txt                          \b\b\b\b 99%\b\b\b\b\b  OK \n",
            "Extracting  /content/Patch_One/labels/74017.txt                          \b\b\b\b 99%\b\b\b\b\b  OK \n",
            "Extracting  /content/Patch_One/labels/74019.txt                          \b\b\b\b 99%\b\b\b\b\b  OK \n",
            "Extracting  /content/Patch_One/labels/74020.txt                          \b\b\b\b 99%\b\b\b\b\b  OK \n",
            "Extracting  /content/Patch_One/labels/74021.txt                          \b\b\b\b 99%\b\b\b\b\b  OK \n",
            "Extracting  /content/Patch_One/labels/74022.txt                          \b\b\b\b 99%\b\b\b\b\b  OK \n",
            "Extracting  /content/Patch_One/labels/74023.txt                          \b\b\b\b 99%\b\b\b\b\b  OK \n",
            "Extracting  /content/Patch_One/labels/74024.txt                          \b\b\b\b 99%\b\b\b\b\b  OK \n",
            "Extracting  /content/Patch_One/labels/74025.txt                          \b\b\b\b 99%\b\b\b\b\b  OK \n",
            "Extracting  /content/Patch_One/labels/74026.txt                          \b\b\b\b 99%\b\b\b\b\b  OK \n",
            "Extracting  /content/Patch_One/labels/74027.txt                          \b\b\b\b 99%\b\b\b\b\b  OK \n",
            "Extracting  /content/Patch_One/labels/74028.txt                          \b\b\b\b 99%\b\b\b\b\b  OK \n",
            "Extracting  /content/Patch_One/labels/74029.txt                          \b\b\b\b 99%\b\b\b\b\b  OK \n",
            "Extracting  /content/Patch_One/labels/74030.txt                          \b\b\b\b 99%\b\b\b\b\b  OK \n",
            "Extracting  /content/Patch_One/labels/74031.txt                          \b\b\b\b 99%\b\b\b\b\b  OK \n",
            "Extracting  /content/Patch_One/labels/74032.txt                          \b\b\b\b 99%\b\b\b\b\b  OK \n",
            "Extracting  /content/Patch_One/labels/74033.txt                          \b\b\b\b 99%\b\b\b\b\b  OK \n",
            "Extracting  /content/Patch_One/labels/74034.txt                          \b\b\b\b 99%\b\b\b\b\b  OK \n",
            "Extracting  /content/Patch_One/labels/74035.txt                          \b\b\b\b 99%\b\b\b\b\b  OK \n",
            "Extracting  /content/Patch_One/labels/74036.txt                          \b\b\b\b 99%\b\b\b\b\b  OK \n",
            "Extracting  /content/Patch_One/labels/74037.txt                          \b\b\b\b 99%\b\b\b\b\b  OK \n",
            "Extracting  /content/Patch_One/labels/74038.txt                          \b\b\b\b 99%\b\b\b\b\b  OK \n",
            "Extracting  /content/Patch_One/labels/74039.txt                          \b\b\b\b 99%\b\b\b\b\b  OK \n",
            "All OK\n"
          ]
        }
      ]
    },
    {
      "cell_type": "code",
      "source": [
        "# Create the 'dataset' folder if it doesn't exist\n",
        "!mkdir -p /content/dataset\n",
        "\n",
        "# Move '/content/Patch_One' into '/content/dataset/'\n",
        "!mv /content/Patch_One /content/dataset/\n"
      ],
      "metadata": {
        "id": "Uy37pwecMS6M"
      },
      "execution_count": 7,
      "outputs": []
    },
    {
      "cell_type": "code",
      "source": [
        "import os\n",
        "\n",
        "source_folder = \"/content/dataset/Patch_One\"\n",
        "destination_folder = \"/content/dataset/\"\n",
        "\n",
        "# Ensure the destination exists\n",
        "os.makedirs(destination_folder, exist_ok=True)\n",
        "import shutil\n",
        "\n",
        "for file_name in os.listdir(source_folder):\n",
        "    source_path = os.path.join(source_folder, file_name)\n",
        "    destination_path = os.path.join(destination_folder, file_name)\n",
        "\n",
        "    # Move each file/folder\n",
        "    shutil.move(source_path, destination_path)\n",
        "\n",
        "# Remove the now-empty original folder\n",
        "os.rmdir(source_folder)\n",
        "\n",
        "print(\"Files moved successfully!\")\n"
      ],
      "metadata": {
        "colab": {
          "base_uri": "https://localhost:8080/"
        },
        "id": "HyCs-vZ0fVeB",
        "outputId": "aa2cac0f-edf8-4812-9085-8a6e64e38c8e"
      },
      "execution_count": 8,
      "outputs": [
        {
          "output_type": "stream",
          "name": "stdout",
          "text": [
            "Files moved successfully!\n"
          ]
        }
      ]
    },
    {
      "cell_type": "code",
      "source": [
        "import os\n",
        "\n",
        "# Define paths\n",
        "old_labels_path = \"/content/dataset/labels\"\n",
        "new_dota_labels_path = \"/content/dataset/dota_labels\"\n",
        "new_labels_path = \"/content/dataset/labels\"\n",
        "\n",
        "# Rename \"labels\" to \"dota_labels\"\n",
        "if os.path.exists(old_labels_path):\n",
        "    os.rename(old_labels_path, new_dota_labels_path)\n",
        "    print(f\"✅ Renamed '{old_labels_path}' to '{new_dota_labels_path}'\")\n",
        "else:\n",
        "    print(f\"⚠️ '{old_labels_path}' not found!\")\n",
        "\n",
        "# Create a new \"labels\" folder\n",
        "os.makedirs(new_labels_path, exist_ok=True)\n",
        "print(f\"✅ Created new folder: '{new_labels_path}'\")\n"
      ],
      "metadata": {
        "colab": {
          "base_uri": "https://localhost:8080/"
        },
        "id": "RsQ9hgrAgy79",
        "outputId": "1c836d19-7a94-4605-e60c-0804d856dd41"
      },
      "execution_count": 9,
      "outputs": [
        {
          "output_type": "stream",
          "name": "stdout",
          "text": [
            "✅ Renamed '/content/dataset/labels' to '/content/dataset/dota_labels'\n",
            "✅ Created new folder: '/content/dataset/labels'\n"
          ]
        }
      ]
    },
    {
      "cell_type": "code",
      "source": [
        "## Add code block to change Bus and Van and make them universal keyword first for the code below to work correctly."
      ],
      "metadata": {
        "id": "rfsbPLYsZR8l"
      },
      "execution_count": null,
      "outputs": []
    },
    {
      "cell_type": "code",
      "source": [
        "import os\n",
        "\n",
        "# Path to the labels directory\n",
        "labels_dir = \"/content/dataset/dota_labels\"\n",
        "\n",
        "# Class mapping\n",
        "class_mapping = {\n",
        "    \"car\": 0,\n",
        "    \"van\": 1,\n",
        "    \"truck\": 2\n",
        "}\n",
        "\n",
        "# Counters for statistics\n",
        "total_files_processed = 0\n",
        "total_replacements = 0\n",
        "\n",
        "# Iterate through all label files in the directory\n",
        "for filename in os.listdir(labels_dir):\n",
        "    file_path = os.path.join(labels_dir, filename)\n",
        "\n",
        "    # Ensure it's a file\n",
        "    if os.path.isfile(file_path):\n",
        "        total_files_processed += 1\n",
        "\n",
        "        # Read the file content\n",
        "        with open(file_path, \"r\") as file:\n",
        "            lines = file.readlines()\n",
        "\n",
        "        # Count occurrences of 'Bus' and 'bus'\n",
        "        count_bus = sum(line.count(\"Bus\") for line in lines)\n",
        "        count_bus_lower = sum(line.count(\"bus\") for line in lines)\n",
        "\n",
        "        # Total replacements in this file\n",
        "        replacements_in_file = count_bus + count_bus_lower\n",
        "        total_replacements += replacements_in_file\n",
        "\n",
        "        # Replace 'Bus' or 'bus' with 'van'\n",
        "        updated_lines = [line.replace(\"Bus\", \"van\").replace(\"bus\", \"van\") for line in lines]\n",
        "\n",
        "        # Write the updated content back to the file\n",
        "        with open(file_path, \"w\") as file:\n",
        "            file.writelines(updated_lines)\n",
        "\n",
        "        print(f\"Processed {filename}: Replaced {replacements_in_file} occurrences.\")\n",
        "\n",
        "print(f\"Replacement completed successfully. {total_files_processed} files processed, {total_replacements} total replacements.\")\n"
      ],
      "metadata": {
        "colab": {
          "base_uri": "https://localhost:8080/"
        },
        "id": "4rFRrp8iey84",
        "outputId": "8e8e7b0f-e461-4720-854e-52dac1ba8b24"
      },
      "execution_count": 15,
      "outputs": [
        {
          "output_type": "stream",
          "name": "stdout",
          "text": [
            "Processed 73849.txt: Replaced 0 occurrences.\n",
            "Processed 73016.txt: Replaced 1 occurrences.\n",
            "Processed 73761.txt: Replaced 0 occurrences.\n",
            "Processed 71186.txt: Replaced 0 occurrences.\n",
            "Processed 70087.txt: Replaced 0 occurrences.\n",
            "Processed 73689.txt: Replaced 0 occurrences.\n",
            "Processed 73710.txt: Replaced 0 occurrences.\n",
            "Processed 73745.txt: Replaced 0 occurrences.\n",
            "Processed 71892.txt: Replaced 1 occurrences.\n",
            "Processed 74001.txt: Replaced 0 occurrences.\n",
            "Processed 70984.txt: Replaced 0 occurrences.\n",
            "Processed 73873.txt: Replaced 0 occurrences.\n",
            "Processed 73862.txt: Replaced 0 occurrences.\n",
            "Processed 73825.txt: Replaced 0 occurrences.\n",
            "Processed 73854.txt: Replaced 0 occurrences.\n",
            "Processed 70713.txt: Replaced 0 occurrences.\n",
            "Processed 73956.txt: Replaced 0 occurrences.\n",
            "Processed 71264.txt: Replaced 0 occurrences.\n",
            "Processed 73686.txt: Replaced 0 occurrences.\n",
            "Processed 73982.txt: Replaced 0 occurrences.\n",
            "Processed 73886.txt: Replaced 0 occurrences.\n",
            "Processed 70487.txt: Replaced 0 occurrences.\n",
            "Processed 71623.txt: Replaced 1 occurrences.\n",
            "Processed 70828.txt: Replaced 0 occurrences.\n",
            "Processed 73650.txt: Replaced 0 occurrences.\n",
            "Processed 74011.txt: Replaced 0 occurrences.\n",
            "Processed 73144.txt: Replaced 0 occurrences.\n",
            "Processed 73549.txt: Replaced 0 occurrences.\n",
            "Processed 70759.txt: Replaced 0 occurrences.\n",
            "Processed 74039.txt: Replaced 0 occurrences.\n",
            "Processed 72291.txt: Replaced 1 occurrences.\n",
            "Processed 73812.txt: Replaced 0 occurrences.\n",
            "Processed 73694.txt: Replaced 0 occurrences.\n",
            "Processed 73904.txt: Replaced 0 occurrences.\n",
            "Processed 74036.txt: Replaced 0 occurrences.\n",
            "Processed 73691.txt: Replaced 0 occurrences.\n",
            "Processed 72043.txt: Replaced 1 occurrences.\n",
            "Processed 73724.txt: Replaced 0 occurrences.\n",
            "Processed 71740.txt: Replaced 0 occurrences.\n",
            "Processed 74013.txt: Replaced 0 occurrences.\n",
            "Processed 72255.txt: Replaced 1 occurrences.\n",
            "Processed 73794.txt: Replaced 0 occurrences.\n",
            "Processed 70742.txt: Replaced 0 occurrences.\n",
            "Processed 70466.txt: Replaced 0 occurrences.\n",
            "Processed 72679.txt: Replaced 0 occurrences.\n",
            "Processed 73874.txt: Replaced 0 occurrences.\n",
            "Processed 73855.txt: Replaced 0 occurrences.\n",
            "Processed 70195.txt: Replaced 0 occurrences.\n",
            "Processed 73701.txt: Replaced 0 occurrences.\n",
            "Processed 73986.txt: Replaced 0 occurrences.\n",
            "Processed 74033.txt: Replaced 0 occurrences.\n",
            "Processed 73746.txt: Replaced 0 occurrences.\n",
            "Processed 73997.txt: Replaced 0 occurrences.\n",
            "Processed 73762.txt: Replaced 0 occurrences.\n",
            "Processed 73895.txt: Replaced 0 occurrences.\n",
            "Processed 73720.txt: Replaced 0 occurrences.\n",
            "Processed 73815.txt: Replaced 0 occurrences.\n",
            "Processed 71179.txt: Replaced 0 occurrences.\n",
            "Processed 72515.txt: Replaced 0 occurrences.\n",
            "Processed 73130.txt: Replaced 0 occurrences.\n",
            "Processed 71478.txt: Replaced 1 occurrences.\n",
            "Processed 71862.txt: Replaced 1 occurrences.\n",
            "Processed 73705.txt: Replaced 0 occurrences.\n",
            "Processed 70063.txt: Replaced 0 occurrences.\n",
            "Processed 73988.txt: Replaced 0 occurrences.\n",
            "Processed 71857.txt: Replaced 1 occurrences.\n",
            "Processed 73511.txt: Replaced 0 occurrences.\n",
            "Processed 72708.txt: Replaced 0 occurrences.\n",
            "Processed 71894.txt: Replaced 1 occurrences.\n",
            "Processed 72172.txt: Replaced 1 occurrences.\n",
            "Processed 73749.txt: Replaced 0 occurrences.\n",
            "Processed 71342.txt: Replaced 0 occurrences.\n",
            "Processed 74007.txt: Replaced 0 occurrences.\n",
            "Processed 71086.txt: Replaced 0 occurrences.\n",
            "Processed 70754.txt: Replaced 0 occurrences.\n",
            "Processed 71006.txt: Replaced 0 occurrences.\n",
            "Processed 72404.txt: Replaced 1 occurrences.\n",
            "Processed 70838.txt: Replaced 0 occurrences.\n",
            "Processed 74000.txt: Replaced 0 occurrences.\n",
            "Processed 73759.txt: Replaced 0 occurrences.\n",
            "Processed 72163.txt: Replaced 1 occurrences.\n",
            "Processed 72702.txt: Replaced 0 occurrences.\n",
            "Processed 73954.txt: Replaced 0 occurrences.\n",
            "Processed 73844.txt: Replaced 0 occurrences.\n",
            "Processed 71988.txt: Replaced 1 occurrences.\n",
            "Processed 72293.txt: Replaced 1 occurrences.\n",
            "Processed 72300.txt: Replaced 1 occurrences.\n",
            "Processed 73700.txt: Replaced 0 occurrences.\n",
            "Processed 73801.txt: Replaced 0 occurrences.\n",
            "Processed 71466.txt: Replaced 1 occurrences.\n",
            "Processed 73994.txt: Replaced 0 occurrences.\n",
            "Processed 71596.txt: Replaced 1 occurrences.\n",
            "Processed 73217.txt: Replaced 0 occurrences.\n",
            "Processed 73911.txt: Replaced 0 occurrences.\n",
            "Processed 74004.txt: Replaced 0 occurrences.\n",
            "Processed 72856.txt: Replaced 0 occurrences.\n",
            "Processed 73755.txt: Replaced 0 occurrences.\n",
            "Processed 71704.txt: Replaced 0 occurrences.\n",
            "Processed 70960.txt: Replaced 0 occurrences.\n",
            "Processed 70778.txt: Replaced 0 occurrences.\n",
            "Processed 73885.txt: Replaced 0 occurrences.\n",
            "Processed 70571.txt: Replaced 0 occurrences.\n",
            "Processed 71923.txt: Replaced 1 occurrences.\n",
            "Processed 73781.txt: Replaced 0 occurrences.\n",
            "Processed 73821.txt: Replaced 0 occurrences.\n",
            "Processed 73236.txt: Replaced 1 occurrences.\n",
            "Processed 71216.txt: Replaced 0 occurrences.\n",
            "Processed 71939.txt: Replaced 1 occurrences.\n",
            "Processed 72523.txt: Replaced 0 occurrences.\n",
            "Processed 73247.txt: Replaced 1 occurrences.\n",
            "Processed 71318.txt: Replaced 0 occurrences.\n",
            "Processed 70794.txt: Replaced 0 occurrences.\n",
            "Processed 71848.txt: Replaced 1 occurrences.\n",
            "Processed 73999.txt: Replaced 0 occurrences.\n",
            "Processed 72711.txt: Replaced 0 occurrences.\n",
            "Processed 73722.txt: Replaced 0 occurrences.\n",
            "Processed 73966.txt: Replaced 0 occurrences.\n",
            "Processed 73779.txt: Replaced 0 occurrences.\n",
            "Processed 73917.txt: Replaced 0 occurrences.\n",
            "Processed 71555.txt: Replaced 1 occurrences.\n",
            "Processed 72764.txt: Replaced 1 occurrences.\n",
            "Processed 72087.txt: Replaced 1 occurrences.\n",
            "Processed 73960.txt: Replaced 0 occurrences.\n",
            "Processed 73934.txt: Replaced 0 occurrences.\n",
            "Processed 74030.txt: Replaced 0 occurrences.\n",
            "Processed 73889.txt: Replaced 0 occurrences.\n",
            "Processed 71200.txt: Replaced 0 occurrences.\n",
            "Processed 71561.txt: Replaced 1 occurrences.\n",
            "Processed 73924.txt: Replaced 0 occurrences.\n",
            "Processed 71398.txt: Replaced 1 occurrences.\n",
            "Processed 70150.txt: Replaced 0 occurrences.\n",
            "Processed 72790.txt: Replaced 0 occurrences.\n",
            "Processed 70188.txt: Replaced 0 occurrences.\n",
            "Processed 73859.txt: Replaced 0 occurrences.\n",
            "Processed 70695.txt: Replaced 0 occurrences.\n",
            "Processed 73921.txt: Replaced 0 occurrences.\n",
            "Processed 72167.txt: Replaced 1 occurrences.\n",
            "Processed 70101.txt: Replaced 0 occurrences.\n",
            "Processed 71932.txt: Replaced 1 occurrences.\n",
            "Processed 73930.txt: Replaced 0 occurrences.\n",
            "Processed 70008.txt: Replaced 0 occurrences.\n",
            "Processed 73780.txt: Replaced 0 occurrences.\n",
            "Processed 71706.txt: Replaced 0 occurrences.\n",
            "Processed 73212.txt: Replaced 0 occurrences.\n",
            "Processed 70573.txt: Replaced 0 occurrences.\n",
            "Processed 72849.txt: Replaced 0 occurrences.\n",
            "Processed 73114.txt: Replaced 0 occurrences.\n",
            "Processed 73097.txt: Replaced 0 occurrences.\n",
            "Processed 72145.txt: Replaced 1 occurrences.\n",
            "Processed 71999.txt: Replaced 1 occurrences.\n",
            "Processed 73948.txt: Replaced 0 occurrences.\n",
            "Processed 73208.txt: Replaced 0 occurrences.\n",
            "Processed 70750.txt: Replaced 0 occurrences.\n",
            "Processed 71943.txt: Replaced 1 occurrences.\n",
            "Processed 73983.txt: Replaced 0 occurrences.\n",
            "Processed 72974.txt: Replaced 1 occurrences.\n",
            "Processed 73961.txt: Replaced 0 occurrences.\n",
            "Processed 71568.txt: Replaced 1 occurrences.\n",
            "Processed 74026.txt: Replaced 0 occurrences.\n",
            "Processed 73970.txt: Replaced 0 occurrences.\n",
            "Processed 74024.txt: Replaced 0 occurrences.\n",
            "Processed 70895.txt: Replaced 0 occurrences.\n",
            "Processed 73865.txt: Replaced 0 occurrences.\n",
            "Processed 73957.txt: Replaced 0 occurrences.\n",
            "Processed 73059.txt: Replaced 1 occurrences.\n",
            "Processed 71479.txt: Replaced 1 occurrences.\n",
            "Processed 70167.txt: Replaced 0 occurrences.\n",
            "Processed 72093.txt: Replaced 1 occurrences.\n",
            "Processed 74025.txt: Replaced 0 occurrences.\n",
            "Processed 73733.txt: Replaced 0 occurrences.\n",
            "Processed 73790.txt: Replaced 0 occurrences.\n",
            "Processed 71567.txt: Replaced 1 occurrences.\n",
            "Processed 73914.txt: Replaced 0 occurrences.\n",
            "Processed 72289.txt: Replaced 1 occurrences.\n",
            "Processed 73867.txt: Replaced 0 occurrences.\n",
            "Processed 72930.txt: Replaced 0 occurrences.\n",
            "Processed 73828.txt: Replaced 0 occurrences.\n",
            "Processed 72914.txt: Replaced 0 occurrences.\n",
            "Processed 74027.txt: Replaced 0 occurrences.\n",
            "Processed 73760.txt: Replaced 0 occurrences.\n",
            "Processed 72994.txt: Replaced 1 occurrences.\n",
            "Processed 73633.txt: Replaced 0 occurrences.\n",
            "Processed 72238.txt: Replaced 1 occurrences.\n",
            "Processed 71690.txt: Replaced 1 occurrences.\n",
            "Processed 74022.txt: Replaced 0 occurrences.\n",
            "Processed 70783.txt: Replaced 0 occurrences.\n",
            "Processed 70801.txt: Replaced 0 occurrences.\n",
            "Processed 73687.txt: Replaced 0 occurrences.\n",
            "Processed 73785.txt: Replaced 0 occurrences.\n",
            "Processed 73965.txt: Replaced 0 occurrences.\n",
            "Processed 73909.txt: Replaced 0 occurrences.\n",
            "Processed 72464.txt: Replaced 0 occurrences.\n",
            "Processed 73922.txt: Replaced 0 occurrences.\n",
            "Processed 71618.txt: Replaced 1 occurrences.\n",
            "Processed 71266.txt: Replaced 0 occurrences.\n",
            "Processed 73848.txt: Replaced 0 occurrences.\n",
            "Processed 73840.txt: Replaced 0 occurrences.\n",
            "Processed 73907.txt: Replaced 0 occurrences.\n",
            "Processed 73742.txt: Replaced 0 occurrences.\n",
            "Processed 74020.txt: Replaced 0 occurrences.\n",
            "Processed 72395.txt: Replaced 1 occurrences.\n",
            "Processed 73912.txt: Replaced 0 occurrences.\n",
            "Processed 70164.txt: Replaced 0 occurrences.\n",
            "Processed 73833.txt: Replaced 0 occurrences.\n",
            "Processed 73894.txt: Replaced 0 occurrences.\n",
            "Processed 71346.txt: Replaced 0 occurrences.\n",
            "Processed 70992.txt: Replaced 0 occurrences.\n",
            "Processed 71578.txt: Replaced 1 occurrences.\n",
            "Processed 71905.txt: Replaced 1 occurrences.\n",
            "Processed 70165.txt: Replaced 0 occurrences.\n",
            "Processed 74009.txt: Replaced 0 occurrences.\n",
            "Processed 72454.txt: Replaced 1 occurrences.\n",
            "Processed 73972.txt: Replaced 0 occurrences.\n",
            "Processed 74034.txt: Replaced 0 occurrences.\n",
            "Processed 73955.txt: Replaced 0 occurrences.\n",
            "Processed 72267.txt: Replaced 1 occurrences.\n",
            "Processed 70946.txt: Replaced 0 occurrences.\n",
            "Processed 72329.txt: Replaced 1 occurrences.\n",
            "Processed 73940.txt: Replaced 0 occurrences.\n",
            "Processed 73725.txt: Replaced 0 occurrences.\n",
            "Processed 71411.txt: Replaced 1 occurrences.\n",
            "Processed 73797.txt: Replaced 0 occurrences.\n",
            "Processed 73750.txt: Replaced 0 occurrences.\n",
            "Processed 71981.txt: Replaced 1 occurrences.\n",
            "Processed 73809.txt: Replaced 0 occurrences.\n",
            "Processed 73763.txt: Replaced 0 occurrences.\n",
            "Processed 73901.txt: Replaced 0 occurrences.\n",
            "Processed 73209.txt: Replaced 0 occurrences.\n",
            "Processed 70408.txt: Replaced 0 occurrences.\n",
            "Processed 70191.txt: Replaced 0 occurrences.\n",
            "Processed 72097.txt: Replaced 1 occurrences.\n",
            "Processed 73814.txt: Replaced 0 occurrences.\n",
            "Processed 71462.txt: Replaced 1 occurrences.\n",
            "Processed 73641.txt: Replaced 0 occurrences.\n",
            "Processed 70034.txt: Replaced 0 occurrences.\n",
            "Processed 73947.txt: Replaced 0 occurrences.\n",
            "Processed 73772.txt: Replaced 0 occurrences.\n",
            "Processed 70435.txt: Replaced 0 occurrences.\n",
            "Processed 71944.txt: Replaced 1 occurrences.\n",
            "Processed 73896.txt: Replaced 0 occurrences.\n",
            "Processed 73052.txt: Replaced 1 occurrences.\n",
            "Processed 72254.txt: Replaced 1 occurrences.\n",
            "Processed 72007.txt: Replaced 1 occurrences.\n",
            "Processed 72545.txt: Replaced 0 occurrences.\n",
            "Processed 73714.txt: Replaced 0 occurrences.\n",
            "Processed 71224.txt: Replaced 0 occurrences.\n",
            "Processed 72003.txt: Replaced 1 occurrences.\n",
            "Processed 73872.txt: Replaced 0 occurrences.\n",
            "Processed 70043.txt: Replaced 0 occurrences.\n",
            "Processed 71316.txt: Replaced 0 occurrences.\n",
            "Processed 72844.txt: Replaced 0 occurrences.\n",
            "Processed 73706.txt: Replaced 0 occurrences.\n",
            "Processed 73868.txt: Replaced 0 occurrences.\n",
            "Processed 70534.txt: Replaced 0 occurrences.\n",
            "Processed 71310.txt: Replaced 0 occurrences.\n",
            "Processed 74023.txt: Replaced 0 occurrences.\n",
            "Processed 71401.txt: Replaced 1 occurrences.\n",
            "Processed 73738.txt: Replaced 0 occurrences.\n",
            "Processed 71799.txt: Replaced 0 occurrences.\n",
            "Processed 72771.txt: Replaced 1 occurrences.\n",
            "Processed 70159.txt: Replaced 0 occurrences.\n",
            "Processed 74006.txt: Replaced 0 occurrences.\n",
            "Processed 71629.txt: Replaced 1 occurrences.\n",
            "Processed 73786.txt: Replaced 0 occurrences.\n",
            "Processed 73878.txt: Replaced 0 occurrences.\n",
            "Processed 73932.txt: Replaced 0 occurrences.\n",
            "Processed 70729.txt: Replaced 0 occurrences.\n",
            "Processed 70737.txt: Replaced 0 occurrences.\n",
            "Processed 73712.txt: Replaced 0 occurrences.\n",
            "Processed 71233.txt: Replaced 0 occurrences.\n",
            "Processed 71326.txt: Replaced 0 occurrences.\n",
            "Processed 73851.txt: Replaced 0 occurrences.\n",
            "Processed 71008.txt: Replaced 0 occurrences.\n",
            "Processed 73709.txt: Replaced 0 occurrences.\n",
            "Processed 73976.txt: Replaced 0 occurrences.\n",
            "Processed 73852.txt: Replaced 0 occurrences.\n",
            "Processed 74031.txt: Replaced 0 occurrences.\n",
            "Processed 73890.txt: Replaced 0 occurrences.\n",
            "Processed 72375.txt: Replaced 1 occurrences.\n",
            "Processed 71521.txt: Replaced 1 occurrences.\n",
            "Processed 70973.txt: Replaced 0 occurrences.\n",
            "Processed 72180.txt: Replaced 1 occurrences.\n",
            "Processed 70676.txt: Replaced 0 occurrences.\n",
            "Processed 73944.txt: Replaced 0 occurrences.\n",
            "Processed 71528.txt: Replaced 1 occurrences.\n",
            "Processed 73980.txt: Replaced 0 occurrences.\n",
            "Processed 73964.txt: Replaced 0 occurrences.\n",
            "Processed 73756.txt: Replaced 0 occurrences.\n",
            "Processed 73799.txt: Replaced 0 occurrences.\n",
            "Processed 72337.txt: Replaced 1 occurrences.\n",
            "Processed 73688.txt: Replaced 0 occurrences.\n",
            "Processed 72524.txt: Replaced 0 occurrences.\n",
            "Processed 73807.txt: Replaced 0 occurrences.\n",
            "Processed 73727.txt: Replaced 0 occurrences.\n",
            "Processed 70678.txt: Replaced 0 occurrences.\n",
            "Processed 70673.txt: Replaced 0 occurrences.\n",
            "Processed 72298.txt: Replaced 1 occurrences.\n",
            "Processed 73729.txt: Replaced 0 occurrences.\n",
            "Processed 70951.txt: Replaced 0 occurrences.\n",
            "Processed 73642.txt: Replaced 0 occurrences.\n",
            "Processed 73993.txt: Replaced 0 occurrences.\n",
            "Processed 71843.txt: Replaced 1 occurrences.\n",
            "Processed 71096.txt: Replaced 0 occurrences.\n",
            "Processed 73876.txt: Replaced 0 occurrences.\n",
            "Processed 73735.txt: Replaced 0 occurrences.\n",
            "Processed 74038.txt: Replaced 0 occurrences.\n",
            "Processed 72059.txt: Replaced 1 occurrences.\n",
            "Processed 71780.txt: Replaced 0 occurrences.\n",
            "Processed 71560.txt: Replaced 1 occurrences.\n",
            "Processed 71442.txt: Replaced 1 occurrences.\n",
            "Processed 71384.txt: Replaced 1 occurrences.\n",
            "Processed 73489.txt: Replaced 0 occurrences.\n",
            "Processed 73744.txt: Replaced 0 occurrences.\n",
            "Processed 73155.txt: Replaced 0 occurrences.\n",
            "Processed 71106.txt: Replaced 0 occurrences.\n",
            "Processed 73726.txt: Replaced 0 occurrences.\n",
            "Processed 73767.txt: Replaced 0 occurrences.\n",
            "Processed 72900.txt: Replaced 0 occurrences.\n",
            "Processed 70694.txt: Replaced 0 occurrences.\n",
            "Processed 70717.txt: Replaced 0 occurrences.\n",
            "Processed 73897.txt: Replaced 0 occurrences.\n",
            "Processed 73860.txt: Replaced 0 occurrences.\n",
            "Processed 72026.txt: Replaced 1 occurrences.\n",
            "Processed 73704.txt: Replaced 0 occurrences.\n",
            "Processed 73721.txt: Replaced 0 occurrences.\n",
            "Processed 73442.txt: Replaced 0 occurrences.\n",
            "Processed 71993.txt: Replaced 1 occurrences.\n",
            "Processed 73881.txt: Replaced 0 occurrences.\n",
            "Processed 74037.txt: Replaced 0 occurrences.\n",
            "Processed 70926.txt: Replaced 0 occurrences.\n",
            "Processed 73775.txt: Replaced 0 occurrences.\n",
            "Processed 71529.txt: Replaced 1 occurrences.\n",
            "Processed 73731.txt: Replaced 0 occurrences.\n",
            "Processed 72296.txt: Replaced 1 occurrences.\n",
            "Processed 73751.txt: Replaced 0 occurrences.\n",
            "Processed 70716.txt: Replaced 0 occurrences.\n",
            "Processed 73871.txt: Replaced 0 occurrences.\n",
            "Processed 70663.txt: Replaced 0 occurrences.\n",
            "Processed 73927.txt: Replaced 0 occurrences.\n",
            "Processed 71921.txt: Replaced 1 occurrences.\n",
            "Processed 73913.txt: Replaced 0 occurrences.\n",
            "Processed 72768.txt: Replaced 1 occurrences.\n",
            "Processed 73958.txt: Replaced 0 occurrences.\n",
            "Processed 70908.txt: Replaced 0 occurrences.\n",
            "Processed 73783.txt: Replaced 0 occurrences.\n",
            "Processed 73875.txt: Replaced 0 occurrences.\n",
            "Processed 73925.txt: Replaced 0 occurrences.\n",
            "Processed 73857.txt: Replaced 0 occurrences.\n",
            "Processed 72995.txt: Replaced 1 occurrences.\n",
            "Processed 73861.txt: Replaced 0 occurrences.\n",
            "Processed 73822.txt: Replaced 0 occurrences.\n",
            "Processed 71771.txt: Replaced 0 occurrences.\n",
            "Processed 73813.txt: Replaced 0 occurrences.\n",
            "Processed 73946.txt: Replaced 0 occurrences.\n",
            "Processed 73950.txt: Replaced 0 occurrences.\n",
            "Processed 73969.txt: Replaced 0 occurrences.\n",
            "Processed 73879.txt: Replaced 0 occurrences.\n",
            "Processed 72525.txt: Replaced 0 occurrences.\n",
            "Processed 73963.txt: Replaced 0 occurrences.\n",
            "Processed 73575.txt: Replaced 0 occurrences.\n",
            "Processed 74010.txt: Replaced 0 occurrences.\n",
            "Processed 70651.txt: Replaced 0 occurrences.\n",
            "Processed 73024.txt: Replaced 1 occurrences.\n",
            "Processed 73754.txt: Replaced 0 occurrences.\n",
            "Processed 73696.txt: Replaced 0 occurrences.\n",
            "Processed 73933.txt: Replaced 0 occurrences.\n",
            "Processed 73798.txt: Replaced 0 occurrences.\n",
            "Processed 73973.txt: Replaced 0 occurrences.\n",
            "Processed 73118.txt: Replaced 0 occurrences.\n",
            "Processed 72814.txt: Replaced 0 occurrences.\n",
            "Processed 73695.txt: Replaced 0 occurrences.\n",
            "Processed 73808.txt: Replaced 0 occurrences.\n",
            "Processed 72062.txt: Replaced 1 occurrences.\n",
            "Processed 73967.txt: Replaced 0 occurrences.\n",
            "Processed 73853.txt: Replaced 0 occurrences.\n",
            "Processed 73747.txt: Replaced 0 occurrences.\n",
            "Processed 73148.txt: Replaced 0 occurrences.\n",
            "Processed 72923.txt: Replaced 0 occurrences.\n",
            "Processed 73768.txt: Replaced 0 occurrences.\n",
            "Processed 73839.txt: Replaced 0 occurrences.\n",
            "Processed 73824.txt: Replaced 0 occurrences.\n",
            "Processed 71532.txt: Replaced 1 occurrences.\n",
            "Processed 72345.txt: Replaced 1 occurrences.\n",
            "Processed 73939.txt: Replaced 0 occurrences.\n",
            "Processed 73987.txt: Replaced 0 occurrences.\n",
            "Processed 72533.txt: Replaced 0 occurrences.\n",
            "Processed 70494.txt: Replaced 0 occurrences.\n",
            "Processed 71913.txt: Replaced 1 occurrences.\n",
            "Processed 73893.txt: Replaced 0 occurrences.\n",
            "Processed 70553.txt: Replaced 0 occurrences.\n",
            "Processed 72414.txt: Replaced 1 occurrences.\n",
            "Processed 72865.txt: Replaced 0 occurrences.\n",
            "Processed 71468.txt: Replaced 1 occurrences.\n",
            "Processed 73846.txt: Replaced 0 occurrences.\n",
            "Processed 72170.txt: Replaced 1 occurrences.\n",
            "Processed 71645.txt: Replaced 1 occurrences.\n",
            "Processed 71064.txt: Replaced 0 occurrences.\n",
            "Processed 72738.txt: Replaced 0 occurrences.\n",
            "Processed 73831.txt: Replaced 0 occurrences.\n",
            "Processed 73810.txt: Replaced 0 occurrences.\n",
            "Processed 70007.txt: Replaced 0 occurrences.\n",
            "Processed 73858.txt: Replaced 0 occurrences.\n",
            "Processed 73830.txt: Replaced 0 occurrences.\n",
            "Processed 70758.txt: Replaced 0 occurrences.\n",
            "Processed 73898.txt: Replaced 0 occurrences.\n",
            "Processed 73481.txt: Replaced 0 occurrences.\n",
            "Processed 72787.txt: Replaced 0 occurrences.\n",
            "Processed 72168.txt: Replaced 1 occurrences.\n",
            "Processed 74019.txt: Replaced 0 occurrences.\n",
            "Processed 72544.txt: Replaced 0 occurrences.\n",
            "Processed 73617.txt: Replaced 0 occurrences.\n",
            "Processed 70977.txt: Replaced 0 occurrences.\n",
            "Processed 73711.txt: Replaced 0 occurrences.\n",
            "Processed 72156.txt: Replaced 1 occurrences.\n",
            "Processed 73887.txt: Replaced 0 occurrences.\n",
            "Processed 73827.txt: Replaced 0 occurrences.\n",
            "Processed 70974.txt: Replaced 0 occurrences.\n",
            "Processed 71982.txt: Replaced 1 occurrences.\n",
            "Processed 73579.txt: Replaced 0 occurrences.\n",
            "Processed 73979.txt: Replaced 0 occurrences.\n",
            "Processed 73793.txt: Replaced 0 occurrences.\n",
            "Processed 73915.txt: Replaced 0 occurrences.\n",
            "Processed 72957.txt: Replaced 0 occurrences.\n",
            "Processed 71381.txt: Replaced 1 occurrences.\n",
            "Processed 73991.txt: Replaced 0 occurrences.\n",
            "Processed 70613.txt: Replaced 0 occurrences.\n",
            "Processed 73771.txt: Replaced 0 occurrences.\n",
            "Processed 73816.txt: Replaced 0 occurrences.\n",
            "Processed 72782.txt: Replaced 1 occurrences.\n",
            "Processed 72988.txt: Replaced 1 occurrences.\n",
            "Processed 73962.txt: Replaced 0 occurrences.\n",
            "Processed 73863.txt: Replaced 0 occurrences.\n",
            "Processed 73952.txt: Replaced 0 occurrences.\n",
            "Processed 73942.txt: Replaced 0 occurrences.\n",
            "Processed 70397.txt: Replaced 0 occurrences.\n",
            "Processed 74035.txt: Replaced 0 occurrences.\n",
            "Processed 71327.txt: Replaced 0 occurrences.\n",
            "Processed 73850.txt: Replaced 0 occurrences.\n",
            "Processed 73903.txt: Replaced 0 occurrences.\n",
            "Processed 73804.txt: Replaced 0 occurrences.\n",
            "Processed 73204.txt: Replaced 0 occurrences.\n",
            "Processed 73941.txt: Replaced 0 occurrences.\n",
            "Processed 73826.txt: Replaced 0 occurrences.\n",
            "Processed 73769.txt: Replaced 0 occurrences.\n",
            "Processed 71610.txt: Replaced 1 occurrences.\n",
            "Processed 73582.txt: Replaced 0 occurrences.\n",
            "Processed 70439.txt: Replaced 0 occurrences.\n",
            "Processed 73692.txt: Replaced 0 occurrences.\n",
            "Processed 73945.txt: Replaced 0 occurrences.\n",
            "Processed 73774.txt: Replaced 0 occurrences.\n",
            "Processed 71566.txt: Replaced 1 occurrences.\n",
            "Processed 70698.txt: Replaced 0 occurrences.\n",
            "Processed 73869.txt: Replaced 0 occurrences.\n",
            "Processed 73951.txt: Replaced 0 occurrences.\n",
            "Processed 72192.txt: Replaced 1 occurrences.\n",
            "Processed 71836.txt: Replaced 1 occurrences.\n",
            "Processed 72920.txt: Replaced 0 occurrences.\n",
            "Processed 73900.txt: Replaced 0 occurrences.\n",
            "Processed 73902.txt: Replaced 0 occurrences.\n",
            "Processed 72475.txt: Replaced 0 occurrences.\n",
            "Processed 73104.txt: Replaced 0 occurrences.\n",
            "Processed 73985.txt: Replaced 0 occurrences.\n",
            "Processed 71409.txt: Replaced 1 occurrences.\n",
            "Processed 72200.txt: Replaced 1 occurrences.\n",
            "Processed 73926.txt: Replaced 0 occurrences.\n",
            "Processed 72984.txt: Replaced 1 occurrences.\n",
            "Processed 73899.txt: Replaced 0 occurrences.\n",
            "Processed 73253.txt: Replaced 0 occurrences.\n",
            "Processed 73843.txt: Replaced 0 occurrences.\n",
            "Processed 73971.txt: Replaced 0 occurrences.\n",
            "Processed 73734.txt: Replaced 0 occurrences.\n",
            "Processed 74014.txt: Replaced 0 occurrences.\n",
            "Processed 72210.txt: Replaced 1 occurrences.\n",
            "Processed 73623.txt: Replaced 0 occurrences.\n",
            "Processed 71309.txt: Replaced 0 occurrences.\n",
            "Processed 71256.txt: Replaced 0 occurrences.\n",
            "Processed 74008.txt: Replaced 0 occurrences.\n",
            "Processed 73778.txt: Replaced 0 occurrences.\n",
            "Processed 72205.txt: Replaced 1 occurrences.\n",
            "Processed 73753.txt: Replaced 0 occurrences.\n",
            "Processed 71415.txt: Replaced 1 occurrences.\n",
            "Processed 73829.txt: Replaced 0 occurrences.\n",
            "Processed 73800.txt: Replaced 0 occurrences.\n",
            "Processed 73835.txt: Replaced 0 occurrences.\n",
            "Processed 70998.txt: Replaced 0 occurrences.\n",
            "Processed 73838.txt: Replaced 0 occurrences.\n",
            "Processed 72228.txt: Replaced 1 occurrences.\n",
            "Processed 73937.txt: Replaced 0 occurrences.\n",
            "Processed 73697.txt: Replaced 0 occurrences.\n",
            "Processed 70468.txt: Replaced 0 occurrences.\n",
            "Processed 72797.txt: Replaced 0 occurrences.\n",
            "Processed 73698.txt: Replaced 0 occurrences.\n",
            "Processed 73910.txt: Replaced 0 occurrences.\n",
            "Processed 73919.txt: Replaced 0 occurrences.\n",
            "Processed 70183.txt: Replaced 0 occurrences.\n",
            "Processed 73818.txt: Replaced 0 occurrences.\n",
            "Processed 73928.txt: Replaced 0 occurrences.\n",
            "Processed 73981.txt: Replaced 0 occurrences.\n",
            "Processed 73984.txt: Replaced 0 occurrences.\n",
            "Processed 73892.txt: Replaced 0 occurrences.\n",
            "Processed 70733.txt: Replaced 0 occurrences.\n",
            "Processed 73757.txt: Replaced 0 occurrences.\n",
            "Processed 73891.txt: Replaced 0 occurrences.\n",
            "Processed 73953.txt: Replaced 0 occurrences.\n",
            "Processed 74015.txt: Replaced 0 occurrences.\n",
            "Processed 73923.txt: Replaced 0 occurrences.\n",
            "Processed 70787.txt: Replaced 0 occurrences.\n",
            "Processed 73782.txt: Replaced 0 occurrences.\n",
            "Processed 70723.txt: Replaced 0 occurrences.\n",
            "Processed 74002.txt: Replaced 0 occurrences.\n",
            "Processed 73741.txt: Replaced 0 occurrences.\n",
            "Processed 73201.txt: Replaced 0 occurrences.\n",
            "Processed 73699.txt: Replaced 0 occurrences.\n",
            "Processed 71620.txt: Replaced 1 occurrences.\n",
            "Processed 70909.txt: Replaced 0 occurrences.\n",
            "Processed 73832.txt: Replaced 0 occurrences.\n",
            "Processed 72250.txt: Replaced 1 occurrences.\n",
            "Processed 73708.txt: Replaced 0 occurrences.\n",
            "Processed 72141.txt: Replaced 1 occurrences.\n",
            "Processed 74028.txt: Replaced 0 occurrences.\n",
            "Processed 70756.txt: Replaced 0 occurrences.\n",
            "Processed 73974.txt: Replaced 0 occurrences.\n",
            "Processed 71137.txt: Replaced 0 occurrences.\n",
            "Processed 71536.txt: Replaced 1 occurrences.\n",
            "Processed 71761.txt: Replaced 0 occurrences.\n",
            "Processed 70812.txt: Replaced 0 occurrences.\n",
            "Processed 73802.txt: Replaced 0 occurrences.\n",
            "Processed 70392.txt: Replaced 0 occurrences.\n",
            "Processed 73732.txt: Replaced 0 occurrences.\n",
            "Processed 73920.txt: Replaced 0 occurrences.\n",
            "Processed 70535.txt: Replaced 0 occurrences.\n",
            "Processed 73764.txt: Replaced 0 occurrences.\n",
            "Processed 71375.txt: Replaced 1 occurrences.\n",
            "Processed 73936.txt: Replaced 0 occurrences.\n",
            "Processed 73743.txt: Replaced 0 occurrences.\n",
            "Processed 72385.txt: Replaced 1 occurrences.\n",
            "Processed 73842.txt: Replaced 0 occurrences.\n",
            "Processed 73803.txt: Replaced 0 occurrences.\n",
            "Processed 73978.txt: Replaced 0 occurrences.\n",
            "Processed 73723.txt: Replaced 0 occurrences.\n",
            "Processed 73728.txt: Replaced 0 occurrences.\n",
            "Processed 71511.txt: Replaced 1 occurrences.\n",
            "Processed 71772.txt: Replaced 0 occurrences.\n",
            "Processed 71607.txt: Replaced 1 occurrences.\n",
            "Processed 70777.txt: Replaced 0 occurrences.\n",
            "Processed 70080.txt: Replaced 0 occurrences.\n",
            "Processed 71651.txt: Replaced 1 occurrences.\n",
            "Processed 73718.txt: Replaced 0 occurrences.\n",
            "Processed 74029.txt: Replaced 0 occurrences.\n",
            "Processed 71732.txt: Replaced 0 occurrences.\n",
            "Processed 73837.txt: Replaced 0 occurrences.\n",
            "Processed 73836.txt: Replaced 0 occurrences.\n",
            "Processed 73702.txt: Replaced 0 occurrences.\n",
            "Processed 73715.txt: Replaced 0 occurrences.\n",
            "Processed 73996.txt: Replaced 0 occurrences.\n",
            "Processed 71601.txt: Replaced 1 occurrences.\n",
            "Processed 73145.txt: Replaced 0 occurrences.\n",
            "Processed 73883.txt: Replaced 0 occurrences.\n",
            "Processed 73791.txt: Replaced 0 occurrences.\n",
            "Processed 74012.txt: Replaced 0 occurrences.\n",
            "Processed 71628.txt: Replaced 1 occurrences.\n",
            "Processed 73661.txt: Replaced 0 occurrences.\n",
            "Processed 73758.txt: Replaced 0 occurrences.\n",
            "Processed 73211.txt: Replaced 0 occurrences.\n",
            "Processed 73719.txt: Replaced 0 occurrences.\n",
            "Processed 73196.txt: Replaced 0 occurrences.\n",
            "Processed 71975.txt: Replaced 1 occurrences.\n",
            "Processed 73752.txt: Replaced 0 occurrences.\n",
            "Processed 71222.txt: Replaced 0 occurrences.\n",
            "Processed 72723.txt: Replaced 0 occurrences.\n",
            "Processed 70495.txt: Replaced 0 occurrences.\n",
            "Processed 73811.txt: Replaced 0 occurrences.\n",
            "Processed 72108.txt: Replaced 1 occurrences.\n",
            "Processed 70913.txt: Replaced 0 occurrences.\n",
            "Processed 73992.txt: Replaced 0 occurrences.\n",
            "Processed 73975.txt: Replaced 0 occurrences.\n",
            "Processed 73773.txt: Replaced 0 occurrences.\n",
            "Processed 73153.txt: Replaced 0 occurrences.\n",
            "Processed 72423.txt: Replaced 1 occurrences.\n",
            "Processed 73777.txt: Replaced 0 occurrences.\n",
            "Processed 73856.txt: Replaced 0 occurrences.\n",
            "Processed 70031.txt: Replaced 0 occurrences.\n",
            "Processed 73792.txt: Replaced 0 occurrences.\n",
            "Processed 70550.txt: Replaced 0 occurrences.\n",
            "Processed 71279.txt: Replaced 0 occurrences.\n",
            "Processed 70163.txt: Replaced 0 occurrences.\n",
            "Processed 72078.txt: Replaced 1 occurrences.\n",
            "Processed 73662.txt: Replaced 0 occurrences.\n",
            "Processed 71520.txt: Replaced 1 occurrences.\n",
            "Processed 73707.txt: Replaced 0 occurrences.\n",
            "Processed 73834.txt: Replaced 0 occurrences.\n",
            "Processed 73935.txt: Replaced 0 occurrences.\n",
            "Processed 73019.txt: Replaced 1 occurrences.\n",
            "Processed 73943.txt: Replaced 0 occurrences.\n",
            "Processed 71009.txt: Replaced 0 occurrences.\n",
            "Processed 73736.txt: Replaced 0 occurrences.\n",
            "Processed 73784.txt: Replaced 0 occurrences.\n",
            "Processed 74005.txt: Replaced 0 occurrences.\n",
            "Processed 73690.txt: Replaced 0 occurrences.\n",
            "Processed 73046.txt: Replaced 1 occurrences.\n",
            "Processed 71356.txt: Replaced 0 occurrences.\n",
            "Processed 71402.txt: Replaced 1 occurrences.\n",
            "Processed 71543.txt: Replaced 1 occurrences.\n",
            "Processed 73989.txt: Replaced 0 occurrences.\n",
            "Processed 73739.txt: Replaced 0 occurrences.\n",
            "Processed 73880.txt: Replaced 0 occurrences.\n",
            "Processed 73877.txt: Replaced 0 occurrences.\n",
            "Processed 72535.txt: Replaced 0 occurrences.\n",
            "Processed 71963.txt: Replaced 1 occurrences.\n",
            "Processed 73788.txt: Replaced 0 occurrences.\n",
            "Processed 72851.txt: Replaced 0 occurrences.\n",
            "Processed 73022.txt: Replaced 1 occurrences.\n",
            "Processed 70647.txt: Replaced 0 occurrences.\n",
            "Processed 73107.txt: Replaced 0 occurrences.\n",
            "Processed 73845.txt: Replaced 0 occurrences.\n",
            "Processed 73929.txt: Replaced 0 occurrences.\n",
            "Processed 71095.txt: Replaced 0 occurrences.\n",
            "Processed 73748.txt: Replaced 0 occurrences.\n",
            "Processed 73905.txt: Replaced 0 occurrences.\n",
            "Processed 74016.txt: Replaced 0 occurrences.\n",
            "Processed 72101.txt: Replaced 1 occurrences.\n",
            "Processed 70587.txt: Replaced 0 occurrences.\n",
            "Processed 72838.txt: Replaced 0 occurrences.\n",
            "Processed 73998.txt: Replaced 0 occurrences.\n",
            "Processed 73796.txt: Replaced 0 occurrences.\n",
            "Processed 74032.txt: Replaced 0 occurrences.\n",
            "Processed 73716.txt: Replaced 0 occurrences.\n",
            "Processed 73968.txt: Replaced 0 occurrences.\n",
            "Processed 72713.txt: Replaced 0 occurrences.\n",
            "Processed 72871.txt: Replaced 0 occurrences.\n",
            "Processed 72029.txt: Replaced 1 occurrences.\n",
            "Processed 71358.txt: Replaced 0 occurrences.\n",
            "Processed 70524.txt: Replaced 0 occurrences.\n",
            "Processed 72479.txt: Replaced 0 occurrences.\n",
            "Processed 72737.txt: Replaced 0 occurrences.\n",
            "Processed 73806.txt: Replaced 0 occurrences.\n",
            "Processed 74021.txt: Replaced 0 occurrences.\n",
            "Processed 73864.txt: Replaced 0 occurrences.\n",
            "Processed 73888.txt: Replaced 0 occurrences.\n",
            "Processed 72288.txt: Replaced 1 occurrences.\n",
            "Processed 73789.txt: Replaced 0 occurrences.\n",
            "Processed 70088.txt: Replaced 0 occurrences.\n",
            "Processed 72348.txt: Replaced 1 occurrences.\n",
            "Processed 71648.txt: Replaced 1 occurrences.\n",
            "Processed 72341.txt: Replaced 1 occurrences.\n",
            "Processed 70623.txt: Replaced 0 occurrences.\n",
            "Processed 73776.txt: Replaced 0 occurrences.\n",
            "Processed 70608.txt: Replaced 0 occurrences.\n",
            "Processed 74017.txt: Replaced 0 occurrences.\n",
            "Processed 71793.txt: Replaced 0 occurrences.\n",
            "Processed 73817.txt: Replaced 0 occurrences.\n",
            "Processed 72266.txt: Replaced 1 occurrences.\n",
            "Processed 70930.txt: Replaced 0 occurrences.\n",
            "Processed 71813.txt: Replaced 0 occurrences.\n",
            "Processed 72241.txt: Replaced 1 occurrences.\n",
            "Processed 72668.txt: Replaced 0 occurrences.\n",
            "Processed 73823.txt: Replaced 0 occurrences.\n",
            "Processed 73882.txt: Replaced 0 occurrences.\n",
            "Processed 70656.txt: Replaced 0 occurrences.\n",
            "Processed 73916.txt: Replaced 0 occurrences.\n",
            "Processed 73765.txt: Replaced 0 occurrences.\n",
            "Processed 73977.txt: Replaced 0 occurrences.\n",
            "Processed 73995.txt: Replaced 0 occurrences.\n",
            "Processed 72720.txt: Replaced 0 occurrences.\n",
            "Processed 73847.txt: Replaced 0 occurrences.\n",
            "Replacement completed successfully. 665 files processed, 136 total replacements.\n"
          ]
        }
      ]
    },
    {
      "cell_type": "code",
      "source": [
        "import os\n",
        "import cv2\n",
        "import numpy as np\n",
        "\n",
        "def clip_bbox_coordinates(coords):\n",
        "    \"\"\"\n",
        "    Clips the bounding box coordinates to ensure they stay within the [0.0, 1.0] range.\n",
        "\n",
        "    Args:\n",
        "    - coords (list): The list of 8 coordinates (x1, y1, x2, y2, x3, y3, x4, y4)\n",
        "\n",
        "    Returns:\n",
        "    - list: Clipped coordinates\n",
        "    \"\"\"\n",
        "    return [min(max(coord, 0.0), 1.0) for coord in coords]\n",
        "\n",
        "def convert_dota_to_yolo_obb(image_directory, input_label_directory, output_label_directory):\n",
        "    \"\"\"\n",
        "    Converts DOTA dataset annotations to YOLO OBB format.\n",
        "    - Normalizes coordinates based on image dimensions.\n",
        "    - Only 'car', 'bus', and 'truck' are retained.\n",
        "    - 'people' annotations are removed.\n",
        "\n",
        "    Args:\n",
        "    - image_directory (str): Path to image folder.\n",
        "    - input_label_directory (str): Path to original DOTA annotations.\n",
        "    - output_label_directory (str): Path where YOLOv8 annotations will be saved.\n",
        "    \"\"\"\n",
        "\n",
        "    # Class mappings: only car, bus, and truck are retained\n",
        "    class_mapping = {\n",
        "        \"car\": 0,\n",
        "        \"van\": 1,\n",
        "        \"truck\": 2\n",
        "    }\n",
        "\n",
        "    # Ensure output directory exists\n",
        "    os.makedirs(output_label_directory, exist_ok=True)\n",
        "\n",
        "    for label_file in os.listdir(input_label_directory):\n",
        "        if not label_file.endswith(\".txt\"):\n",
        "            continue  # Skip non-text files\n",
        "\n",
        "        input_label_path = os.path.join(input_label_directory, label_file)\n",
        "        output_label_path = os.path.join(output_label_directory, label_file)\n",
        "\n",
        "        # Get the corresponding image filename\n",
        "        image_file = label_file.replace(\".txt\", \".png\")  # Adjust if using .jpg\n",
        "        image_path = os.path.join(image_directory, image_file)\n",
        "\n",
        "        if not os.path.exists(image_path):\n",
        "            print(f\"[ERROR] Image not found: {image_path}. Skipping {label_file}.\")\n",
        "            continue\n",
        "\n",
        "        img = cv2.imread(image_path)\n",
        "        if img is None:\n",
        "            print(f\"[WARNING] Cannot read image: {image_path}. Skipping.\")\n",
        "            continue\n",
        "\n",
        "        image_height, image_width, _ = img.shape\n",
        "\n",
        "        with open(input_label_path, 'r') as f:\n",
        "            lines = f.readlines()\n",
        "\n",
        "        if not lines:\n",
        "            print(f\"[WARNING] No annotations in {input_label_path}. Skipping.\")\n",
        "            continue\n",
        "\n",
        "        with open(output_label_path, 'w') as f_out:\n",
        "            for line in lines:\n",
        "                parts = line.strip().split()\n",
        "\n",
        "                if len(parts) != 10:\n",
        "                    print(f\"[WARNING] Malformed annotation in {input_label_path}: {line}\")\n",
        "                    continue\n",
        "\n",
        "                coords = list(map(float, parts[:8]))  # Extract x1, y1, ..., x8, y8\n",
        "                class_name = parts[8]\n",
        "\n",
        "                if class_name == \"people\":\n",
        "                    continue  # Remove 'people' annotations\n",
        "\n",
        "                if class_name not in class_mapping:\n",
        "                    print(f\"[WARNING] Unknown class '{class_name}' in {input_label_path}. Skipping.\")\n",
        "                    continue\n",
        "\n",
        "                class_id = class_mapping[class_name]\n",
        "\n",
        "                # Normalize coordinates\n",
        "                x1, y1, x2, y2, x3, y3, x4, y4 = coords\n",
        "                x1 /= image_width\n",
        "                y1 /= image_height\n",
        "                x2 /= image_width\n",
        "                y2 /= image_height\n",
        "                x3 /= image_width\n",
        "                y3 /= image_height\n",
        "                x4 /= image_width\n",
        "                y4 /= image_height\n",
        "\n",
        "                # Clip coordinates to ensure they are within [0, 1]\n",
        "                clipped_coords = clip_bbox_coordinates([x1, y1, x2, y2, x3, y3, x4, y4])\n",
        "\n",
        "                # Save YOLO OBB format\n",
        "                f_out.write(f\"{class_id} {' '.join(map(str, clipped_coords))}\\n\")\n",
        "\n",
        "        # Remove empty files\n",
        "        if os.path.getsize(output_label_path) == 0:\n",
        "            os.remove(output_label_path)\n",
        "            print(f\"[WARNING] Removed empty file: {output_label_path}\")\n",
        "\n",
        "    print(\"✅ Conversion completed successfully!\")\n",
        "\n",
        "# Example Usage (Modify Paths as Needed)\n",
        "image_directory = \"/content/dataset/images\"\n",
        "input_label_directory = \"/content/dataset/dota_labels\"\n",
        "output_label_directory = \"/content/dataset/labels\"\n",
        "\n",
        "convert_dota_to_yolo_obb(image_directory, input_label_directory, output_label_directory)\n"
      ],
      "metadata": {
        "colab": {
          "base_uri": "https://localhost:8080/"
        },
        "id": "c2P8AX2-gl3o",
        "outputId": "40320f35-f0af-4148-c201-fd8f1fcf1e62"
      },
      "execution_count": 16,
      "outputs": [
        {
          "output_type": "stream",
          "name": "stdout",
          "text": [
            "✅ Conversion completed successfully!\n"
          ]
        }
      ]
    },
    {
      "cell_type": "code",
      "source": [
        "import os\n",
        "\n",
        "# Define the base directory\n",
        "base_dir = '/content/dataset'\n",
        "\n",
        "# Define the folder names\n",
        "images_dir = os.path.join(base_dir, 'Deep_Seek_images')\n",
        "labels_dir = os.path.join(base_dir, 'Deep_Seek_labels')\n",
        "\n",
        "# Create the directories if they don't exist\n",
        "os.makedirs(images_dir, exist_ok=True)\n",
        "os.makedirs(labels_dir, exist_ok=True)\n",
        "\n",
        "images_dir, labels_dir\n"
      ],
      "metadata": {
        "colab": {
          "base_uri": "https://localhost:8080/"
        },
        "id": "-ZiGfSCGCMjh",
        "outputId": "8e609438-3493-43d9-9ee5-1f71fcaa4815"
      },
      "execution_count": 18,
      "outputs": [
        {
          "output_type": "execute_result",
          "data": {
            "text/plain": [
              "('/content/dataset/Deep_Seek_images', '/content/dataset/Deep_Seek_labels')"
            ]
          },
          "metadata": {},
          "execution_count": 18
        }
      ]
    },
    {
      "cell_type": "code",
      "source": [
        "!pip install imgaug opencv-python-headless imageio"
      ],
      "metadata": {
        "colab": {
          "base_uri": "https://localhost:8080/"
        },
        "id": "Qzm-8506D-Hg",
        "outputId": "e03a7507-3f60-4a34-d481-a66e211a5dbf"
      },
      "execution_count": 19,
      "outputs": [
        {
          "output_type": "stream",
          "name": "stdout",
          "text": [
            "Requirement already satisfied: imgaug in /usr/local/lib/python3.11/dist-packages (0.4.0)\n",
            "Requirement already satisfied: opencv-python-headless in /usr/local/lib/python3.11/dist-packages (4.11.0.86)\n",
            "Requirement already satisfied: imageio in /usr/local/lib/python3.11/dist-packages (2.37.0)\n",
            "Requirement already satisfied: six in /usr/local/lib/python3.11/dist-packages (from imgaug) (1.17.0)\n",
            "Requirement already satisfied: numpy>=1.15 in /usr/local/lib/python3.11/dist-packages (from imgaug) (1.26.4)\n",
            "Requirement already satisfied: scipy in /usr/local/lib/python3.11/dist-packages (from imgaug) (1.14.1)\n",
            "Requirement already satisfied: Pillow in /usr/local/lib/python3.11/dist-packages (from imgaug) (11.1.0)\n",
            "Requirement already satisfied: matplotlib in /usr/local/lib/python3.11/dist-packages (from imgaug) (3.10.0)\n",
            "Requirement already satisfied: scikit-image>=0.14.2 in /usr/local/lib/python3.11/dist-packages (from imgaug) (0.25.2)\n",
            "Requirement already satisfied: opencv-python in /usr/local/lib/python3.11/dist-packages (from imgaug) (4.11.0.86)\n",
            "Requirement already satisfied: Shapely in /usr/local/lib/python3.11/dist-packages (from imgaug) (2.0.7)\n",
            "Requirement already satisfied: networkx>=3.0 in /usr/local/lib/python3.11/dist-packages (from scikit-image>=0.14.2->imgaug) (3.4.2)\n",
            "Requirement already satisfied: tifffile>=2022.8.12 in /usr/local/lib/python3.11/dist-packages (from scikit-image>=0.14.2->imgaug) (2025.2.18)\n",
            "Requirement already satisfied: packaging>=21 in /usr/local/lib/python3.11/dist-packages (from scikit-image>=0.14.2->imgaug) (24.2)\n",
            "Requirement already satisfied: lazy-loader>=0.4 in /usr/local/lib/python3.11/dist-packages (from scikit-image>=0.14.2->imgaug) (0.4)\n",
            "Requirement already satisfied: contourpy>=1.0.1 in /usr/local/lib/python3.11/dist-packages (from matplotlib->imgaug) (1.3.1)\n",
            "Requirement already satisfied: cycler>=0.10 in /usr/local/lib/python3.11/dist-packages (from matplotlib->imgaug) (0.12.1)\n",
            "Requirement already satisfied: fonttools>=4.22.0 in /usr/local/lib/python3.11/dist-packages (from matplotlib->imgaug) (4.56.0)\n",
            "Requirement already satisfied: kiwisolver>=1.3.1 in /usr/local/lib/python3.11/dist-packages (from matplotlib->imgaug) (1.4.8)\n",
            "Requirement already satisfied: pyparsing>=2.3.1 in /usr/local/lib/python3.11/dist-packages (from matplotlib->imgaug) (3.2.1)\n",
            "Requirement already satisfied: python-dateutil>=2.7 in /usr/local/lib/python3.11/dist-packages (from matplotlib->imgaug) (2.8.2)\n"
          ]
        }
      ]
    },
    {
      "cell_type": "code",
      "source": [
        "import imgaug as ia\n",
        "from imgaug import augmenters as iaa\n",
        "import imageio\n",
        "import numpy as np\n",
        "import os\n",
        "import cv2\n",
        "\n",
        "def calculate_polygon_area(polygon):\n",
        "    x = polygon[::2]\n",
        "    y = polygon[1::2]\n",
        "    area = 0.0\n",
        "    for i in range(4):\n",
        "        x1, y1 = x[i], y[i]\n",
        "        x2, y2 = x[(i+1)%4], y[(i+1)%4]\n",
        "        area += (x1 * y2 - x2 * y1)\n",
        "    return abs(area) / 2.0\n",
        "\n",
        "def augment_dataset(input_images_dir, input_labels_dir, output_images_dir, output_labels_dir, num_augmentations=3):\n",
        "    os.makedirs(output_images_dir, exist_ok=True)\n",
        "    os.makedirs(output_labels_dir, exist_ok=True)\n",
        "\n",
        "    # Define augmentation sequence\n",
        "    seq = iaa.Sequential([\n",
        "        iaa.Fliplr(0.5),  # Horizontal flip\n",
        "        iaa.Flipud(0.5),  # Vertical flip\n",
        "        iaa.Affine(\n",
        "            rotate=(-45, 45),  # Rotation\n",
        "            translate_percent=(-0.1, 0.1),  # Translation\n",
        "            scale=(0.8, 1.2)  # Scaling\n",
        "        ),\n",
        "        iaa.LinearContrast((0.8, 1.2)),  # Contrast adjustment\n",
        "    ])\n",
        "\n",
        "    image_files = [f for f in os.listdir(input_images_dir) if f.lower().endswith(('.png', '.jpg', '.jpeg'))]\n",
        "\n",
        "    for image_file in image_files:\n",
        "        image_path = os.path.join(input_images_dir, image_file)\n",
        "        image = imageio.v2.imread(image_path)  # Use imageio.v2 to avoid deprecation warning\n",
        "        original_height, original_width = image.shape[:2]\n",
        "\n",
        "        label_path = os.path.join(input_labels_dir, os.path.splitext(image_file)[0] + '.txt')\n",
        "        if not os.path.exists(label_path):\n",
        "            continue\n",
        "\n",
        "        with open(label_path, 'r') as f:\n",
        "            lines = f.readlines()\n",
        "\n",
        "        polygons = []\n",
        "        classes = []\n",
        "        for line in lines:\n",
        "            parts = line.strip().split()\n",
        "            cls = int(parts[0])\n",
        "            coords = list(map(float, parts[1:]))\n",
        "            # Convert normalized to absolute coordinates\n",
        "            abs_coords = []\n",
        "            for i in range(0, 8, 2):\n",
        "                x = coords[i] * original_width\n",
        "                y = coords[i+1] * original_height\n",
        "                abs_coords.append((x, y))\n",
        "            polygons.append(ia.KeypointsOnImage([ia.Keypoint(x=x, y=y) for x, y in abs_coords], shape=image.shape))\n",
        "            classes.append(cls)\n",
        "\n",
        "        # Generate augmented versions (original + num_augmentations)\n",
        "        for aug_idx in range(num_augmentations + 1):\n",
        "            if aug_idx == 0:\n",
        "                # Original image and labels\n",
        "                image_aug = image\n",
        "                new_height, new_width = original_height, original_width\n",
        "                polygons_aug = [polygon.keypoints for polygon in polygons]\n",
        "            else:\n",
        "                # Apply augmentations\n",
        "                seq_det = seq.to_deterministic()\n",
        "                image_aug = seq_det.augment_image(image)\n",
        "                new_height, new_width = image_aug.shape[:2]\n",
        "                polygons_aug = []\n",
        "                for polygon in polygons:\n",
        "                    polygon_aug = seq_det.augment_keypoints(polygon)\n",
        "                    polygons_aug.append(polygon_aug.keypoints)\n",
        "\n",
        "            valid_polygons = []\n",
        "            valid_classes = []\n",
        "            for poly_coords, cls in zip(polygons_aug, classes):\n",
        "                normalized_coords = []\n",
        "                for keypoint in poly_coords:\n",
        "                    x_norm = keypoint.x / new_width\n",
        "                    y_norm = keypoint.y / new_height\n",
        "                    x_norm = np.clip(x_norm, 0.0, 1.0)\n",
        "                    y_norm = np.clip(y_norm, 0.0, 1.0)\n",
        "                    normalized_coords.extend([x_norm, y_norm])\n",
        "\n",
        "                # Check polygon validity\n",
        "                area = calculate_polygon_area(normalized_coords)\n",
        "                if area >= 1e-6:  # Skip invalid polygons\n",
        "                    valid_polygons.append(normalized_coords)\n",
        "                    valid_classes.append(cls)\n",
        "\n",
        "            if not valid_polygons:\n",
        "                continue  # Skip saving if no valid polygons\n",
        "\n",
        "            # Save augmented image\n",
        "            aug_image_filename = f\"{os.path.splitext(image_file)[0]}_aug{aug_idx}.jpg\"\n",
        "            aug_image_path = os.path.join(output_images_dir, aug_image_filename)\n",
        "            cv2.imwrite(aug_image_path, cv2.cvtColor(image_aug, cv2.COLOR_RGB2BGR))\n",
        "\n",
        "            # Save augmented label\n",
        "            aug_label_filename = f\"{os.path.splitext(image_file)[0]}_aug{aug_idx}.txt\"\n",
        "            aug_label_path = os.path.join(output_labels_dir, aug_label_filename)\n",
        "            with open(aug_label_path, 'w') as f:\n",
        "                for cls, poly in zip(valid_classes, valid_polygons):\n",
        "                    line = f\"{cls} \" + \" \".join([f\"{coord:.6f}\" for coord in poly]) + \"\\n\"\n",
        "                    f.write(line)\n",
        "\n",
        "# Run the function\n",
        "augment_dataset(\n",
        "    input_images_dir='/content/dataset/images',\n",
        "    input_labels_dir='/content/dataset/labels',\n",
        "    output_images_dir='/content/dataset/Deep_Seek_images',\n",
        "    output_labels_dir='/content/dataset/Deep_Seek_labels',\n",
        "    num_augmentations=3\n",
        ")"
      ],
      "metadata": {
        "id": "GF6AdFIV7jPE"
      },
      "execution_count": 20,
      "outputs": []
    },
    {
      "cell_type": "code",
      "source": [
        "import os\n",
        "import shutil\n",
        "\n",
        "# Define the paths\n",
        "dataset_path = \"/content/dataset\"\n",
        "old_images_folder = os.path.join(dataset_path, \"images\")\n",
        "old_labels_folder = os.path.join(dataset_path, \"labels\")\n",
        "new_images_folder = os.path.join(dataset_path, \"Deep_Seek_images\")\n",
        "new_labels_folder = os.path.join(dataset_path, \"Deep_Seek_labels\")\n",
        "\n",
        "# Delete old folders\n",
        "if os.path.exists(old_images_folder):\n",
        "    shutil.rmtree(old_images_folder)\n",
        "\n",
        "if os.path.exists(old_labels_folder):\n",
        "    shutil.rmtree(old_labels_folder)\n",
        "\n",
        "# Rename the new folders\n",
        "if os.path.exists(new_images_folder):\n",
        "    os.rename(new_images_folder, old_images_folder)\n",
        "\n",
        "if os.path.exists(new_labels_folder):\n",
        "    os.rename(new_labels_folder, old_labels_folder)\n",
        "\n",
        "print(\"Folders deleted and renamed successfully!\")\n"
      ],
      "metadata": {
        "colab": {
          "base_uri": "https://localhost:8080/"
        },
        "id": "LQP6OMBLIVkI",
        "outputId": "4272297f-e999-43c5-81c5-4d8f3211a572"
      },
      "execution_count": 21,
      "outputs": [
        {
          "output_type": "stream",
          "name": "stdout",
          "text": [
            "Folders deleted and renamed successfully!\n"
          ]
        }
      ]
    },
    {
      "cell_type": "code",
      "source": [
        "import os\n",
        "\n",
        "# Define the paths\n",
        "images_dir = \"/content/dataset/images\"\n",
        "labels_dir = \"/content/dataset/labels\"\n",
        "\n",
        "# Get all image files\n",
        "image_files = sorted([f for f in os.listdir(images_dir) if f.endswith(('.png', '.jpg', '.jpeg'))])\n",
        "\n",
        "# Rename images and labels starting from 0000\n",
        "for idx, image_file in enumerate(image_files):\n",
        "    # Construct new file names\n",
        "    new_image_name = f\"{idx:04d}.png\"  # Change extension if needed\n",
        "    image_path = os.path.join(images_dir, image_file)\n",
        "    new_image_path = os.path.join(images_dir, new_image_name)\n",
        "\n",
        "    # Rename the image\n",
        "    os.rename(image_path, new_image_path)\n",
        "\n",
        "    # Rename the corresponding label file\n",
        "    label_file = image_file.replace(image_file.split('.')[-1], \"txt\")  # Assuming the labels are in .txt format\n",
        "    label_path = os.path.join(labels_dir, label_file)\n",
        "    new_label_path = os.path.join(labels_dir, new_image_name.replace(\".png\", \".txt\"))\n",
        "\n",
        "    if os.path.exists(label_path):\n",
        "        os.rename(label_path, new_label_path)\n",
        "\n",
        "print(\"Renaming complete.\")\n"
      ],
      "metadata": {
        "colab": {
          "base_uri": "https://localhost:8080/"
        },
        "id": "ioBF0N4wIaxw",
        "outputId": "4ddd7e09-ebae-4d0a-ebeb-33b3008824d5"
      },
      "execution_count": 22,
      "outputs": [
        {
          "output_type": "stream",
          "name": "stdout",
          "text": [
            "Renaming complete.\n"
          ]
        }
      ]
    },
    {
      "cell_type": "code",
      "source": [
        "import os\n",
        "\n",
        "# Define the directories\n",
        "images_dir = \"/content/dataset/images\"\n",
        "labels_dir = \"/content/dataset/labels\"\n",
        "\n",
        "# Define the subfolders to create\n",
        "subfolders = ['train', 'test', 'val']\n",
        "\n",
        "# Create the subfolders inside both images and labels directories\n",
        "for folder in subfolders:\n",
        "    os.makedirs(os.path.join(images_dir, folder), exist_ok=True)\n",
        "    os.makedirs(os.path.join(labels_dir, folder), exist_ok=True)\n",
        "\n",
        "print(\"Folders 'train', 'test', and 'val' created inside 'images' and 'labels' directories.\")\n"
      ],
      "metadata": {
        "colab": {
          "base_uri": "https://localhost:8080/"
        },
        "id": "xotCslfeI3CQ",
        "outputId": "15f610b2-cdc4-4b46-f74a-2bb589c226f5"
      },
      "execution_count": 23,
      "outputs": [
        {
          "output_type": "stream",
          "name": "stdout",
          "text": [
            "Folders 'train', 'test', and 'val' created inside 'images' and 'labels' directories.\n"
          ]
        }
      ]
    },
    {
      "cell_type": "code",
      "source": [
        "import os\n",
        "import random\n",
        "import shutil\n",
        "\n",
        "# Define the directories\n",
        "images_dir = \"/content/dataset/images\"\n",
        "labels_dir = \"/content/dataset/labels\"\n",
        "train_dir = \"/content/dataset/images/train\"\n",
        "test_dir = \"/content/dataset/images/test\"\n",
        "val_dir = \"/content/dataset/images/val\"\n",
        "\n",
        "# Get all the image and label files\n",
        "image_files = [f for f in os.listdir(images_dir) if f.endswith(\".png\")]  # Adjust file type if necessary\n",
        "label_files = [f.replace(\".png\", \".txt\") for f in image_files]  # Assuming label files are in .txt format\n",
        "\n",
        "# Shuffle the image files to randomize the split\n",
        "random.seed(42)\n",
        "random.shuffle(image_files)\n",
        "\n",
        "# Split the data (80% train, 10% test, 10% validation)\n",
        "train_size = int(0.8 * len(image_files))\n",
        "test_size = int(0.1 * len(image_files))\n",
        "val_size = len(image_files) - train_size - test_size\n",
        "\n",
        "train_files = image_files[:train_size]\n",
        "test_files = image_files[train_size:train_size + test_size]\n",
        "val_files = image_files[train_size + test_size:]\n",
        "\n",
        "# Move the files into the respective directories\n",
        "def move_files(files, src_image_dir, src_label_dir, dest_image_dir, dest_label_dir):\n",
        "    for file in files:\n",
        "        image_path = os.path.join(src_image_dir, file)\n",
        "        label_path = os.path.join(src_label_dir, file.replace(\".png\", \".txt\"))  # Assuming .txt extension for labels\n",
        "\n",
        "        # Move image\n",
        "        shutil.move(image_path, os.path.join(dest_image_dir, file))\n",
        "\n",
        "        # Move corresponding label\n",
        "        shutil.move(label_path, os.path.join(dest_label_dir, file.replace(\".png\", \".txt\")))\n",
        "\n",
        "# Move the files into train, test, and val directories\n",
        "move_files(train_files, images_dir, labels_dir, train_dir, \"/content/dataset/labels/train\")\n",
        "move_files(test_files, images_dir, labels_dir, test_dir, \"/content/dataset/labels/test\")\n",
        "move_files(val_files, images_dir, labels_dir, val_dir, \"/content/dataset/labels/val\")\n",
        "\n",
        "print(\"Data split into 'train', 'test', and 'val' directories.\")\n"
      ],
      "metadata": {
        "colab": {
          "base_uri": "https://localhost:8080/"
        },
        "id": "Si77DewCJFyy",
        "outputId": "055bf29e-8f26-4167-8a88-ea588e970030"
      },
      "execution_count": 24,
      "outputs": [
        {
          "output_type": "stream",
          "name": "stdout",
          "text": [
            "Data split into 'train', 'test', and 'val' directories.\n"
          ]
        }
      ]
    },
    {
      "cell_type": "code",
      "source": [
        "import yaml\n",
        "\n",
        "# Define the class labels\n",
        "class_labels = {\n",
        "    0: \"Car\",\n",
        "    1: \"Bus\",\n",
        "    2: \"Truck\"\n",
        "}\n",
        "\n",
        "# Define the dataset YAML content\n",
        "dataset_yaml = {\n",
        "    'train': '/content/dataset/images/train',  # Path to training images\n",
        "    'val': '/content/dataset/images/val',      # Path to validation images\n",
        "    'test': '/content/dataset/images/test',    # Path to test images\n",
        "    'nc': len(class_labels),                  # Number of classes\n",
        "    'names': list(class_labels.values())      # List of class names\n",
        "}\n",
        "\n",
        "# Define the path for the dataset.yaml file\n",
        "yaml_path = '/content/dataset/dataset.yaml'\n",
        "\n",
        "# Write the dataset YAML to the file\n",
        "with open(yaml_path, 'w') as file:\n",
        "    yaml.dump(dataset_yaml, file)\n",
        "\n",
        "print(f\"Dataset YAML file created at {yaml_path}\")\n"
      ],
      "metadata": {
        "colab": {
          "base_uri": "https://localhost:8080/"
        },
        "id": "VRePGIv5JaCQ",
        "outputId": "4491ea79-ec2a-42a3-f679-1a8b479f312d"
      },
      "execution_count": 26,
      "outputs": [
        {
          "output_type": "stream",
          "name": "stdout",
          "text": [
            "Dataset YAML file created at /content/dataset/dataset.yaml\n"
          ]
        }
      ]
    },
    {
      "cell_type": "code",
      "source": [
        "# Install the ultralytics package\n",
        "!pip install ultralytics\n"
      ],
      "metadata": {
        "colab": {
          "base_uri": "https://localhost:8080/"
        },
        "id": "Y_4dXghgM8oj",
        "outputId": "6f2c8177-836e-4675-a82d-bc8f4525ca4f"
      },
      "execution_count": 27,
      "outputs": [
        {
          "output_type": "stream",
          "name": "stdout",
          "text": [
            "Collecting ultralytics\n",
            "  Downloading ultralytics-8.3.90-py3-none-any.whl.metadata (35 kB)\n",
            "Requirement already satisfied: numpy<=2.1.1,>=1.23.0 in /usr/local/lib/python3.11/dist-packages (from ultralytics) (1.26.4)\n",
            "Requirement already satisfied: matplotlib>=3.3.0 in /usr/local/lib/python3.11/dist-packages (from ultralytics) (3.10.0)\n",
            "Requirement already satisfied: opencv-python>=4.6.0 in /usr/local/lib/python3.11/dist-packages (from ultralytics) (4.11.0.86)\n",
            "Requirement already satisfied: pillow>=7.1.2 in /usr/local/lib/python3.11/dist-packages (from ultralytics) (11.1.0)\n",
            "Requirement already satisfied: pyyaml>=5.3.1 in /usr/local/lib/python3.11/dist-packages (from ultralytics) (6.0.2)\n",
            "Requirement already satisfied: requests>=2.23.0 in /usr/local/lib/python3.11/dist-packages (from ultralytics) (2.32.3)\n",
            "Requirement already satisfied: scipy>=1.4.1 in /usr/local/lib/python3.11/dist-packages (from ultralytics) (1.14.1)\n",
            "Requirement already satisfied: torch>=1.8.0 in /usr/local/lib/python3.11/dist-packages (from ultralytics) (2.5.1+cu124)\n",
            "Requirement already satisfied: torchvision>=0.9.0 in /usr/local/lib/python3.11/dist-packages (from ultralytics) (0.20.1+cu124)\n",
            "Requirement already satisfied: tqdm>=4.64.0 in /usr/local/lib/python3.11/dist-packages (from ultralytics) (4.67.1)\n",
            "Requirement already satisfied: psutil in /usr/local/lib/python3.11/dist-packages (from ultralytics) (5.9.5)\n",
            "Requirement already satisfied: py-cpuinfo in /usr/local/lib/python3.11/dist-packages (from ultralytics) (9.0.0)\n",
            "Requirement already satisfied: pandas>=1.1.4 in /usr/local/lib/python3.11/dist-packages (from ultralytics) (2.2.2)\n",
            "Requirement already satisfied: seaborn>=0.11.0 in /usr/local/lib/python3.11/dist-packages (from ultralytics) (0.13.2)\n",
            "Collecting ultralytics-thop>=2.0.0 (from ultralytics)\n",
            "  Downloading ultralytics_thop-2.0.14-py3-none-any.whl.metadata (9.4 kB)\n",
            "Requirement already satisfied: contourpy>=1.0.1 in /usr/local/lib/python3.11/dist-packages (from matplotlib>=3.3.0->ultralytics) (1.3.1)\n",
            "Requirement already satisfied: cycler>=0.10 in /usr/local/lib/python3.11/dist-packages (from matplotlib>=3.3.0->ultralytics) (0.12.1)\n",
            "Requirement already satisfied: fonttools>=4.22.0 in /usr/local/lib/python3.11/dist-packages (from matplotlib>=3.3.0->ultralytics) (4.56.0)\n",
            "Requirement already satisfied: kiwisolver>=1.3.1 in /usr/local/lib/python3.11/dist-packages (from matplotlib>=3.3.0->ultralytics) (1.4.8)\n",
            "Requirement already satisfied: packaging>=20.0 in /usr/local/lib/python3.11/dist-packages (from matplotlib>=3.3.0->ultralytics) (24.2)\n",
            "Requirement already satisfied: pyparsing>=2.3.1 in /usr/local/lib/python3.11/dist-packages (from matplotlib>=3.3.0->ultralytics) (3.2.1)\n",
            "Requirement already satisfied: python-dateutil>=2.7 in /usr/local/lib/python3.11/dist-packages (from matplotlib>=3.3.0->ultralytics) (2.8.2)\n",
            "Requirement already satisfied: pytz>=2020.1 in /usr/local/lib/python3.11/dist-packages (from pandas>=1.1.4->ultralytics) (2025.1)\n",
            "Requirement already satisfied: tzdata>=2022.7 in /usr/local/lib/python3.11/dist-packages (from pandas>=1.1.4->ultralytics) (2025.1)\n",
            "Requirement already satisfied: charset-normalizer<4,>=2 in /usr/local/lib/python3.11/dist-packages (from requests>=2.23.0->ultralytics) (3.4.1)\n",
            "Requirement already satisfied: idna<4,>=2.5 in /usr/local/lib/python3.11/dist-packages (from requests>=2.23.0->ultralytics) (3.10)\n",
            "Requirement already satisfied: urllib3<3,>=1.21.1 in /usr/local/lib/python3.11/dist-packages (from requests>=2.23.0->ultralytics) (2.3.0)\n",
            "Requirement already satisfied: certifi>=2017.4.17 in /usr/local/lib/python3.11/dist-packages (from requests>=2.23.0->ultralytics) (2025.1.31)\n",
            "Requirement already satisfied: filelock in /usr/local/lib/python3.11/dist-packages (from torch>=1.8.0->ultralytics) (3.17.0)\n",
            "Requirement already satisfied: typing-extensions>=4.8.0 in /usr/local/lib/python3.11/dist-packages (from torch>=1.8.0->ultralytics) (4.12.2)\n",
            "Requirement already satisfied: networkx in /usr/local/lib/python3.11/dist-packages (from torch>=1.8.0->ultralytics) (3.4.2)\n",
            "Requirement already satisfied: jinja2 in /usr/local/lib/python3.11/dist-packages (from torch>=1.8.0->ultralytics) (3.1.6)\n",
            "Requirement already satisfied: fsspec in /usr/local/lib/python3.11/dist-packages (from torch>=1.8.0->ultralytics) (2024.10.0)\n",
            "Collecting nvidia-cuda-nvrtc-cu12==12.4.127 (from torch>=1.8.0->ultralytics)\n",
            "  Downloading nvidia_cuda_nvrtc_cu12-12.4.127-py3-none-manylinux2014_x86_64.whl.metadata (1.5 kB)\n",
            "Collecting nvidia-cuda-runtime-cu12==12.4.127 (from torch>=1.8.0->ultralytics)\n",
            "  Downloading nvidia_cuda_runtime_cu12-12.4.127-py3-none-manylinux2014_x86_64.whl.metadata (1.5 kB)\n",
            "Collecting nvidia-cuda-cupti-cu12==12.4.127 (from torch>=1.8.0->ultralytics)\n",
            "  Downloading nvidia_cuda_cupti_cu12-12.4.127-py3-none-manylinux2014_x86_64.whl.metadata (1.6 kB)\n",
            "Collecting nvidia-cudnn-cu12==9.1.0.70 (from torch>=1.8.0->ultralytics)\n",
            "  Downloading nvidia_cudnn_cu12-9.1.0.70-py3-none-manylinux2014_x86_64.whl.metadata (1.6 kB)\n",
            "Collecting nvidia-cublas-cu12==12.4.5.8 (from torch>=1.8.0->ultralytics)\n",
            "  Downloading nvidia_cublas_cu12-12.4.5.8-py3-none-manylinux2014_x86_64.whl.metadata (1.5 kB)\n",
            "Collecting nvidia-cufft-cu12==11.2.1.3 (from torch>=1.8.0->ultralytics)\n",
            "  Downloading nvidia_cufft_cu12-11.2.1.3-py3-none-manylinux2014_x86_64.whl.metadata (1.5 kB)\n",
            "Collecting nvidia-curand-cu12==10.3.5.147 (from torch>=1.8.0->ultralytics)\n",
            "  Downloading nvidia_curand_cu12-10.3.5.147-py3-none-manylinux2014_x86_64.whl.metadata (1.5 kB)\n",
            "Collecting nvidia-cusolver-cu12==11.6.1.9 (from torch>=1.8.0->ultralytics)\n",
            "  Downloading nvidia_cusolver_cu12-11.6.1.9-py3-none-manylinux2014_x86_64.whl.metadata (1.6 kB)\n",
            "Collecting nvidia-cusparse-cu12==12.3.1.170 (from torch>=1.8.0->ultralytics)\n",
            "  Downloading nvidia_cusparse_cu12-12.3.1.170-py3-none-manylinux2014_x86_64.whl.metadata (1.6 kB)\n",
            "Requirement already satisfied: nvidia-nccl-cu12==2.21.5 in /usr/local/lib/python3.11/dist-packages (from torch>=1.8.0->ultralytics) (2.21.5)\n",
            "Requirement already satisfied: nvidia-nvtx-cu12==12.4.127 in /usr/local/lib/python3.11/dist-packages (from torch>=1.8.0->ultralytics) (12.4.127)\n",
            "Collecting nvidia-nvjitlink-cu12==12.4.127 (from torch>=1.8.0->ultralytics)\n",
            "  Downloading nvidia_nvjitlink_cu12-12.4.127-py3-none-manylinux2014_x86_64.whl.metadata (1.5 kB)\n",
            "Requirement already satisfied: triton==3.1.0 in /usr/local/lib/python3.11/dist-packages (from torch>=1.8.0->ultralytics) (3.1.0)\n",
            "Requirement already satisfied: sympy==1.13.1 in /usr/local/lib/python3.11/dist-packages (from torch>=1.8.0->ultralytics) (1.13.1)\n",
            "Requirement already satisfied: mpmath<1.4,>=1.1.0 in /usr/local/lib/python3.11/dist-packages (from sympy==1.13.1->torch>=1.8.0->ultralytics) (1.3.0)\n",
            "Requirement already satisfied: six>=1.5 in /usr/local/lib/python3.11/dist-packages (from python-dateutil>=2.7->matplotlib>=3.3.0->ultralytics) (1.17.0)\n",
            "Requirement already satisfied: MarkupSafe>=2.0 in /usr/local/lib/python3.11/dist-packages (from jinja2->torch>=1.8.0->ultralytics) (3.0.2)\n",
            "Downloading ultralytics-8.3.90-py3-none-any.whl (949 kB)\n",
            "\u001b[2K   \u001b[90m━━━━━━━━━━━━━━━━━━━━━━━━━━━━━━━━━━━━━━━━\u001b[0m \u001b[32m949.1/949.1 kB\u001b[0m \u001b[31m23.7 MB/s\u001b[0m eta \u001b[36m0:00:00\u001b[0m\n",
            "\u001b[?25hDownloading nvidia_cublas_cu12-12.4.5.8-py3-none-manylinux2014_x86_64.whl (363.4 MB)\n",
            "\u001b[2K   \u001b[90m━━━━━━━━━━━━━━━━━━━━━━━━━━━━━━━━━━━━━━━━\u001b[0m \u001b[32m363.4/363.4 MB\u001b[0m \u001b[31m4.0 MB/s\u001b[0m eta \u001b[36m0:00:00\u001b[0m\n",
            "\u001b[?25hDownloading nvidia_cuda_cupti_cu12-12.4.127-py3-none-manylinux2014_x86_64.whl (13.8 MB)\n",
            "\u001b[2K   \u001b[90m━━━━━━━━━━━━━━━━━━━━━━━━━━━━━━━━━━━━━━━━\u001b[0m \u001b[32m13.8/13.8 MB\u001b[0m \u001b[31m73.9 MB/s\u001b[0m eta \u001b[36m0:00:00\u001b[0m\n",
            "\u001b[?25hDownloading nvidia_cuda_nvrtc_cu12-12.4.127-py3-none-manylinux2014_x86_64.whl (24.6 MB)\n",
            "\u001b[2K   \u001b[90m━━━━━━━━━━━━━━━━━━━━━━━━━━━━━━━━━━━━━━━━\u001b[0m \u001b[32m24.6/24.6 MB\u001b[0m \u001b[31m62.3 MB/s\u001b[0m eta \u001b[36m0:00:00\u001b[0m\n",
            "\u001b[?25hDownloading nvidia_cuda_runtime_cu12-12.4.127-py3-none-manylinux2014_x86_64.whl (883 kB)\n",
            "\u001b[2K   \u001b[90m━━━━━━━━━━━━━━━━━━━━━━━━━━━━━━━━━━━━━━━━\u001b[0m \u001b[32m883.7/883.7 kB\u001b[0m \u001b[31m52.0 MB/s\u001b[0m eta \u001b[36m0:00:00\u001b[0m\n",
            "\u001b[?25hDownloading nvidia_cudnn_cu12-9.1.0.70-py3-none-manylinux2014_x86_64.whl (664.8 MB)\n",
            "\u001b[2K   \u001b[90m━━━━━━━━━━━━━━━━━━━━━━━━━━━━━━━━━━━━━━━━\u001b[0m \u001b[32m664.8/664.8 MB\u001b[0m \u001b[31m2.1 MB/s\u001b[0m eta \u001b[36m0:00:00\u001b[0m\n",
            "\u001b[?25hDownloading nvidia_cufft_cu12-11.2.1.3-py3-none-manylinux2014_x86_64.whl (211.5 MB)\n",
            "\u001b[2K   \u001b[90m━━━━━━━━━━━━━━━━━━━━━━━━━━━━━━━━━━━━━━━━\u001b[0m \u001b[32m211.5/211.5 MB\u001b[0m \u001b[31m6.9 MB/s\u001b[0m eta \u001b[36m0:00:00\u001b[0m\n",
            "\u001b[?25hDownloading nvidia_curand_cu12-10.3.5.147-py3-none-manylinux2014_x86_64.whl (56.3 MB)\n",
            "\u001b[2K   \u001b[90m━━━━━━━━━━━━━━━━━━━━━━━━━━━━━━━━━━━━━━━━\u001b[0m \u001b[32m56.3/56.3 MB\u001b[0m \u001b[31m13.6 MB/s\u001b[0m eta \u001b[36m0:00:00\u001b[0m\n",
            "\u001b[?25hDownloading nvidia_cusolver_cu12-11.6.1.9-py3-none-manylinux2014_x86_64.whl (127.9 MB)\n",
            "\u001b[2K   \u001b[90m━━━━━━━━━━━━━━━━━━━━━━━━━━━━━━━━━━━━━━━━\u001b[0m \u001b[32m127.9/127.9 MB\u001b[0m \u001b[31m8.7 MB/s\u001b[0m eta \u001b[36m0:00:00\u001b[0m\n",
            "\u001b[?25hDownloading nvidia_cusparse_cu12-12.3.1.170-py3-none-manylinux2014_x86_64.whl (207.5 MB)\n",
            "\u001b[2K   \u001b[90m━━━━━━━━━━━━━━━━━━━━━━━━━━━━━━━━━━━━━━━━\u001b[0m \u001b[32m207.5/207.5 MB\u001b[0m \u001b[31m6.0 MB/s\u001b[0m eta \u001b[36m0:00:00\u001b[0m\n",
            "\u001b[?25hDownloading nvidia_nvjitlink_cu12-12.4.127-py3-none-manylinux2014_x86_64.whl (21.1 MB)\n",
            "\u001b[2K   \u001b[90m━━━━━━━━━━━━━━━━━━━━━━━━━━━━━━━━━━━━━━━━\u001b[0m \u001b[32m21.1/21.1 MB\u001b[0m \u001b[31m102.4 MB/s\u001b[0m eta \u001b[36m0:00:00\u001b[0m\n",
            "\u001b[?25hDownloading ultralytics_thop-2.0.14-py3-none-any.whl (26 kB)\n",
            "Installing collected packages: nvidia-nvjitlink-cu12, nvidia-curand-cu12, nvidia-cufft-cu12, nvidia-cuda-runtime-cu12, nvidia-cuda-nvrtc-cu12, nvidia-cuda-cupti-cu12, nvidia-cublas-cu12, nvidia-cusparse-cu12, nvidia-cudnn-cu12, nvidia-cusolver-cu12, ultralytics-thop, ultralytics\n",
            "  Attempting uninstall: nvidia-nvjitlink-cu12\n",
            "    Found existing installation: nvidia-nvjitlink-cu12 12.5.82\n",
            "    Uninstalling nvidia-nvjitlink-cu12-12.5.82:\n",
            "      Successfully uninstalled nvidia-nvjitlink-cu12-12.5.82\n",
            "  Attempting uninstall: nvidia-curand-cu12\n",
            "    Found existing installation: nvidia-curand-cu12 10.3.6.82\n",
            "    Uninstalling nvidia-curand-cu12-10.3.6.82:\n",
            "      Successfully uninstalled nvidia-curand-cu12-10.3.6.82\n",
            "  Attempting uninstall: nvidia-cufft-cu12\n",
            "    Found existing installation: nvidia-cufft-cu12 11.2.3.61\n",
            "    Uninstalling nvidia-cufft-cu12-11.2.3.61:\n",
            "      Successfully uninstalled nvidia-cufft-cu12-11.2.3.61\n",
            "  Attempting uninstall: nvidia-cuda-runtime-cu12\n",
            "    Found existing installation: nvidia-cuda-runtime-cu12 12.5.82\n",
            "    Uninstalling nvidia-cuda-runtime-cu12-12.5.82:\n",
            "      Successfully uninstalled nvidia-cuda-runtime-cu12-12.5.82\n",
            "  Attempting uninstall: nvidia-cuda-nvrtc-cu12\n",
            "    Found existing installation: nvidia-cuda-nvrtc-cu12 12.5.82\n",
            "    Uninstalling nvidia-cuda-nvrtc-cu12-12.5.82:\n",
            "      Successfully uninstalled nvidia-cuda-nvrtc-cu12-12.5.82\n",
            "  Attempting uninstall: nvidia-cuda-cupti-cu12\n",
            "    Found existing installation: nvidia-cuda-cupti-cu12 12.5.82\n",
            "    Uninstalling nvidia-cuda-cupti-cu12-12.5.82:\n",
            "      Successfully uninstalled nvidia-cuda-cupti-cu12-12.5.82\n",
            "  Attempting uninstall: nvidia-cublas-cu12\n",
            "    Found existing installation: nvidia-cublas-cu12 12.5.3.2\n",
            "    Uninstalling nvidia-cublas-cu12-12.5.3.2:\n",
            "      Successfully uninstalled nvidia-cublas-cu12-12.5.3.2\n",
            "  Attempting uninstall: nvidia-cusparse-cu12\n",
            "    Found existing installation: nvidia-cusparse-cu12 12.5.1.3\n",
            "    Uninstalling nvidia-cusparse-cu12-12.5.1.3:\n",
            "      Successfully uninstalled nvidia-cusparse-cu12-12.5.1.3\n",
            "  Attempting uninstall: nvidia-cudnn-cu12\n",
            "    Found existing installation: nvidia-cudnn-cu12 9.3.0.75\n",
            "    Uninstalling nvidia-cudnn-cu12-9.3.0.75:\n",
            "      Successfully uninstalled nvidia-cudnn-cu12-9.3.0.75\n",
            "  Attempting uninstall: nvidia-cusolver-cu12\n",
            "    Found existing installation: nvidia-cusolver-cu12 11.6.3.83\n",
            "    Uninstalling nvidia-cusolver-cu12-11.6.3.83:\n",
            "      Successfully uninstalled nvidia-cusolver-cu12-11.6.3.83\n",
            "Successfully installed nvidia-cublas-cu12-12.4.5.8 nvidia-cuda-cupti-cu12-12.4.127 nvidia-cuda-nvrtc-cu12-12.4.127 nvidia-cuda-runtime-cu12-12.4.127 nvidia-cudnn-cu12-9.1.0.70 nvidia-cufft-cu12-11.2.1.3 nvidia-curand-cu12-10.3.5.147 nvidia-cusolver-cu12-11.6.1.9 nvidia-cusparse-cu12-12.3.1.170 nvidia-nvjitlink-cu12-12.4.127 ultralytics-8.3.90 ultralytics-thop-2.0.14\n"
          ]
        }
      ]
    },
    {
      "cell_type": "code",
      "source": [
        "from google.colab import drive\n",
        "from ultralytics import YOLO\n",
        "\n",
        "# Mount Google Drive\n",
        "drive.mount('/content/drive')\n",
        "\n",
        "# Define the path where you want to save the training results on Google Drive\n",
        "save_path = '/content/drive/MyDrive/yolov8_training_results/'\n",
        "\n",
        "# Load the YOLOv8 model with OBB configuration\n",
        "model = YOLO('yolov8n-obb.yaml')  # Use the YOLOv8 Nano with OBB configuration\n",
        "\n",
        "# Train the model\n",
        "model.train(\n",
        "    data='/content/dataset/dataset.yaml',  # Path to your dataset YAML file\n",
        "    epochs=80,\n",
        "    batch=25,\n",
        "    imgsz=640,\n",
        "    lr0=0.0002,        # Lower learning rate\n",
        "    optimizer=\"AdamW\", # Explicit optimizer selection\n",
        "    project=save_path,  # Save path on Google Drive\n",
        "    name='yolov8_nano_obb_training',  # Name for the training\n",
        ")\n"
      ],
      "metadata": {
        "colab": {
          "base_uri": "https://localhost:8080/"
        },
        "id": "rEMvO3D-NREL",
        "outputId": "a3c81b97-c08e-4fce-ede7-ca448b7a1fa5"
      },
      "execution_count": null,
      "outputs": [
        {
          "output_type": "stream",
          "name": "stdout",
          "text": [
            "Creating new Ultralytics Settings v0.0.6 file ✅ \n",
            "View Ultralytics Settings with 'yolo settings' or at '/root/.config/Ultralytics/settings.json'\n",
            "Update Settings with 'yolo settings key=value', i.e. 'yolo settings runs_dir=path/to/dir'. For help see https://docs.ultralytics.com/quickstart/#ultralytics-settings.\n",
            "Drive already mounted at /content/drive; to attempt to forcibly remount, call drive.mount(\"/content/drive\", force_remount=True).\n",
            "Ultralytics 8.3.90 🚀 Python-3.11.11 torch-2.5.1+cu124 CUDA:0 (Tesla T4, 15095MiB)\n",
            "\u001b[34m\u001b[1mengine/trainer: \u001b[0mtask=obb, mode=train, model=yolov8n-obb.yaml, data=/content/dataset/dataset.yaml, epochs=80, time=None, patience=100, batch=25, imgsz=640, save=True, save_period=-1, cache=False, device=None, workers=8, project=/content/drive/MyDrive/yolov8_training_results/, name=yolov8_nano_obb_training6, exist_ok=False, pretrained=True, optimizer=AdamW, verbose=True, seed=0, deterministic=True, single_cls=False, rect=False, cos_lr=False, close_mosaic=10, resume=False, amp=True, fraction=1.0, profile=False, freeze=None, multi_scale=False, overlap_mask=True, mask_ratio=4, dropout=0.0, val=True, split=val, save_json=False, save_hybrid=False, conf=None, iou=0.7, max_det=300, half=False, dnn=False, plots=True, source=None, vid_stride=1, stream_buffer=False, visualize=False, augment=False, agnostic_nms=False, classes=None, retina_masks=False, embed=None, show=False, save_frames=False, save_txt=False, save_conf=False, save_crop=False, show_labels=True, show_conf=True, show_boxes=True, line_width=None, format=torchscript, keras=False, optimize=False, int8=False, dynamic=False, simplify=True, opset=None, workspace=None, nms=False, lr0=0.0002, lrf=0.01, momentum=0.937, weight_decay=0.0005, warmup_epochs=3.0, warmup_momentum=0.8, warmup_bias_lr=0.1, box=7.5, cls=0.5, dfl=1.5, pose=12.0, kobj=1.0, nbs=64, hsv_h=0.015, hsv_s=0.7, hsv_v=0.4, degrees=0.0, translate=0.1, scale=0.5, shear=0.0, perspective=0.0, flipud=0.0, fliplr=0.5, bgr=0.0, mosaic=1.0, mixup=0.0, copy_paste=0.0, copy_paste_mode=flip, auto_augment=randaugment, erasing=0.4, crop_fraction=1.0, cfg=None, tracker=botsort.yaml, save_dir=/content/drive/MyDrive/yolov8_training_results/yolov8_nano_obb_training6\n",
            "Downloading https://ultralytics.com/assets/Arial.ttf to '/root/.config/Ultralytics/Arial.ttf'...\n"
          ]
        },
        {
          "output_type": "stream",
          "name": "stderr",
          "text": [
            "100%|██████████| 755k/755k [00:00<00:00, 19.6MB/s]\n"
          ]
        },
        {
          "output_type": "stream",
          "name": "stdout",
          "text": [
            "Overriding model.yaml nc=80 with nc=3\n",
            "\n",
            "                   from  n    params  module                                       arguments                     \n",
            "  0                  -1  1       464  ultralytics.nn.modules.conv.Conv             [3, 16, 3, 2]                 \n",
            "  1                  -1  1      4672  ultralytics.nn.modules.conv.Conv             [16, 32, 3, 2]                \n",
            "  2                  -1  1      7360  ultralytics.nn.modules.block.C2f             [32, 32, 1, True]             \n",
            "  3                  -1  1     18560  ultralytics.nn.modules.conv.Conv             [32, 64, 3, 2]                \n",
            "  4                  -1  2     49664  ultralytics.nn.modules.block.C2f             [64, 64, 2, True]             \n",
            "  5                  -1  1     73984  ultralytics.nn.modules.conv.Conv             [64, 128, 3, 2]               \n",
            "  6                  -1  2    197632  ultralytics.nn.modules.block.C2f             [128, 128, 2, True]           \n",
            "  7                  -1  1    295424  ultralytics.nn.modules.conv.Conv             [128, 256, 3, 2]              \n",
            "  8                  -1  1    460288  ultralytics.nn.modules.block.C2f             [256, 256, 1, True]           \n",
            "  9                  -1  1    164608  ultralytics.nn.modules.block.SPPF            [256, 256, 5]                 \n",
            " 10                  -1  1         0  torch.nn.modules.upsampling.Upsample         [None, 2, 'nearest']          \n",
            " 11             [-1, 6]  1         0  ultralytics.nn.modules.conv.Concat           [1]                           \n",
            " 12                  -1  1    148224  ultralytics.nn.modules.block.C2f             [384, 128, 1]                 \n",
            " 13                  -1  1         0  torch.nn.modules.upsampling.Upsample         [None, 2, 'nearest']          \n",
            " 14             [-1, 4]  1         0  ultralytics.nn.modules.conv.Concat           [1]                           \n",
            " 15                  -1  1     37248  ultralytics.nn.modules.block.C2f             [192, 64, 1]                  \n",
            " 16                  -1  1     36992  ultralytics.nn.modules.conv.Conv             [64, 64, 3, 2]                \n",
            " 17            [-1, 12]  1         0  ultralytics.nn.modules.conv.Concat           [1]                           \n",
            " 18                  -1  1    123648  ultralytics.nn.modules.block.C2f             [192, 128, 1]                 \n",
            " 19                  -1  1    147712  ultralytics.nn.modules.conv.Conv             [128, 128, 3, 2]              \n",
            " 20             [-1, 9]  1         0  ultralytics.nn.modules.conv.Concat           [1]                           \n",
            " 21                  -1  1    493056  ultralytics.nn.modules.block.C2f             [384, 256, 1]                 \n",
            " 22        [15, 18, 21]  1    823564  ultralytics.nn.modules.head.OBB              [3, 1, [64, 128, 256]]        \n",
            "YOLOv8n-obb summary: 144 layers, 3,083,100 parameters, 3,083,084 gradients, 8.4 GFLOPs\n",
            "\n",
            "\u001b[34m\u001b[1mTensorBoard: \u001b[0mStart with 'tensorboard --logdir /content/drive/MyDrive/yolov8_training_results/yolov8_nano_obb_training6', view at http://localhost:6006/\n",
            "Freezing layer 'model.22.dfl.conv.weight'\n",
            "\u001b[34m\u001b[1mAMP: \u001b[0mrunning Automatic Mixed Precision (AMP) checks...\n",
            "Downloading https://github.com/ultralytics/assets/releases/download/v8.3.0/yolo11n.pt to 'yolo11n.pt'...\n"
          ]
        },
        {
          "output_type": "stream",
          "name": "stderr",
          "text": [
            "100%|██████████| 5.35M/5.35M [00:00<00:00, 100MB/s]\n"
          ]
        },
        {
          "output_type": "stream",
          "name": "stdout",
          "text": [
            "\u001b[34m\u001b[1mAMP: \u001b[0mchecks passed ✅\n"
          ]
        },
        {
          "output_type": "stream",
          "name": "stderr",
          "text": [
            "\u001b[34m\u001b[1mtrain: \u001b[0mScanning /content/dataset/labels/train... 2117 images, 0 backgrounds, 0 corrupt: 100%|██████████| 2117/2117 [00:05<00:00, 373.26it/s]"
          ]
        },
        {
          "output_type": "stream",
          "name": "stdout",
          "text": [
            "\u001b[34m\u001b[1mtrain: \u001b[0mWARNING ⚠️ /content/dataset/images/train/0096.png: 2 duplicate labels removed\n",
            "\u001b[34m\u001b[1mtrain: \u001b[0mWARNING ⚠️ /content/dataset/images/train/0097.png: 2 duplicate labels removed\n",
            "\u001b[34m\u001b[1mtrain: \u001b[0mWARNING ⚠️ /content/dataset/images/train/0099.png: 2 duplicate labels removed\n",
            "\u001b[34m\u001b[1mtrain: \u001b[0mWARNING ⚠️ /content/dataset/images/train/0108.png: 4 duplicate labels removed\n",
            "\u001b[34m\u001b[1mtrain: \u001b[0mWARNING ⚠️ /content/dataset/images/train/0109.png: 4 duplicate labels removed\n",
            "\u001b[34m\u001b[1mtrain: \u001b[0mWARNING ⚠️ /content/dataset/images/train/0110.png: 4 duplicate labels removed\n",
            "\u001b[34m\u001b[1mtrain: \u001b[0mWARNING ⚠️ /content/dataset/images/train/0111.png: 3 duplicate labels removed\n",
            "\u001b[34m\u001b[1mtrain: \u001b[0mWARNING ⚠️ /content/dataset/images/train/0132.png: 5 duplicate labels removed\n",
            "\u001b[34m\u001b[1mtrain: \u001b[0mWARNING ⚠️ /content/dataset/images/train/0135.png: 5 duplicate labels removed\n",
            "\u001b[34m\u001b[1mtrain: \u001b[0mWARNING ⚠️ /content/dataset/images/train/0192.png: 4 duplicate labels removed\n",
            "\u001b[34m\u001b[1mtrain: \u001b[0mWARNING ⚠️ /content/dataset/images/train/0193.png: 4 duplicate labels removed\n",
            "\u001b[34m\u001b[1mtrain: \u001b[0mWARNING ⚠️ /content/dataset/images/train/0194.png: 4 duplicate labels removed\n",
            "\u001b[34m\u001b[1mtrain: \u001b[0mWARNING ⚠️ /content/dataset/images/train/0195.png: 4 duplicate labels removed\n",
            "\u001b[34m\u001b[1mtrain: \u001b[0mWARNING ⚠️ /content/dataset/images/train/0197.png: 4 duplicate labels removed\n",
            "\u001b[34m\u001b[1mtrain: \u001b[0mWARNING ⚠️ /content/dataset/images/train/0198.png: 4 duplicate labels removed\n",
            "\u001b[34m\u001b[1mtrain: \u001b[0mWARNING ⚠️ /content/dataset/images/train/0199.png: 3 duplicate labels removed\n",
            "\u001b[34m\u001b[1mtrain: \u001b[0mWARNING ⚠️ /content/dataset/images/train/0200.png: 1 duplicate labels removed\n",
            "\u001b[34m\u001b[1mtrain: \u001b[0mWARNING ⚠️ /content/dataset/images/train/0201.png: 1 duplicate labels removed\n",
            "\u001b[34m\u001b[1mtrain: \u001b[0mWARNING ⚠️ /content/dataset/images/train/0202.png: 1 duplicate labels removed\n",
            "\u001b[34m\u001b[1mtrain: \u001b[0mWARNING ⚠️ /content/dataset/images/train/0204.png: 3 duplicate labels removed\n",
            "\u001b[34m\u001b[1mtrain: \u001b[0mWARNING ⚠️ /content/dataset/images/train/0205.png: 3 duplicate labels removed\n",
            "\u001b[34m\u001b[1mtrain: \u001b[0mWARNING ⚠️ /content/dataset/images/train/0206.png: 3 duplicate labels removed\n",
            "\u001b[34m\u001b[1mtrain: \u001b[0mWARNING ⚠️ /content/dataset/images/train/0207.png: 2 duplicate labels removed\n",
            "\u001b[34m\u001b[1mtrain: \u001b[0mWARNING ⚠️ /content/dataset/images/train/0208.png: 3 duplicate labels removed\n",
            "\u001b[34m\u001b[1mtrain: \u001b[0mWARNING ⚠️ /content/dataset/images/train/0210.png: 3 duplicate labels removed\n",
            "\u001b[34m\u001b[1mtrain: \u001b[0mWARNING ⚠️ /content/dataset/images/train/0211.png: 3 duplicate labels removed\n",
            "\u001b[34m\u001b[1mtrain: \u001b[0mWARNING ⚠️ /content/dataset/images/train/0212.png: 3 duplicate labels removed\n",
            "\u001b[34m\u001b[1mtrain: \u001b[0mWARNING ⚠️ /content/dataset/images/train/0214.png: 2 duplicate labels removed\n",
            "\u001b[34m\u001b[1mtrain: \u001b[0mWARNING ⚠️ /content/dataset/images/train/0215.png: 3 duplicate labels removed\n",
            "\u001b[34m\u001b[1mtrain: \u001b[0mWARNING ⚠️ /content/dataset/images/train/0216.png: 3 duplicate labels removed\n",
            "\u001b[34m\u001b[1mtrain: \u001b[0mWARNING ⚠️ /content/dataset/images/train/0217.png: 3 duplicate labels removed\n",
            "\u001b[34m\u001b[1mtrain: \u001b[0mWARNING ⚠️ /content/dataset/images/train/0218.png: 3 duplicate labels removed\n",
            "\u001b[34m\u001b[1mtrain: \u001b[0mWARNING ⚠️ /content/dataset/images/train/0236.png: 6 duplicate labels removed\n",
            "\u001b[34m\u001b[1mtrain: \u001b[0mWARNING ⚠️ /content/dataset/images/train/0237.png: 6 duplicate labels removed\n",
            "\u001b[34m\u001b[1mtrain: \u001b[0mWARNING ⚠️ /content/dataset/images/train/0239.png: 6 duplicate labels removed\n",
            "\u001b[34m\u001b[1mtrain: \u001b[0mWARNING ⚠️ /content/dataset/images/train/0240.png: 4 duplicate labels removed\n",
            "\u001b[34m\u001b[1mtrain: \u001b[0mWARNING ⚠️ /content/dataset/images/train/0241.png: 1 duplicate labels removed\n",
            "\u001b[34m\u001b[1mtrain: \u001b[0mWARNING ⚠️ /content/dataset/images/train/0242.png: 4 duplicate labels removed\n",
            "\u001b[34m\u001b[1mtrain: \u001b[0mWARNING ⚠️ /content/dataset/images/train/0324.png: 1 duplicate labels removed\n",
            "\u001b[34m\u001b[1mtrain: \u001b[0mWARNING ⚠️ /content/dataset/images/train/0325.png: 1 duplicate labels removed\n",
            "\u001b[34m\u001b[1mtrain: \u001b[0mWARNING ⚠️ /content/dataset/images/train/0326.png: 1 duplicate labels removed\n",
            "\u001b[34m\u001b[1mtrain: \u001b[0mWARNING ⚠️ /content/dataset/images/train/0327.png: 1 duplicate labels removed\n",
            "\u001b[34m\u001b[1mtrain: \u001b[0mWARNING ⚠️ /content/dataset/images/train/0480.png: 5 duplicate labels removed\n",
            "\u001b[34m\u001b[1mtrain: \u001b[0mWARNING ⚠️ /content/dataset/images/train/0481.png: 5 duplicate labels removed\n",
            "\u001b[34m\u001b[1mtrain: \u001b[0mWARNING ⚠️ /content/dataset/images/train/0482.png: 5 duplicate labels removed\n",
            "\u001b[34m\u001b[1mtrain: \u001b[0mWARNING ⚠️ /content/dataset/images/train/0483.png: 5 duplicate labels removed\n",
            "\u001b[34m\u001b[1mtrain: \u001b[0mWARNING ⚠️ /content/dataset/images/train/0484.png: 1 duplicate labels removed\n",
            "\u001b[34m\u001b[1mtrain: \u001b[0mWARNING ⚠️ /content/dataset/images/train/0485.png: 1 duplicate labels removed\n",
            "\u001b[34m\u001b[1mtrain: \u001b[0mWARNING ⚠️ /content/dataset/images/train/0486.png: 1 duplicate labels removed\n",
            "\u001b[34m\u001b[1mtrain: \u001b[0mWARNING ⚠️ /content/dataset/images/train/0487.png: 1 duplicate labels removed\n",
            "\u001b[34m\u001b[1mtrain: \u001b[0mWARNING ⚠️ /content/dataset/images/train/0532.png: 1 duplicate labels removed\n",
            "\u001b[34m\u001b[1mtrain: \u001b[0mWARNING ⚠️ /content/dataset/images/train/0533.png: 1 duplicate labels removed\n",
            "\u001b[34m\u001b[1mtrain: \u001b[0mWARNING ⚠️ /content/dataset/images/train/0534.png: 1 duplicate labels removed\n",
            "\u001b[34m\u001b[1mtrain: \u001b[0mWARNING ⚠️ /content/dataset/images/train/0535.png: 1 duplicate labels removed\n",
            "\u001b[34m\u001b[1mtrain: \u001b[0mWARNING ⚠️ /content/dataset/images/train/0725.png: 2 duplicate labels removed\n",
            "\u001b[34m\u001b[1mtrain: \u001b[0mWARNING ⚠️ /content/dataset/images/train/0726.png: 3 duplicate labels removed\n",
            "\u001b[34m\u001b[1mtrain: \u001b[0mWARNING ⚠️ /content/dataset/images/train/0727.png: 3 duplicate labels removed\n",
            "\u001b[34m\u001b[1mtrain: \u001b[0mWARNING ⚠️ /content/dataset/images/train/0788.png: 6 duplicate labels removed\n",
            "\u001b[34m\u001b[1mtrain: \u001b[0mWARNING ⚠️ /content/dataset/images/train/0789.png: 6 duplicate labels removed\n",
            "\u001b[34m\u001b[1mtrain: \u001b[0mWARNING ⚠️ /content/dataset/images/train/0790.png: 6 duplicate labels removed\n",
            "\u001b[34m\u001b[1mtrain: \u001b[0mWARNING ⚠️ /content/dataset/images/train/0791.png: 6 duplicate labels removed\n",
            "\u001b[34m\u001b[1mtrain: \u001b[0mWARNING ⚠️ /content/dataset/images/train/0840.png: 6 duplicate labels removed\n",
            "\u001b[34m\u001b[1mtrain: \u001b[0mWARNING ⚠️ /content/dataset/images/train/0843.png: 6 duplicate labels removed\n",
            "\u001b[34m\u001b[1mtrain: \u001b[0mWARNING ⚠️ /content/dataset/images/train/1192.png: 1 duplicate labels removed\n",
            "\u001b[34m\u001b[1mtrain: \u001b[0mWARNING ⚠️ /content/dataset/images/train/1193.png: 1 duplicate labels removed\n",
            "\u001b[34m\u001b[1mtrain: \u001b[0mWARNING ⚠️ /content/dataset/images/train/1194.png: 1 duplicate labels removed\n",
            "\u001b[34m\u001b[1mtrain: \u001b[0mWARNING ⚠️ /content/dataset/images/train/1195.png: 1 duplicate labels removed\n",
            "\u001b[34m\u001b[1mtrain: \u001b[0mWARNING ⚠️ /content/dataset/images/train/1273.png: 2 duplicate labels removed\n",
            "\u001b[34m\u001b[1mtrain: \u001b[0mWARNING ⚠️ /content/dataset/images/train/1274.png: 2 duplicate labels removed\n",
            "\u001b[34m\u001b[1mtrain: \u001b[0mWARNING ⚠️ /content/dataset/images/train/1275.png: 2 duplicate labels removed\n",
            "\u001b[34m\u001b[1mtrain: \u001b[0mWARNING ⚠️ /content/dataset/images/train/1300.png: 4 duplicate labels removed\n",
            "\u001b[34m\u001b[1mtrain: \u001b[0mWARNING ⚠️ /content/dataset/images/train/1302.png: 4 duplicate labels removed\n",
            "\u001b[34m\u001b[1mtrain: \u001b[0mWARNING ⚠️ /content/dataset/images/train/1711.png: 5 duplicate labels removed\n",
            "\u001b[34m\u001b[1mtrain: \u001b[0mWARNING ⚠️ /content/dataset/images/train/1712.png: 5 duplicate labels removed\n",
            "\u001b[34m\u001b[1mtrain: \u001b[0mWARNING ⚠️ /content/dataset/images/train/1713.png: 5 duplicate labels removed\n",
            "\u001b[34m\u001b[1mtrain: \u001b[0mWARNING ⚠️ /content/dataset/images/train/1714.png: 5 duplicate labels removed\n"
          ]
        },
        {
          "output_type": "stream",
          "name": "stderr",
          "text": [
            "\n"
          ]
        },
        {
          "output_type": "stream",
          "name": "stdout",
          "text": [
            "\u001b[34m\u001b[1mtrain: \u001b[0mNew cache created: /content/dataset/labels/train.cache\n",
            "\u001b[34m\u001b[1malbumentations: \u001b[0mBlur(p=0.01, blur_limit=(3, 7)), MedianBlur(p=0.01, blur_limit=(3, 7)), ToGray(p=0.01, num_output_channels=3, method='weighted_average'), CLAHE(p=0.01, clip_limit=(1.0, 4.0), tile_grid_size=(8, 8))\n"
          ]
        },
        {
          "output_type": "stream",
          "name": "stderr",
          "text": [
            "\u001b[34m\u001b[1mval: \u001b[0mScanning /content/dataset/labels/val... 266 images, 0 backgrounds, 0 corrupt: 100%|██████████| 266/266 [00:00<00:00, 268.68it/s]"
          ]
        },
        {
          "output_type": "stream",
          "name": "stdout",
          "text": [
            "\u001b[34m\u001b[1mval: \u001b[0mWARNING ⚠️ /content/dataset/images/val/0098.png: 2 duplicate labels removed\n",
            "\u001b[34m\u001b[1mval: \u001b[0mWARNING ⚠️ /content/dataset/images/val/0134.png: 5 duplicate labels removed\n",
            "\u001b[34m\u001b[1mval: \u001b[0mWARNING ⚠️ /content/dataset/images/val/0203.png: 1 duplicate labels removed\n",
            "\u001b[34m\u001b[1mval: \u001b[0mWARNING ⚠️ /content/dataset/images/val/0213.png: 3 duplicate labels removed\n",
            "\u001b[34m\u001b[1mval: \u001b[0mWARNING ⚠️ /content/dataset/images/val/0219.png: 3 duplicate labels removed\n",
            "\u001b[34m\u001b[1mval: \u001b[0mWARNING ⚠️ /content/dataset/images/val/0243.png: 4 duplicate labels removed\n",
            "\u001b[34m\u001b[1mval: \u001b[0mWARNING ⚠️ /content/dataset/images/val/0724.png: 3 duplicate labels removed\n",
            "\u001b[34m\u001b[1mval: \u001b[0mWARNING ⚠️ /content/dataset/images/val/0842.png: 6 duplicate labels removed\n",
            "\u001b[34m\u001b[1mval: \u001b[0mWARNING ⚠️ /content/dataset/images/val/1299.png: 4 duplicate labels removed\n"
          ]
        },
        {
          "output_type": "stream",
          "name": "stderr",
          "text": [
            "\n"
          ]
        },
        {
          "output_type": "stream",
          "name": "stdout",
          "text": [
            "\u001b[34m\u001b[1mval: \u001b[0mNew cache created: /content/dataset/labels/val.cache\n",
            "Plotting labels to /content/drive/MyDrive/yolov8_training_results/yolov8_nano_obb_training6/labels.jpg... \n",
            "\u001b[34m\u001b[1moptimizer:\u001b[0m AdamW(lr=0.0002, momentum=0.937) with parameter groups 63 weight(decay=0.0), 73 weight(decay=0.0005859375000000001), 72 bias(decay=0.0)\n",
            "\u001b[34m\u001b[1mTensorBoard: \u001b[0mmodel graph visualization added ✅\n",
            "Image sizes 640 train, 640 val\n",
            "Using 2 dataloader workers\n",
            "Logging results to \u001b[1m/content/drive/MyDrive/yolov8_training_results/yolov8_nano_obb_training6\u001b[0m\n",
            "Starting training for 80 epochs...\n",
            "\n",
            "      Epoch    GPU_mem   box_loss   cls_loss   dfl_loss  Instances       Size\n"
          ]
        },
        {
          "output_type": "stream",
          "name": "stderr",
          "text": [
            "       1/80      3.78G       3.37      3.373      2.303        196        640: 100%|██████████| 85/85 [01:16<00:00,  1.11it/s]\n",
            "                 Class     Images  Instances      Box(P          R      mAP50  mAP50-95): 100%|██████████| 11/11 [00:03<00:00,  2.93it/s]"
          ]
        },
        {
          "output_type": "stream",
          "name": "stdout",
          "text": [
            "                   all        266       2497          0          0          0          0\n"
          ]
        },
        {
          "output_type": "stream",
          "name": "stderr",
          "text": [
            "\n"
          ]
        },
        {
          "output_type": "stream",
          "name": "stdout",
          "text": [
            "\n",
            "      Epoch    GPU_mem   box_loss   cls_loss   dfl_loss  Instances       Size\n"
          ]
        },
        {
          "output_type": "stream",
          "name": "stderr",
          "text": [
            "       2/80      3.78G      2.646      2.449       1.67        256        640: 100%|██████████| 85/85 [00:57<00:00,  1.48it/s]\n",
            "                 Class     Images  Instances      Box(P          R      mAP50  mAP50-95): 100%|██████████| 11/11 [00:05<00:00,  2.03it/s]"
          ]
        },
        {
          "output_type": "stream",
          "name": "stdout",
          "text": [
            "                   all        266       2497     0.0221      0.285     0.0518      0.016\n"
          ]
        },
        {
          "output_type": "stream",
          "name": "stderr",
          "text": [
            "\n"
          ]
        },
        {
          "output_type": "stream",
          "name": "stdout",
          "text": [
            "\n",
            "      Epoch    GPU_mem   box_loss   cls_loss   dfl_loss  Instances       Size\n"
          ]
        },
        {
          "output_type": "stream",
          "name": "stderr",
          "text": [
            "       3/80      3.78G      2.408      2.029      1.554        188        640: 100%|██████████| 85/85 [00:59<00:00,  1.43it/s]\n",
            "                 Class     Images  Instances      Box(P          R      mAP50  mAP50-95): 100%|██████████| 11/11 [00:05<00:00,  1.97it/s]"
          ]
        },
        {
          "output_type": "stream",
          "name": "stdout",
          "text": [
            "                   all        266       2497      0.593      0.176      0.217     0.0739\n"
          ]
        },
        {
          "output_type": "stream",
          "name": "stderr",
          "text": [
            "\n"
          ]
        },
        {
          "output_type": "stream",
          "name": "stdout",
          "text": [
            "\n",
            "      Epoch    GPU_mem   box_loss   cls_loss   dfl_loss  Instances       Size\n"
          ]
        },
        {
          "output_type": "stream",
          "name": "stderr",
          "text": [
            "       4/80      3.78G      2.253      1.793      1.497        218        640: 100%|██████████| 85/85 [00:58<00:00,  1.45it/s]\n",
            "                 Class     Images  Instances      Box(P          R      mAP50  mAP50-95): 100%|██████████| 11/11 [00:05<00:00,  1.84it/s]"
          ]
        },
        {
          "output_type": "stream",
          "name": "stdout",
          "text": [
            "                   all        266       2497      0.689       0.21      0.216     0.0806\n"
          ]
        },
        {
          "output_type": "stream",
          "name": "stderr",
          "text": [
            "\n"
          ]
        },
        {
          "output_type": "stream",
          "name": "stdout",
          "text": [
            "\n",
            "      Epoch    GPU_mem   box_loss   cls_loss   dfl_loss  Instances       Size\n"
          ]
        },
        {
          "output_type": "stream",
          "name": "stderr",
          "text": [
            "       5/80      3.78G      2.135      1.631      1.464        227        640: 100%|██████████| 85/85 [00:57<00:00,  1.47it/s]\n",
            "                 Class     Images  Instances      Box(P          R      mAP50  mAP50-95): 100%|██████████| 11/11 [00:05<00:00,  2.12it/s]"
          ]
        },
        {
          "output_type": "stream",
          "name": "stdout",
          "text": [
            "                   all        266       2497      0.763      0.244      0.279      0.119\n"
          ]
        },
        {
          "output_type": "stream",
          "name": "stderr",
          "text": [
            "\n"
          ]
        },
        {
          "output_type": "stream",
          "name": "stdout",
          "text": [
            "\n",
            "      Epoch    GPU_mem   box_loss   cls_loss   dfl_loss  Instances       Size\n"
          ]
        },
        {
          "output_type": "stream",
          "name": "stderr",
          "text": [
            "       6/80      3.78G      2.065      1.519      1.434        259        640: 100%|██████████| 85/85 [00:57<00:00,  1.48it/s]\n",
            "                 Class     Images  Instances      Box(P          R      mAP50  mAP50-95): 100%|██████████| 11/11 [00:05<00:00,  1.85it/s]"
          ]
        },
        {
          "output_type": "stream",
          "name": "stdout",
          "text": [
            "                   all        266       2497      0.506      0.301      0.328      0.148\n"
          ]
        },
        {
          "output_type": "stream",
          "name": "stderr",
          "text": [
            "\n"
          ]
        },
        {
          "output_type": "stream",
          "name": "stdout",
          "text": [
            "\n",
            "      Epoch    GPU_mem   box_loss   cls_loss   dfl_loss  Instances       Size\n"
          ]
        },
        {
          "output_type": "stream",
          "name": "stderr",
          "text": [
            "       7/80      3.78G      1.991      1.437      1.416        173        640: 100%|██████████| 85/85 [00:57<00:00,  1.48it/s]\n",
            "                 Class     Images  Instances      Box(P          R      mAP50  mAP50-95): 100%|██████████| 11/11 [00:05<00:00,  2.10it/s]"
          ]
        },
        {
          "output_type": "stream",
          "name": "stdout",
          "text": [
            "                   all        266       2497      0.768      0.292      0.326      0.149\n"
          ]
        },
        {
          "output_type": "stream",
          "name": "stderr",
          "text": [
            "\n"
          ]
        },
        {
          "output_type": "stream",
          "name": "stdout",
          "text": [
            "\n",
            "      Epoch    GPU_mem   box_loss   cls_loss   dfl_loss  Instances       Size\n"
          ]
        },
        {
          "output_type": "stream",
          "name": "stderr",
          "text": [
            "       8/80      3.78G      1.969      1.369      1.397        236        640: 100%|██████████| 85/85 [00:57<00:00,  1.49it/s]\n",
            "                 Class     Images  Instances      Box(P          R      mAP50  mAP50-95): 100%|██████████| 11/11 [00:04<00:00,  2.29it/s]"
          ]
        },
        {
          "output_type": "stream",
          "name": "stdout",
          "text": [
            "                   all        266       2497      0.864      0.277      0.354      0.168\n"
          ]
        },
        {
          "output_type": "stream",
          "name": "stderr",
          "text": [
            "\n"
          ]
        },
        {
          "output_type": "stream",
          "name": "stdout",
          "text": [
            "\n",
            "      Epoch    GPU_mem   box_loss   cls_loss   dfl_loss  Instances       Size\n"
          ]
        },
        {
          "output_type": "stream",
          "name": "stderr",
          "text": [
            "       9/80      3.78G      1.921      1.319      1.384        275        640: 100%|██████████| 85/85 [00:56<00:00,  1.49it/s]\n",
            "                 Class     Images  Instances      Box(P          R      mAP50  mAP50-95): 100%|██████████| 11/11 [00:06<00:00,  1.70it/s]"
          ]
        },
        {
          "output_type": "stream",
          "name": "stdout",
          "text": [
            "                   all        266       2497      0.835      0.306      0.361      0.173\n"
          ]
        },
        {
          "output_type": "stream",
          "name": "stderr",
          "text": [
            "\n"
          ]
        },
        {
          "output_type": "stream",
          "name": "stdout",
          "text": [
            "\n",
            "      Epoch    GPU_mem   box_loss   cls_loss   dfl_loss  Instances       Size\n"
          ]
        },
        {
          "output_type": "stream",
          "name": "stderr",
          "text": [
            "      10/80      3.78G      1.877      1.281      1.382        276        640: 100%|██████████| 85/85 [00:57<00:00,  1.48it/s]\n",
            "                 Class     Images  Instances      Box(P          R      mAP50  mAP50-95): 100%|██████████| 11/11 [00:05<00:00,  2.19it/s]"
          ]
        },
        {
          "output_type": "stream",
          "name": "stdout",
          "text": [
            "                   all        266       2497      0.699      0.386      0.484      0.225\n"
          ]
        },
        {
          "output_type": "stream",
          "name": "stderr",
          "text": [
            "\n"
          ]
        },
        {
          "output_type": "stream",
          "name": "stdout",
          "text": [
            "\n",
            "      Epoch    GPU_mem   box_loss   cls_loss   dfl_loss  Instances       Size\n"
          ]
        },
        {
          "output_type": "stream",
          "name": "stderr",
          "text": [
            "      11/80      3.78G      1.833      1.229      1.353        187        640: 100%|██████████| 85/85 [00:56<00:00,  1.50it/s]\n",
            "                 Class     Images  Instances      Box(P          R      mAP50  mAP50-95): 100%|██████████| 11/11 [00:06<00:00,  1.60it/s]"
          ]
        },
        {
          "output_type": "stream",
          "name": "stdout",
          "text": [
            "                   all        266       2497      0.851      0.338       0.45      0.221\n"
          ]
        },
        {
          "output_type": "stream",
          "name": "stderr",
          "text": [
            "\n"
          ]
        },
        {
          "output_type": "stream",
          "name": "stdout",
          "text": [
            "\n",
            "      Epoch    GPU_mem   box_loss   cls_loss   dfl_loss  Instances       Size\n"
          ]
        },
        {
          "output_type": "stream",
          "name": "stderr",
          "text": [
            "      12/80      3.78G      1.811      1.183      1.344        406        640: 100%|██████████| 85/85 [00:56<00:00,  1.49it/s]\n",
            "                 Class     Images  Instances      Box(P          R      mAP50  mAP50-95): 100%|██████████| 11/11 [00:04<00:00,  2.38it/s]"
          ]
        },
        {
          "output_type": "stream",
          "name": "stdout",
          "text": [
            "                   all        266       2497       0.46      0.443       0.46      0.228\n"
          ]
        },
        {
          "output_type": "stream",
          "name": "stderr",
          "text": [
            "\n"
          ]
        },
        {
          "output_type": "stream",
          "name": "stdout",
          "text": [
            "\n",
            "      Epoch    GPU_mem   box_loss   cls_loss   dfl_loss  Instances       Size\n"
          ]
        },
        {
          "output_type": "stream",
          "name": "stderr",
          "text": [
            "      13/80      3.78G      1.797      1.164      1.344        272        640: 100%|██████████| 85/85 [00:57<00:00,  1.49it/s]\n",
            "                 Class     Images  Instances      Box(P          R      mAP50  mAP50-95): 100%|██████████| 11/11 [00:06<00:00,  1.62it/s]"
          ]
        },
        {
          "output_type": "stream",
          "name": "stdout",
          "text": [
            "                   all        266       2497      0.814      0.501      0.605      0.293\n"
          ]
        },
        {
          "output_type": "stream",
          "name": "stderr",
          "text": [
            "\n"
          ]
        },
        {
          "output_type": "stream",
          "name": "stdout",
          "text": [
            "\n",
            "      Epoch    GPU_mem   box_loss   cls_loss   dfl_loss  Instances       Size\n"
          ]
        },
        {
          "output_type": "stream",
          "name": "stderr",
          "text": [
            "      14/80      3.78G      1.764      1.136      1.323        266        640: 100%|██████████| 85/85 [00:56<00:00,  1.50it/s]\n",
            "                 Class     Images  Instances      Box(P          R      mAP50  mAP50-95): 100%|██████████| 11/11 [00:04<00:00,  2.32it/s]"
          ]
        },
        {
          "output_type": "stream",
          "name": "stdout",
          "text": [
            "                   all        266       2497      0.792       0.51      0.599        0.3\n"
          ]
        },
        {
          "output_type": "stream",
          "name": "stderr",
          "text": [
            "\n"
          ]
        },
        {
          "output_type": "stream",
          "name": "stdout",
          "text": [
            "\n",
            "      Epoch    GPU_mem   box_loss   cls_loss   dfl_loss  Instances       Size\n"
          ]
        },
        {
          "output_type": "stream",
          "name": "stderr",
          "text": [
            "      15/80      3.78G      1.742      1.114      1.323        227        640: 100%|██████████| 85/85 [00:56<00:00,  1.49it/s]\n",
            "                 Class     Images  Instances      Box(P          R      mAP50  mAP50-95): 100%|██████████| 11/11 [00:06<00:00,  1.71it/s]"
          ]
        },
        {
          "output_type": "stream",
          "name": "stdout",
          "text": [
            "                   all        266       2497      0.769      0.518      0.591      0.308\n"
          ]
        },
        {
          "output_type": "stream",
          "name": "stderr",
          "text": [
            "\n"
          ]
        },
        {
          "output_type": "stream",
          "name": "stdout",
          "text": [
            "\n",
            "      Epoch    GPU_mem   box_loss   cls_loss   dfl_loss  Instances       Size\n"
          ]
        },
        {
          "output_type": "stream",
          "name": "stderr",
          "text": [
            "      16/80      3.78G      1.719      1.088      1.306        243        640: 100%|██████████| 85/85 [00:56<00:00,  1.50it/s]\n",
            "                 Class     Images  Instances      Box(P          R      mAP50  mAP50-95): 100%|██████████| 11/11 [00:05<00:00,  2.16it/s]"
          ]
        },
        {
          "output_type": "stream",
          "name": "stdout",
          "text": [
            "                   all        266       2497       0.82      0.496       0.57      0.302\n"
          ]
        },
        {
          "output_type": "stream",
          "name": "stderr",
          "text": [
            "\n"
          ]
        },
        {
          "output_type": "stream",
          "name": "stdout",
          "text": [
            "\n",
            "      Epoch    GPU_mem   box_loss   cls_loss   dfl_loss  Instances       Size\n"
          ]
        },
        {
          "output_type": "stream",
          "name": "stderr",
          "text": [
            "      17/80      3.78G      1.705      1.075      1.309        245        640: 100%|██████████| 85/85 [00:56<00:00,  1.51it/s]\n",
            "                 Class     Images  Instances      Box(P          R      mAP50  mAP50-95): 100%|██████████| 11/11 [00:06<00:00,  1.78it/s]"
          ]
        },
        {
          "output_type": "stream",
          "name": "stdout",
          "text": [
            "                   all        266       2497      0.765      0.574       0.63      0.332\n"
          ]
        },
        {
          "output_type": "stream",
          "name": "stderr",
          "text": [
            "\n"
          ]
        },
        {
          "output_type": "stream",
          "name": "stdout",
          "text": [
            "\n",
            "      Epoch    GPU_mem   box_loss   cls_loss   dfl_loss  Instances       Size\n"
          ]
        },
        {
          "output_type": "stream",
          "name": "stderr",
          "text": [
            "      18/80      3.78G      1.683      1.055      1.296        241        640: 100%|██████████| 85/85 [00:56<00:00,  1.51it/s]\n",
            "                 Class     Images  Instances      Box(P          R      mAP50  mAP50-95): 100%|██████████| 11/11 [00:04<00:00,  2.34it/s]"
          ]
        },
        {
          "output_type": "stream",
          "name": "stdout",
          "text": [
            "                   all        266       2497      0.845       0.56      0.665      0.373\n"
          ]
        },
        {
          "output_type": "stream",
          "name": "stderr",
          "text": [
            "\n"
          ]
        },
        {
          "output_type": "stream",
          "name": "stdout",
          "text": [
            "\n",
            "      Epoch    GPU_mem   box_loss   cls_loss   dfl_loss  Instances       Size\n"
          ]
        },
        {
          "output_type": "stream",
          "name": "stderr",
          "text": [
            "      19/80      3.78G      1.661      1.029      1.279        201        640: 100%|██████████| 85/85 [00:56<00:00,  1.51it/s]\n",
            "                 Class     Images  Instances      Box(P          R      mAP50  mAP50-95): 100%|██████████| 11/11 [00:04<00:00,  2.34it/s]"
          ]
        },
        {
          "output_type": "stream",
          "name": "stdout",
          "text": [
            "                   all        266       2497      0.844      0.568      0.635      0.346\n"
          ]
        },
        {
          "output_type": "stream",
          "name": "stderr",
          "text": [
            "\n"
          ]
        },
        {
          "output_type": "stream",
          "name": "stdout",
          "text": [
            "\n",
            "      Epoch    GPU_mem   box_loss   cls_loss   dfl_loss  Instances       Size\n"
          ]
        },
        {
          "output_type": "stream",
          "name": "stderr",
          "text": [
            "      20/80      3.78G      1.652      1.025      1.295        254        640: 100%|██████████| 85/85 [00:56<00:00,  1.51it/s]\n",
            "                 Class     Images  Instances      Box(P          R      mAP50  mAP50-95): 100%|██████████| 11/11 [00:06<00:00,  1.61it/s]"
          ]
        },
        {
          "output_type": "stream",
          "name": "stdout",
          "text": [
            "                   all        266       2497      0.841      0.576      0.646       0.35\n"
          ]
        },
        {
          "output_type": "stream",
          "name": "stderr",
          "text": [
            "\n"
          ]
        },
        {
          "output_type": "stream",
          "name": "stdout",
          "text": [
            "\n",
            "      Epoch    GPU_mem   box_loss   cls_loss   dfl_loss  Instances       Size\n"
          ]
        },
        {
          "output_type": "stream",
          "name": "stderr",
          "text": [
            "      21/80      4.21G       1.62      1.002      1.276        259        640: 100%|██████████| 85/85 [00:57<00:00,  1.48it/s]\n",
            "                 Class     Images  Instances      Box(P          R      mAP50  mAP50-95): 100%|██████████| 11/11 [00:04<00:00,  2.43it/s]"
          ]
        },
        {
          "output_type": "stream",
          "name": "stdout",
          "text": [
            "                   all        266       2497      0.711      0.618      0.667      0.363\n"
          ]
        },
        {
          "output_type": "stream",
          "name": "stderr",
          "text": [
            "\n"
          ]
        },
        {
          "output_type": "stream",
          "name": "stdout",
          "text": [
            "\n",
            "      Epoch    GPU_mem   box_loss   cls_loss   dfl_loss  Instances       Size\n"
          ]
        },
        {
          "output_type": "stream",
          "name": "stderr",
          "text": [
            "      22/80      4.21G      1.616     0.9992      1.279        239        640: 100%|██████████| 85/85 [00:56<00:00,  1.50it/s]\n",
            "                 Class     Images  Instances      Box(P          R      mAP50  mAP50-95): 100%|██████████| 11/11 [00:06<00:00,  1.61it/s]"
          ]
        },
        {
          "output_type": "stream",
          "name": "stdout",
          "text": [
            "                   all        266       2497      0.767       0.58       0.66      0.348\n"
          ]
        },
        {
          "output_type": "stream",
          "name": "stderr",
          "text": [
            "\n"
          ]
        },
        {
          "output_type": "stream",
          "name": "stdout",
          "text": [
            "\n",
            "      Epoch    GPU_mem   box_loss   cls_loss   dfl_loss  Instances       Size\n"
          ]
        },
        {
          "output_type": "stream",
          "name": "stderr",
          "text": [
            "      23/80      4.21G      1.622     0.9866      1.265        382        640: 100%|██████████| 85/85 [00:57<00:00,  1.48it/s]\n",
            "                 Class     Images  Instances      Box(P          R      mAP50  mAP50-95): 100%|██████████| 11/11 [00:04<00:00,  2.29it/s]"
          ]
        },
        {
          "output_type": "stream",
          "name": "stdout",
          "text": [
            "                   all        266       2497      0.868      0.603      0.695      0.392\n"
          ]
        },
        {
          "output_type": "stream",
          "name": "stderr",
          "text": [
            "\n"
          ]
        },
        {
          "output_type": "stream",
          "name": "stdout",
          "text": [
            "\n",
            "      Epoch    GPU_mem   box_loss   cls_loss   dfl_loss  Instances       Size\n"
          ]
        },
        {
          "output_type": "stream",
          "name": "stderr",
          "text": [
            "      24/80      4.21G      1.625     0.9918      1.279        409        640: 100%|██████████| 85/85 [00:56<00:00,  1.51it/s]\n",
            "                 Class     Images  Instances      Box(P          R      mAP50  mAP50-95): 100%|██████████| 11/11 [00:06<00:00,  1.67it/s]"
          ]
        },
        {
          "output_type": "stream",
          "name": "stdout",
          "text": [
            "                   all        266       2497      0.777      0.584      0.659      0.359\n"
          ]
        },
        {
          "output_type": "stream",
          "name": "stderr",
          "text": [
            "\n"
          ]
        },
        {
          "output_type": "stream",
          "name": "stdout",
          "text": [
            "\n",
            "      Epoch    GPU_mem   box_loss   cls_loss   dfl_loss  Instances       Size\n"
          ]
        },
        {
          "output_type": "stream",
          "name": "stderr",
          "text": [
            "      25/80      4.21G        1.6      0.969      1.268        337        640: 100%|██████████| 85/85 [00:56<00:00,  1.51it/s]\n",
            "                 Class     Images  Instances      Box(P          R      mAP50  mAP50-95): 100%|██████████| 11/11 [00:05<00:00,  2.14it/s]"
          ]
        },
        {
          "output_type": "stream",
          "name": "stdout",
          "text": [
            "                   all        266       2497      0.856      0.625      0.722      0.405\n"
          ]
        },
        {
          "output_type": "stream",
          "name": "stderr",
          "text": [
            "\n"
          ]
        },
        {
          "output_type": "stream",
          "name": "stdout",
          "text": [
            "\n",
            "      Epoch    GPU_mem   box_loss   cls_loss   dfl_loss  Instances       Size\n"
          ]
        },
        {
          "output_type": "stream",
          "name": "stderr",
          "text": [
            "      26/80      4.21G      1.594     0.9647      1.257        297        640: 100%|██████████| 85/85 [00:56<00:00,  1.51it/s]\n",
            "                 Class     Images  Instances      Box(P          R      mAP50  mAP50-95): 100%|██████████| 11/11 [00:06<00:00,  1.80it/s]"
          ]
        },
        {
          "output_type": "stream",
          "name": "stdout",
          "text": [
            "                   all        266       2497      0.825      0.639      0.698       0.39\n"
          ]
        },
        {
          "output_type": "stream",
          "name": "stderr",
          "text": [
            "\n"
          ]
        },
        {
          "output_type": "stream",
          "name": "stdout",
          "text": [
            "\n",
            "      Epoch    GPU_mem   box_loss   cls_loss   dfl_loss  Instances       Size\n"
          ]
        },
        {
          "output_type": "stream",
          "name": "stderr",
          "text": [
            "      27/80      4.21G      1.557     0.9396      1.255        368        640: 100%|██████████| 85/85 [00:56<00:00,  1.51it/s]\n",
            "                 Class     Images  Instances      Box(P          R      mAP50  mAP50-95): 100%|██████████| 11/11 [00:05<00:00,  2.01it/s]"
          ]
        },
        {
          "output_type": "stream",
          "name": "stdout",
          "text": [
            "                   all        266       2497      0.729      0.611      0.664      0.387\n"
          ]
        },
        {
          "output_type": "stream",
          "name": "stderr",
          "text": [
            "\n"
          ]
        },
        {
          "output_type": "stream",
          "name": "stdout",
          "text": [
            "\n",
            "      Epoch    GPU_mem   box_loss   cls_loss   dfl_loss  Instances       Size\n"
          ]
        },
        {
          "output_type": "stream",
          "name": "stderr",
          "text": [
            "      28/80      4.21G      1.578     0.9524      1.258        258        640: 100%|██████████| 85/85 [00:56<00:00,  1.49it/s]\n",
            "                 Class     Images  Instances      Box(P          R      mAP50  mAP50-95): 100%|██████████| 11/11 [00:04<00:00,  2.35it/s]"
          ]
        },
        {
          "output_type": "stream",
          "name": "stdout",
          "text": [
            "                   all        266       2497      0.852      0.632      0.716      0.402\n"
          ]
        },
        {
          "output_type": "stream",
          "name": "stderr",
          "text": [
            "\n"
          ]
        },
        {
          "output_type": "stream",
          "name": "stdout",
          "text": [
            "\n",
            "      Epoch    GPU_mem   box_loss   cls_loss   dfl_loss  Instances       Size\n"
          ]
        },
        {
          "output_type": "stream",
          "name": "stderr",
          "text": [
            "      29/80      4.21G      1.561     0.9435      1.255        232        640: 100%|██████████| 85/85 [00:56<00:00,  1.51it/s]\n",
            "                 Class     Images  Instances      Box(P          R      mAP50  mAP50-95): 100%|██████████| 11/11 [00:06<00:00,  1.70it/s]"
          ]
        },
        {
          "output_type": "stream",
          "name": "stdout",
          "text": [
            "                   all        266       2497       0.85      0.615       0.73      0.431\n"
          ]
        },
        {
          "output_type": "stream",
          "name": "stderr",
          "text": [
            "\n"
          ]
        },
        {
          "output_type": "stream",
          "name": "stdout",
          "text": [
            "\n",
            "      Epoch    GPU_mem   box_loss   cls_loss   dfl_loss  Instances       Size\n"
          ]
        },
        {
          "output_type": "stream",
          "name": "stderr",
          "text": [
            "      30/80      4.21G      1.559     0.9365      1.245        364        640: 100%|██████████| 85/85 [00:56<00:00,  1.50it/s]\n",
            "                 Class     Images  Instances      Box(P          R      mAP50  mAP50-95): 100%|██████████| 11/11 [00:04<00:00,  2.23it/s]"
          ]
        },
        {
          "output_type": "stream",
          "name": "stdout",
          "text": [
            "                   all        266       2497      0.877       0.57      0.726      0.433\n"
          ]
        },
        {
          "output_type": "stream",
          "name": "stderr",
          "text": [
            "\n"
          ]
        },
        {
          "output_type": "stream",
          "name": "stdout",
          "text": [
            "\n",
            "      Epoch    GPU_mem   box_loss   cls_loss   dfl_loss  Instances       Size\n"
          ]
        },
        {
          "output_type": "stream",
          "name": "stderr",
          "text": [
            "      31/80      4.21G      1.543     0.9257      1.243        284        640: 100%|██████████| 85/85 [00:57<00:00,  1.49it/s]\n",
            "                 Class     Images  Instances      Box(P          R      mAP50  mAP50-95): 100%|██████████| 11/11 [00:06<00:00,  1.70it/s]"
          ]
        },
        {
          "output_type": "stream",
          "name": "stdout",
          "text": [
            "                   all        266       2497      0.799      0.611      0.703      0.403\n"
          ]
        },
        {
          "output_type": "stream",
          "name": "stderr",
          "text": [
            "\n"
          ]
        },
        {
          "output_type": "stream",
          "name": "stdout",
          "text": [
            "\n",
            "      Epoch    GPU_mem   box_loss   cls_loss   dfl_loss  Instances       Size\n"
          ]
        },
        {
          "output_type": "stream",
          "name": "stderr",
          "text": [
            "      32/80      4.21G      1.529     0.9222      1.243        320        640: 100%|██████████| 85/85 [00:57<00:00,  1.48it/s]\n",
            "                 Class     Images  Instances      Box(P          R      mAP50  mAP50-95): 100%|██████████| 11/11 [00:05<00:00,  2.09it/s]"
          ]
        },
        {
          "output_type": "stream",
          "name": "stdout",
          "text": [
            "                   all        266       2497      0.856      0.607        0.7      0.386\n"
          ]
        },
        {
          "output_type": "stream",
          "name": "stderr",
          "text": [
            "\n"
          ]
        },
        {
          "output_type": "stream",
          "name": "stdout",
          "text": [
            "\n",
            "      Epoch    GPU_mem   box_loss   cls_loss   dfl_loss  Instances       Size\n"
          ]
        },
        {
          "output_type": "stream",
          "name": "stderr",
          "text": [
            "      33/80      4.21G      1.525      0.913      1.237        289        640: 100%|██████████| 85/85 [00:57<00:00,  1.48it/s]\n",
            "                 Class     Images  Instances      Box(P          R      mAP50  mAP50-95): 100%|██████████| 11/11 [00:06<00:00,  1.59it/s]"
          ]
        },
        {
          "output_type": "stream",
          "name": "stdout",
          "text": [
            "                   all        266       2497      0.835      0.654      0.722      0.411\n"
          ]
        },
        {
          "output_type": "stream",
          "name": "stderr",
          "text": [
            "\n"
          ]
        },
        {
          "output_type": "stream",
          "name": "stdout",
          "text": [
            "\n",
            "      Epoch    GPU_mem   box_loss   cls_loss   dfl_loss  Instances       Size\n"
          ]
        },
        {
          "output_type": "stream",
          "name": "stderr",
          "text": [
            "      34/80      4.21G      1.513     0.8998      1.232        250        640: 100%|██████████| 85/85 [00:56<00:00,  1.49it/s]\n",
            "                 Class     Images  Instances      Box(P          R      mAP50  mAP50-95): 100%|██████████| 11/11 [00:05<00:00,  2.12it/s]"
          ]
        },
        {
          "output_type": "stream",
          "name": "stdout",
          "text": [
            "                   all        266       2497      0.746      0.694      0.715       0.43\n"
          ]
        },
        {
          "output_type": "stream",
          "name": "stderr",
          "text": [
            "\n"
          ]
        },
        {
          "output_type": "stream",
          "name": "stdout",
          "text": [
            "\n",
            "      Epoch    GPU_mem   box_loss   cls_loss   dfl_loss  Instances       Size\n"
          ]
        },
        {
          "output_type": "stream",
          "name": "stderr",
          "text": [
            "      35/80      4.21G      1.509     0.9008      1.229        175        640: 100%|██████████| 85/85 [01:04<00:00,  1.32it/s]\n",
            "                 Class     Images  Instances      Box(P          R      mAP50  mAP50-95): 100%|██████████| 11/11 [00:04<00:00,  2.25it/s]"
          ]
        },
        {
          "output_type": "stream",
          "name": "stdout",
          "text": [
            "                   all        266       2497      0.882      0.611      0.739      0.439\n"
          ]
        },
        {
          "output_type": "stream",
          "name": "stderr",
          "text": [
            "\n"
          ]
        },
        {
          "output_type": "stream",
          "name": "stdout",
          "text": [
            "\n",
            "      Epoch    GPU_mem   box_loss   cls_loss   dfl_loss  Instances       Size\n"
          ]
        },
        {
          "output_type": "stream",
          "name": "stderr",
          "text": [
            "      36/80      4.21G       1.49     0.8883      1.236        289        640: 100%|██████████| 85/85 [00:57<00:00,  1.48it/s]\n",
            "                 Class     Images  Instances      Box(P          R      mAP50  mAP50-95): 100%|██████████| 11/11 [00:07<00:00,  1.54it/s]"
          ]
        },
        {
          "output_type": "stream",
          "name": "stdout",
          "text": [
            "                   all        266       2497      0.843      0.687      0.742      0.453\n"
          ]
        },
        {
          "output_type": "stream",
          "name": "stderr",
          "text": [
            "\n"
          ]
        },
        {
          "output_type": "stream",
          "name": "stdout",
          "text": [
            "\n",
            "      Epoch    GPU_mem   box_loss   cls_loss   dfl_loss  Instances       Size\n"
          ]
        },
        {
          "output_type": "stream",
          "name": "stderr",
          "text": [
            "      37/80      4.21G      1.487     0.8899      1.233        369        640: 100%|██████████| 85/85 [00:56<00:00,  1.49it/s]\n",
            "                 Class     Images  Instances      Box(P          R      mAP50  mAP50-95): 100%|██████████| 11/11 [00:05<00:00,  2.14it/s]"
          ]
        },
        {
          "output_type": "stream",
          "name": "stdout",
          "text": [
            "                   all        266       2497      0.906      0.604       0.72      0.412\n"
          ]
        },
        {
          "output_type": "stream",
          "name": "stderr",
          "text": [
            "\n"
          ]
        },
        {
          "output_type": "stream",
          "name": "stdout",
          "text": [
            "\n",
            "      Epoch    GPU_mem   box_loss   cls_loss   dfl_loss  Instances       Size\n"
          ]
        },
        {
          "output_type": "stream",
          "name": "stderr",
          "text": [
            "      38/80      4.21G      1.492     0.8811       1.23        273        640: 100%|██████████| 85/85 [00:56<00:00,  1.49it/s]\n",
            "                 Class     Images  Instances      Box(P          R      mAP50  mAP50-95): 100%|██████████| 11/11 [00:05<00:00,  1.87it/s]"
          ]
        },
        {
          "output_type": "stream",
          "name": "stdout",
          "text": [
            "                   all        266       2497      0.899      0.605       0.73      0.417\n"
          ]
        },
        {
          "output_type": "stream",
          "name": "stderr",
          "text": [
            "\n"
          ]
        },
        {
          "output_type": "stream",
          "name": "stdout",
          "text": [
            "\n",
            "      Epoch    GPU_mem   box_loss   cls_loss   dfl_loss  Instances       Size\n"
          ]
        },
        {
          "output_type": "stream",
          "name": "stderr",
          "text": [
            "      39/80      4.21G       1.46     0.8677      1.218        270        640: 100%|██████████| 85/85 [00:57<00:00,  1.49it/s]\n",
            "                 Class     Images  Instances      Box(P          R      mAP50  mAP50-95): 100%|██████████| 11/11 [00:04<00:00,  2.28it/s]"
          ]
        },
        {
          "output_type": "stream",
          "name": "stdout",
          "text": [
            "                   all        266       2497      0.932      0.629      0.739      0.484\n"
          ]
        },
        {
          "output_type": "stream",
          "name": "stderr",
          "text": [
            "\n"
          ]
        },
        {
          "output_type": "stream",
          "name": "stdout",
          "text": [
            "\n",
            "      Epoch    GPU_mem   box_loss   cls_loss   dfl_loss  Instances       Size\n"
          ]
        },
        {
          "output_type": "stream",
          "name": "stderr",
          "text": [
            "      40/80      4.21G      1.461     0.8666      1.218        271        640: 100%|██████████| 85/85 [00:56<00:00,  1.50it/s]\n",
            "                 Class     Images  Instances      Box(P          R      mAP50  mAP50-95): 100%|██████████| 11/11 [00:05<00:00,  2.06it/s]"
          ]
        },
        {
          "output_type": "stream",
          "name": "stdout",
          "text": [
            "                   all        266       2497      0.912       0.65       0.74       0.44\n"
          ]
        },
        {
          "output_type": "stream",
          "name": "stderr",
          "text": [
            "\n"
          ]
        },
        {
          "output_type": "stream",
          "name": "stdout",
          "text": [
            "\n",
            "      Epoch    GPU_mem   box_loss   cls_loss   dfl_loss  Instances       Size\n"
          ]
        },
        {
          "output_type": "stream",
          "name": "stderr",
          "text": [
            "      41/80      4.21G      1.452     0.8592       1.22        223        640: 100%|██████████| 85/85 [00:58<00:00,  1.46it/s]\n",
            "                 Class     Images  Instances      Box(P          R      mAP50  mAP50-95): 100%|██████████| 11/11 [00:04<00:00,  2.25it/s]"
          ]
        },
        {
          "output_type": "stream",
          "name": "stdout",
          "text": [
            "                   all        266       2497      0.853      0.682      0.746      0.463\n"
          ]
        },
        {
          "output_type": "stream",
          "name": "stderr",
          "text": [
            "\n"
          ]
        },
        {
          "output_type": "stream",
          "name": "stdout",
          "text": [
            "\n",
            "      Epoch    GPU_mem   box_loss   cls_loss   dfl_loss  Instances       Size\n"
          ]
        },
        {
          "output_type": "stream",
          "name": "stderr",
          "text": [
            "      42/80      4.21G      1.459     0.8545      1.224        383        640:  94%|█████████▍| 80/85 [00:53<00:03,  1.30it/s]"
          ]
        }
      ]
    },
    {
      "cell_type": "code",
      "source": [
        "#Train AABB Model :\n",
        "import os\n",
        "import shutil\n",
        "import yaml\n",
        "\n",
        "# Define the class labels\n",
        "class_labels = {\n",
        "    0: \"Car\",\n",
        "    1: \"Bus\",\n",
        "    2: \"Truck\"\n",
        "}\n",
        "\n",
        "# Define paths\n",
        "source_images_path = '/content/dataset/images'\n",
        "source_labels_path = '/content/dataset/labels'\n",
        "target_dataset_path = '/content/dataset_AABB'\n",
        "target_images_path = os.path.join(target_dataset_path, 'images')\n",
        "target_labels_path = os.path.join(target_dataset_path, 'labels')\n",
        "\n",
        "# Create the target directories\n",
        "os.makedirs(target_images_path, exist_ok=True)\n",
        "os.makedirs(target_labels_path, exist_ok=True)\n",
        "\n",
        "# Function to convert OBB (Oriented Bounding Box) to AABB (Axis-Aligned Bounding Box)\n",
        "def convert_obb_to_aabb(obb_annotation):\n",
        "    # Extract values from OBB annotation (class_index x1 y1 x2 y2 x3 y3 x4 y4)\n",
        "    class_index, *coordinates = map(float, obb_annotation.split())\n",
        "\n",
        "    # Assuming the annotation is for a rectangular box and the points are ordered:\n",
        "    # We calculate the bounding box coordinates as (center_x, center_y, width, height)\n",
        "    x_coords = coordinates[::2]  # x1, x2, x3, x4\n",
        "    y_coords = coordinates[1::2]  # y1, y2, y3, y4\n",
        "\n",
        "    # Find the bounding box coordinates\n",
        "    min_x, max_x = min(x_coords), max(x_coords)\n",
        "    min_y, max_y = min(y_coords), max(y_coords)\n",
        "\n",
        "    # Calculate center_x, center_y, width, height\n",
        "    center_x = (min_x + max_x) / 2\n",
        "    center_y = (min_y + max_y) / 2\n",
        "    width = max_x - min_x\n",
        "    height = max_y - min_y\n",
        "\n",
        "    # Convert to YOLO format: class_id center_x center_y width height\n",
        "    return f\"{int(class_index)} {center_x} {center_y} {width} {height}\"\n",
        "\n",
        "# Function to copy and convert labels\n",
        "def process_labels_and_copy(source_labels_path, target_labels_path):\n",
        "    # Walk through the labels directory\n",
        "    for label_file in os.listdir(source_labels_path):\n",
        "        label_path = os.path.join(source_labels_path, label_file)\n",
        "\n",
        "        # Read and convert the annotations for each label file\n",
        "        with open(label_path, 'r') as file:\n",
        "            lines = file.readlines()\n",
        "\n",
        "        # Create a new file with converted annotations\n",
        "        with open(os.path.join(target_labels_path, label_file), 'w') as new_file:\n",
        "            for line in lines:\n",
        "                new_file.write(convert_obb_to_aabb(line) + '\\n')\n",
        "\n",
        "# Copy images and labels to the new dataset_AABB directory\n",
        "def copy_images_and_labels(source_images_path, target_images_path, target_labels_path):\n",
        "    # Copy all subdirectories (train, val, test)\n",
        "    for subdir in ['train', 'test', 'val']:\n",
        "        source_subdir = os.path.join(source_images_path, subdir)\n",
        "        target_subdir = os.path.join(target_images_path, subdir)\n",
        "        shutil.copytree(source_subdir, target_subdir)\n",
        "\n",
        "    # Process and copy labels\n",
        "    process_labels_and_copy(source_labels_path, target_labels_path)\n",
        "\n",
        "# Create the YAML file for the dataset\n",
        "def create_yaml_file(target_dataset_path, class_labels):\n",
        "    dataset_yaml = {\n",
        "        'train': '/content/dataset_AABB/images/train',  # Path to training images\n",
        "        'val': '/content/dataset_AABB/images/val',      # Path to validation images\n",
        "        'test': '/content/dataset_AABB/images/test',    # Path to test images\n",
        "        'nc': len(class_labels),                       # Number of classes\n",
        "        'names': list(class_labels.values())           # List of class names\n",
        "    }\n",
        "\n",
        "    yaml_path = os.path.join(target_dataset_path, 'dataset.yaml')\n",
        "\n",
        "    # Write the dataset YAML to the file\n",
        "    with open(yaml_path, 'w') as file:\n",
        "        yaml.dump(dataset_yaml, file)\n",
        "\n",
        "    print(f\"Dataset YAML file created at {yaml_path}\")\n",
        "\n",
        "# Main function to run all tasks\n",
        "def main():\n",
        "    # Create the target directory structure\n",
        "    os.makedirs(target_dataset_path, exist_ok=True)\n",
        "\n",
        "    # Copy images and labels\n",
        "    copy_images_and_labels(source_images_path, target_images_path, target_labels_path)\n",
        "\n",
        "    # Create the YAML file\n",
        "    create_yaml_file(target_dataset_path, class_labels)\n",
        "\n",
        "# Run the main function\n",
        "main()\n"
      ],
      "metadata": {
        "id": "hie6A51tpcB2"
      },
      "execution_count": null,
      "outputs": []
    }
  ]
}